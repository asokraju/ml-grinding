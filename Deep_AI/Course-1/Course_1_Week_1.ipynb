{
  "nbformat": 4,
  "nbformat_minor": 0,
  "metadata": {
    "colab": {
      "name": "Course 1 - Week 1",
      "provenance": [],
      "authorship_tag": "ABX9TyP3Zkj6CYR+uHTRqXvzDlwz",
      "include_colab_link": true
    },
    "kernelspec": {
      "name": "python3",
      "display_name": "Python 3"
    }
  },
  "cells": [
    {
      "cell_type": "markdown",
      "metadata": {
        "id": "view-in-github",
        "colab_type": "text"
      },
      "source": [
        "<a href=\"https://colab.research.google.com/github/asokraju/ml-grinding/blob/master/Deep_AI/Course-1/Course_1_Week_1.ipynb\" target=\"_parent\"><img src=\"https://colab.research.google.com/assets/colab-badge.svg\" alt=\"Open In Colab\"/></a>"
      ]
    },
    {
      "cell_type": "markdown",
      "metadata": {
        "id": "Nku7BTOI0YRP"
      },
      "source": [
        "#Introduction to TensorFlow for Artificial Intelligence, Machine Learning, and Deep Learning\n",
        "\n",
        "Course 1 - Part 2 - Lesson 2\n"
      ]
    },
    {
      "cell_type": "code",
      "metadata": {
        "id": "xVK6lldJz-n7"
      },
      "source": [
        "import tensorflow as tf\n",
        "from tensorflow import keras\n",
        "import numpy as np\n"
      ],
      "execution_count": null,
      "outputs": []
    },
    {
      "cell_type": "code",
      "metadata": {
        "id": "CJhVbIvG0o6c"
      },
      "source": [
        "model = keras.models.Sequential([keras.layers.Dense(units = 1, input_shape = [1])])"
      ],
      "execution_count": null,
      "outputs": []
    },
    {
      "cell_type": "code",
      "metadata": {
        "id": "e9PQoF071SJV"
      },
      "source": [
        "x =np.array([ 1, 2, 3, 4, 5, 6, 7, 8, 9], dtype = float)\n",
        "y = 2*x+1"
      ],
      "execution_count": null,
      "outputs": []
    },
    {
      "cell_type": "code",
      "metadata": {
        "id": "K0QPV4A91dof"
      },
      "source": [
        "model.compile(optimizer = 'sgd', loss = 'mean_squared_error')"
      ],
      "execution_count": null,
      "outputs": []
    },
    {
      "cell_type": "code",
      "metadata": {
        "id": "05LX8p6U1pzn"
      },
      "source": [
        "model.fit(x,y, epochs= 500)"
      ],
      "execution_count": null,
      "outputs": []
    },
    {
      "cell_type": "code",
      "metadata": {
        "id": "me___-fb1tsk",
        "colab": {
          "base_uri": "https://localhost:8080/",
          "height": 34
        },
        "outputId": "7487e897-e970-4f2a-97fd-22f298d74874"
      },
      "source": [
        "model.predict([10.0])"
      ],
      "execution_count": null,
      "outputs": [
        {
          "output_type": "execute_result",
          "data": {
            "text/plain": [
              "array([[21.053528]], dtype=float32)"
            ]
          },
          "metadata": {
            "tags": []
          },
          "execution_count": 10
        }
      ]
    },
    {
      "cell_type": "markdown",
      "metadata": {
        "id": "fOOfWxtnBeWM"
      },
      "source": [
        "#Exercise:\n",
        "Housing model"
      ]
    },
    {
      "cell_type": "code",
      "metadata": {
        "id": "Xjc8PjAn14I3"
      },
      "source": [
        "model = keras.models.Sequential([keras.layers.Dense(units = 1, input_shape = [1])])\n",
        "model.compile(optimizer = 'sgd', loss = 'mean_squared_error')\n",
        "xs = np.array([1,2,3,4,5,6], dtype = float)# Your Code Here#\n",
        "ys = np.array([1,1.5,2,2.5,3,3.5], dtype = float)# Your Code Here#\n",
        "model.fit(x = xs, y = ys, epochs = 500)\n",
        "print(model.predict([7.0]))"
      ],
      "execution_count": null,
      "outputs": []
    },
    {
      "cell_type": "code",
      "metadata": {
        "id": "PwaNMsQyBjZa"
      },
      "source": [
        ""
      ],
      "execution_count": null,
      "outputs": []
    }
  ]
}