{
  "nbformat": 4,
  "nbformat_minor": 0,
  "metadata": {
    "colab": {
      "name": "Course 1 - week 2.ipynb",
      "provenance": [],
      "authorship_tag": "ABX9TyOUcrP1ylaRVQSUxCmkDb07",
      "include_colab_link": true
    },
    "kernelspec": {
      "name": "python3",
      "display_name": "Python 3"
    }
  },
  "cells": [
    {
      "cell_type": "markdown",
      "metadata": {
        "id": "view-in-github",
        "colab_type": "text"
      },
      "source": [
        "<a href=\"https://colab.research.google.com/github/asokraju/ml-grinding/blob/master/Deep_AI/Course-1/Course_1_week_2.ipynb\" target=\"_parent\"><img src=\"https://colab.research.google.com/assets/colab-badge.svg\" alt=\"Open In Colab\"/></a>"
      ]
    },
    {
      "cell_type": "code",
      "metadata": {
        "id": "GWnGbw62MYwY"
      },
      "source": [
        "import tensorflow as tf\n",
        "from tensorflow import keras\n",
        "\n",
        "import numpy as np\n",
        "import matplotlib.pyplot as plt\n"
      ],
      "execution_count": null,
      "outputs": []
    },
    {
      "cell_type": "code",
      "metadata": {
        "id": "SEdaybOiMhcN",
        "colab": {
          "base_uri": "https://localhost:8080/",
          "height": 405
        },
        "outputId": "2e1a8279-e782-4ea9-c337-abec6c704b27"
      },
      "source": [
        "fashin_dataset = keras.datasets.fashion_mnist\n",
        "\n",
        "(train_img, train_lab), (test_img, test_lab) = fashin_dataset.load_data()\n",
        "plt.imshow(train_img[0])\n",
        "\n",
        "train_img = train_img/255.0\n",
        "test_img = test_img/255.0"
      ],
      "execution_count": null,
      "outputs": [
        {
          "output_type": "stream",
          "text": [
            "Downloading data from https://storage.googleapis.com/tensorflow/tf-keras-datasets/train-labels-idx1-ubyte.gz\n",
            "32768/29515 [=================================] - 0s 0us/step\n",
            "Downloading data from https://storage.googleapis.com/tensorflow/tf-keras-datasets/train-images-idx3-ubyte.gz\n",
            "26427392/26421880 [==============================] - 0s 0us/step\n",
            "Downloading data from https://storage.googleapis.com/tensorflow/tf-keras-datasets/t10k-labels-idx1-ubyte.gz\n",
            "8192/5148 [===============================================] - 0s 0us/step\n",
            "Downloading data from https://storage.googleapis.com/tensorflow/tf-keras-datasets/t10k-images-idx3-ubyte.gz\n",
            "4423680/4422102 [==============================] - 0s 0us/step\n"
          ],
          "name": "stdout"
        },
        {
          "output_type": "display_data",
          "data": {
            "image/png": "[encoded data removed]",
            "text/plain": [
              "<Figure size 432x288 with 1 Axes>"
            ]
          },
          "metadata": {
            "tags": [],
            "needs_background": "light"
          }
        }
      ]
    },
    {
      "cell_type": "code",
      "metadata": {
        "id": "VX8whGkwQY-g",
        "colab": {
          "base_uri": "https://localhost:8080/",
          "height": 34
        },
        "outputId": "ec869284-422b-43ee-e875-e2cfc39ba81d"
      },
      "source": [
        "np.shape(train_img)"
      ],
      "execution_count": null,
      "outputs": [
        {
          "output_type": "execute_result",
          "data": {
            "text/plain": [
              "(60000, 28, 28)"
            ]
          },
          "metadata": {
            "tags": []
          },
          "execution_count": 11
        }
      ]
    },
    {
      "cell_type": "code",
      "metadata": {
        "id": "0Fk7pGmpM-jv",
        "colab": {
          "base_uri": "https://localhost:8080/",
          "height": 227
        },
        "outputId": "a4406f03-ab0c-442f-a68c-b70af2d79630"
      },
      "source": [
        "model = keras.Sequential([\n",
        "                          keras.layers.Flatten(input_shape = (28,28)),\n",
        "                          keras.layers.Dense(units = 128, activation=tf.nn.relu),\n",
        "                          keras.layers.Dense(units=10, activation=tf.nn.softmax)\n",
        "])\n",
        "model.compile(optimizer= 'adam', loss = 'sparse_categorical_crossentropy', metrics=['accuracy'])\n",
        "model.fit(x = train_img, y = train_lab, epochs = 5)\n",
        "model.evaluate(test_img, test_lab)\n"
      ],
      "execution_count": null,
      "outputs": [
        {
          "output_type": "stream",
          "text": [
            "Epoch 1/5\n",
            "1875/1875 [==============================] - 4s 2ms/step - loss: 0.4962 - accuracy: 0.8263\n",
            "Epoch 2/5\n",
            "1875/1875 [==============================] - 4s 2ms/step - loss: 0.3718 - accuracy: 0.8667\n",
            "Epoch 3/5\n",
            "1875/1875 [==============================] - 4s 2ms/step - loss: 0.3352 - accuracy: 0.8782\n",
            "Epoch 4/5\n",
            "1875/1875 [==============================] - 4s 2ms/step - loss: 0.3117 - accuracy: 0.8860\n",
            "Epoch 5/5\n",
            "1875/1875 [==============================] - 4s 2ms/step - loss: 0.2928 - accuracy: 0.8936\n",
            "313/313 [==============================] - 0s 1ms/step - loss: 0.3576 - accuracy: 0.8707\n"
          ],
          "name": "stdout"
        },
        {
          "output_type": "execute_result",
          "data": {
            "text/plain": [
              "[0.35758113861083984, 0.8707000017166138]"
            ]
          },
          "metadata": {
            "tags": []
          },
          "execution_count": 15
        }
      ]
    },
    {
      "cell_type": "markdown",
      "metadata": {
        "id": "JjXoRSeISbxN"
      },
      "source": [
        "#Ex - 1"
      ]
    },
    {
      "cell_type": "code",
      "metadata": {
        "id": "9QcOfA6ePFPS",
        "colab": {
          "base_uri": "https://localhost:8080/",
          "height": 52
        },
        "outputId": "08340974-24d0-49a2-ee59-71d23004f37b"
      },
      "source": [
        "classifications  = model.predict(test_img)\n",
        "print(classifications[0])"
      ],
      "execution_count": null,
      "outputs": [
        {
          "output_type": "stream",
          "text": [
            "[6.1153405e-06 2.3621208e-08 2.0439509e-06 2.5530301e-07 8.0297553e-07\n",
            " 2.7108530e-03 2.9657755e-05 8.4402207e-03 7.3762727e-05 9.8873621e-01]\n"
          ],
          "name": "stdout"
        }
      ]
    },
    {
      "cell_type": "code",
      "metadata": {
        "id": "r2ZBoHMHSnUo",
        "colab": {
          "base_uri": "https://localhost:8080/",
          "height": 34
        },
        "outputId": "fc043ab6-ce7c-48d6-929f-c7cbda612a02"
      },
      "source": [
        "np.shape(test_img[0])"
      ],
      "execution_count": null,
      "outputs": [
        {
          "output_type": "execute_result",
          "data": {
            "text/plain": [
              "(28, 28)"
            ]
          },
          "metadata": {
            "tags": []
          },
          "execution_count": 19
        }
      ]
    },
    {
      "cell_type": "code",
      "metadata": {
        "id": "_TrYjSAMSuXX",
        "colab": {
          "base_uri": "https://localhost:8080/",
          "height": 244
        },
        "outputId": "55078c6c-5315-4399-8fb5-3bc30166a5f6"
      },
      "source": [
        "model.predict(test_img)"
      ],
      "execution_count": null,
      "outputs": [
        {
          "output_type": "execute_result",
          "data": {
            "text/plain": [
              "array([[6.11534051e-06, 2.36212081e-08, 2.04395087e-06, ...,\n",
              "        8.44022073e-03, 7.37627270e-05, 9.88736212e-01],\n",
              "       [1.20071982e-05, 4.00774379e-12, 9.98135805e-01, ...,\n",
              "        5.77841451e-18, 1.16377130e-08, 2.84569358e-14],\n",
              "       [1.69811938e-05, 9.99955177e-01, 4.01135452e-07, ...,\n",
              "        3.02826942e-15, 1.01019175e-08, 2.10941060e-13],\n",
              "       ...,\n",
              "       [9.25986315e-05, 3.09130443e-10, 8.17980763e-05, ...,\n",
              "        1.22247601e-09, 9.99699593e-01, 5.89866558e-11],\n",
              "       [8.19601701e-05, 9.97313082e-01, 4.89815784e-06, ...,\n",
              "        9.59263335e-10, 4.99723319e-06, 5.93738996e-08],\n",
              "       [9.79456934e-04, 4.85188957e-06, 1.17028609e-03, ...,\n",
              "        1.46049066e-02, 1.53345857e-02, 1.19331270e-03]], dtype=float32)"
            ]
          },
          "metadata": {
            "tags": []
          },
          "execution_count": 22
        }
      ]
    },
    {
      "cell_type": "code",
      "metadata": {
        "id": "nXCNSTSHS2hl"
      },
      "source": [
        "model1 = keras.models.Sequential([\n",
        "                                  keras.layers.Flatten(),\n",
        "                                  keras.layers.Dense(1024, activation='relu'),\n",
        "                                  keras.layers.Dense(10, activation='softmax')\n",
        "])"
      ],
      "execution_count": null,
      "outputs": []
    },
    {
      "cell_type": "code",
      "metadata": {
        "id": "CvVjw0FPUEDL",
        "colab": {
          "base_uri": "https://localhost:8080/",
          "height": 262
        },
        "outputId": "9bbbba7e-055b-483e-c991-6d2a106b0a6a"
      },
      "source": [
        "model1.compile(optimizer='adam', \n",
        "               loss = 'sparse_categorical_crossentropy', \n",
        "               metrics = ['accuracy'])\n",
        "model1.fit(x = train_img, y = train_lab, epochs= 5)\n",
        "model1.evaluate(test_img, test_lab)\n",
        "classifications = model1.predict(test_img)\n",
        "\n",
        "print(classifications[0])\n",
        "print(test_lab[0])"
      ],
      "execution_count": null,
      "outputs": [
        {
          "output_type": "stream",
          "text": [
            "Epoch 1/5\n",
            "1875/1875 [==============================] - 13s 7ms/step - loss: 0.2128 - accuracy: 0.9193\n",
            "Epoch 2/5\n",
            "1875/1875 [==============================] - 13s 7ms/step - loss: 0.2039 - accuracy: 0.9238\n",
            "Epoch 3/5\n",
            "1875/1875 [==============================] - 13s 7ms/step - loss: 0.1952 - accuracy: 0.9255\n",
            "Epoch 4/5\n",
            "1875/1875 [==============================] - 13s 7ms/step - loss: 0.1903 - accuracy: 0.9273\n",
            "Epoch 5/5\n",
            "1875/1875 [==============================] - 15s 8ms/step - loss: 0.1861 - accuracy: 0.9304\n",
            "313/313 [==============================] - 1s 3ms/step - loss: 0.3626 - accuracy: 0.8824\n",
            "[1.1997221e-10 1.6095237e-13 1.2637474e-12 3.8686007e-14 8.9542024e-13\n",
            " 1.7455489e-04 2.9410085e-12 1.5801914e-03 1.6163335e-11 9.9824524e-01]\n",
            "9\n"
          ],
          "name": "stdout"
        }
      ]
    },
    {
      "cell_type": "markdown",
      "metadata": {
        "id": "wsNJ27XoU531"
      },
      "source": [
        "#Ex - 3"
      ]
    },
    {
      "cell_type": "code",
      "metadata": {
        "id": "9FeLXEVXUbBv",
        "colab": {
          "base_uri": "https://localhost:8080/",
          "height": 52
        },
        "outputId": "ba137b24-9dce-48aa-bca3-3718c888e9ab"
      },
      "source": [
        "model_2 = keras.models.Sequential([\n",
        "                                   keras.layers.Dense(64, activation='relu'),\n",
        "                                   keras.layers.Dense(10, activation='softmax')\n",
        "])\n",
        "model_2.compile(optimizer = 'adam', \n",
        "                loss = 'sparse_categorical_crossentropy', \n",
        "                metrics = ['accuracy'])\n",
        "\n",
        "\n",
        "try:\n",
        "    model_2.fit(x = train_img, y = train_lab, epochs=5)\n",
        "    model.evaluate(test_img, test_lab)\n",
        "    classifications = model.predict(test_img)\n",
        "    print(classifications[0])\n",
        "    print(test_labels[0])\n",
        "except:\n",
        "    print(\"An exception occurred\")"
      ],
      "execution_count": null,
      "outputs": [
        {
          "output_type": "stream",
          "text": [
            "Epoch 1/5\n",
            "An exception occurred\n"
          ],
          "name": "stdout"
        }
      ]
    },
    {
      "cell_type": "markdown",
      "metadata": {
        "id": "kV9z4D2RYLIG"
      },
      "source": [
        ""
      ]
    },
    {
      "cell_type": "code",
      "metadata": {
        "id": "j-IRHmmHWmuf",
        "colab": {
          "base_uri": "https://localhost:8080/",
          "height": 209
        },
        "outputId": "3e32abe1-4fa1-4771-a54b-46878e028b36"
      },
      "source": [
        "model_3 = keras.models.Sequential([\n",
        "                                   keras.layers.Flatten(),\n",
        "                                   keras.layers.Dense(512, activation='relu'),\n",
        "                                   keras.layers.Dense(256, activation='relu'),\n",
        "                                   keras.layers.Dense(10, activation = 'softmax')\n",
        "])\n",
        "model_3.compile(optimizer = 'adam',\n",
        "                loss = 'sparse_categorical_crossentropy',\n",
        "                metrics = ['accuracy'])\n",
        "model_3.fit(x = train_img, y= train_lab, epochs=5)"
      ],
      "execution_count": null,
      "outputs": [
        {
          "output_type": "stream",
          "text": [
            "Epoch 1/5\n",
            "1875/1875 [==============================] - 11s 6ms/step - loss: 0.4699 - accuracy: 0.8285\n",
            "Epoch 2/5\n",
            "1875/1875 [==============================] - 10s 6ms/step - loss: 0.3554 - accuracy: 0.8701\n",
            "Epoch 3/5\n",
            "1875/1875 [==============================] - 10s 6ms/step - loss: 0.3201 - accuracy: 0.8808\n",
            "Epoch 4/5\n",
            "1875/1875 [==============================] - 10s 6ms/step - loss: 0.2940 - accuracy: 0.8900\n",
            "Epoch 5/5\n",
            "1875/1875 [==============================] - 11s 6ms/step - loss: 0.2767 - accuracy: 0.8965\n"
          ],
          "name": "stdout"
        },
        {
          "output_type": "execute_result",
          "data": {
            "text/plain": [
              "<tensorflow.python.keras.callbacks.History at 0x7fa857d4d0f0>"
            ]
          },
          "metadata": {
            "tags": []
          },
          "execution_count": 43
        }
      ]
    },
    {
      "cell_type": "code",
      "metadata": {
        "id": "3HOxc5-_Y0Fc",
        "colab": {
          "base_uri": "https://localhost:8080/",
          "height": 87
        },
        "outputId": "0c2f3807-f9e3-442d-e81f-4c5b8d01d15e"
      },
      "source": [
        "model.evaluate(test_img, test_lab)\n",
        "\n",
        "classifications = model.predict(test_img)\n",
        "\n",
        "print(classifications[0])\n",
        "print(test_lab[0])"
      ],
      "execution_count": null,
      "outputs": [
        {
          "output_type": "stream",
          "text": [
            "313/313 [==============================] - 0s 1ms/step - loss: 0.3576 - accuracy: 0.8707\n",
            "[6.1153405e-06 2.3621208e-08 2.0439509e-06 2.5530301e-07 8.0297553e-07\n",
            " 2.7108530e-03 2.9657755e-05 8.4402207e-03 7.3762727e-05 9.8873621e-01]\n",
            "9\n"
          ],
          "name": "stdout"
        }
      ]
    },
    {
      "cell_type": "markdown",
      "metadata": {
        "id": "JS-l0jmsZxnX"
      },
      "source": [
        "#Ex- 7"
      ]
    },
    {
      "cell_type": "code",
      "metadata": {
        "id": "496ZyAvwZbGj",
        "colab": {
          "base_uri": "https://localhost:8080/",
          "height": 229
        },
        "outputId": "93bb927f-8214-42c9-ed93-150ee5af5655"
      },
      "source": [
        "minst  = keras.datasets.mnist\n",
        "(train_img, train_lab), (test_img, test_lab) = minst.load_data()\n",
        "train_img_scaled = train_img/255.0\n",
        "test_img_scaled = test_img/255.0\n",
        "model = keras.models.Sequential([\n",
        "                                 keras.layers.Flatten(),\n",
        "                                 keras.layers.Dense(512, activation='relu'),\n",
        "                                 keras.layers.Dense(10, activation='softmax')\n",
        "])\n",
        "model.compile(optimizer = 'adam', \n",
        "              loss = 'sparse_categorical_crossentropy', \n",
        "              metrics = ['accuracy', tf.keras.metrics.CategoricalAccuracy()])\n",
        "model.fit(x= train_img_scaled, y = train_lab, epochs=5)\n",
        "\n"
      ],
      "execution_count": null,
      "outputs": [
        {
          "output_type": "stream",
          "text": [
            "Epoch 1/5\n",
            "1875/1875 [==============================] - 8s 4ms/step - loss: 0.2002 - accuracy: 0.9410 - categorical_accuracy: 0.0991\n",
            "Epoch 2/5\n",
            "1875/1875 [==============================] - 8s 4ms/step - loss: 0.0805 - accuracy: 0.9758 - categorical_accuracy: 0.0988\n",
            "Epoch 3/5\n",
            "1875/1875 [==============================] - 9s 5ms/step - loss: 0.0512 - accuracy: 0.9842 - categorical_accuracy: 0.0990\n",
            "Epoch 4/5\n",
            "1875/1875 [==============================] - 9s 5ms/step - loss: 0.0349 - accuracy: 0.9889 - categorical_accuracy: 0.0989\n",
            "Epoch 5/5\n",
            "1875/1875 [==============================] - 9s 5ms/step - loss: 0.0284 - accuracy: 0.9905 - categorical_accuracy: 0.0988\n"
          ],
          "name": "stdout"
        },
        {
          "output_type": "execute_result",
          "data": {
            "text/plain": [
              "<tensorflow.python.keras.callbacks.History at 0x7fa851d650f0>"
            ]
          },
          "metadata": {
            "tags": []
          },
          "execution_count": 54
        }
      ]
    },
    {
      "cell_type": "code",
      "metadata": {
        "id": "qqtb2vLea2Jn",
        "colab": {
          "base_uri": "https://localhost:8080/",
          "height": 124
        },
        "outputId": "27701def-000e-4abd-ca2b-b2a891ce8d06"
      },
      "source": [
        "model.evaluate(test_img_scaled, test_lab)\n",
        "classifications = model.predict(test_img_scaled)\n",
        "print(classifications[0])\n",
        "print(test_labels[0])"
      ],
      "execution_count": null,
      "outputs": [
        {
          "output_type": "stream",
          "text": [
            "313/313 [==============================] - 1s 2ms/step - loss: 0.0647 - accuracy: 0.9809 - categorical_accuracy: 0.0987\n",
            "[8.10448320e-10 1.45485712e-09 1.92381471e-08 4.25353901e-05\n",
            " 2.85200683e-12 1.05091175e-07 3.84828058e-10 9.99956131e-01\n",
            " 5.85949991e-08 1.12214479e-06]\n",
            "7\n"
          ],
          "name": "stdout"
        }
      ]
    },
    {
      "cell_type": "markdown",
      "metadata": {
        "id": "Av5P8YCYcxd6"
      },
      "source": [
        "#Ex:8 - Callbacks"
      ]
    },
    {
      "cell_type": "code",
      "metadata": {
        "id": "96fTXebYcien",
        "colab": {
          "base_uri": "https://localhost:8080/",
          "height": 279
        },
        "outputId": "26f7bc4f-c2ae-4fc3-8a4a-000a5221e755"
      },
      "source": [
        "class myCallback(tf.keras.callbacks.Callback):\n",
        "    def on_epoch_end(self, epoch, logs = {}):\n",
        "        if (logs.get('accuracy')>0.9):\n",
        "            print(\"\\n Reached 90% accuracy so cancelling training!\")\n",
        "            self.model.stop_training = True\n",
        "\n",
        "callbacks = myCallback()\n",
        "minst = keras.datasets.fashion_mnist\n",
        "(train_img, train_lab), (test_img, test_lab) = minst.load_data()\n",
        "train_img = train_img/255.0\n",
        "test_img = test_img/255.0\n",
        "model = keras.models.Sequential([\n",
        "                                 keras.layers.Flatten(),\n",
        "                                 keras.layers.Dense(512, activation='relu'),\n",
        "                                 keras.layers.Dense(10, activation='softmax')\n",
        "])\n",
        "model.compile(loss = 'sparse_categorical_crossentropy',\n",
        "              optimizer = 'adam', \n",
        "              metrics = ['accuracy']\n",
        "              )\n",
        "model.fit(x = train_img, \n",
        "          y= train_lab,\n",
        "          epochs = 10,\n",
        "          callbacks =[callbacks])"
      ],
      "execution_count": null,
      "outputs": [
        {
          "output_type": "stream",
          "text": [
            "Epoch 1/10\n",
            "1875/1875 [==============================] - 8s 4ms/step - loss: 0.4736 - accuracy: 0.8319\n",
            "Epoch 2/10\n",
            "1875/1875 [==============================] - 8s 4ms/step - loss: 0.3604 - accuracy: 0.8684\n",
            "Epoch 3/10\n",
            "1875/1875 [==============================] - 8s 4ms/step - loss: 0.3226 - accuracy: 0.8811\n",
            "Epoch 4/10\n",
            "1875/1875 [==============================] - 8s 4ms/step - loss: 0.2997 - accuracy: 0.8902\n",
            "Epoch 5/10\n",
            "1875/1875 [==============================] - 8s 4ms/step - loss: 0.2806 - accuracy: 0.8967\n",
            "Epoch 6/10\n",
            "1874/1875 [============================>.] - ETA: 0s - loss: 0.2640 - accuracy: 0.9015\n",
            " Reached 60% accuracy so cancelling training!\n",
            "1875/1875 [==============================] - 8s 4ms/step - loss: 0.2641 - accuracy: 0.9014\n"
          ],
          "name": "stdout"
        },
        {
          "output_type": "execute_result",
          "data": {
            "text/plain": [
              "<tensorflow.python.keras.callbacks.History at 0x7fa851fa5208>"
            ]
          },
          "metadata": {
            "tags": []
          },
          "execution_count": 63
        }
      ]
    },
    {
      "cell_type": "code",
      "metadata": {
        "id": "3uRal7Vzfd_d",
        "colab": {
          "base_uri": "https://localhost:8080/",
          "height": 87
        },
        "outputId": "7cb1387d-967d-4ee4-d599-ea442e948987"
      },
      "source": [
        "model.evaluate(test_img_scaled, test_lab)\n",
        "classifications = model.predict(test_img_scaled)\n",
        "print(classifications[0])\n",
        "print(test_labels[0])"
      ],
      "execution_count": null,
      "outputs": [
        {
          "output_type": "stream",
          "text": [
            "313/313 [==============================] - 1s 2ms/step - loss: 4.2991 - accuracy: 0.1021\n",
            "[0.3203376  0.00040823 0.09168047 0.08952282 0.0238467  0.04180331\n",
            " 0.36485705 0.00117055 0.06168563 0.00468774]\n",
            "7\n"
          ],
          "name": "stdout"
        }
      ]
    },
    {
      "cell_type": "code",
      "metadata": {
        "id": "9cyGuVzugOOF"
      },
      "source": [
        "import tensorflow as tf\n",
        "from os import path, getcwd, chdir\n",
        "\n",
        "# DO NOT CHANGE THE LINE BELOW. If you are developing in a local\n",
        "# environment, then grab mnist.npz from the Coursera Jupyter Notebook\n",
        "# and place it inside a local folder and edit the path to that location\n",
        "path = f\"{getcwd()}/../tmp2/mnist.npz\""
      ],
      "execution_count": null,
      "outputs": []
    },
    {
      "cell_type": "code",
      "metadata": {
        "id": "lVb62D-aifB-",
        "colab": {
          "base_uri": "https://localhost:8080/",
          "height": 34
        },
        "outputId": "90b9375a-1d09-4386-ed53-201e542f10f2"
      },
      "source": [
        "minst = keras.datasets.fashion_mnist\n",
        "(train_img, train_lab), (test_img, test_lab) = minst.load_data()\n",
        "train_img.shape"
      ],
      "execution_count": null,
      "outputs": [
        {
          "output_type": "execute_result",
          "data": {
            "text/plain": [
              "(60000, 28, 28)"
            ]
          },
          "metadata": {
            "tags": []
          },
          "execution_count": 4
        }
      ]
    },
    {
      "cell_type": "code",
      "metadata": {
        "id": "G2OCEQoRaVeO"
      },
      "source": [
        ""
      ],
      "execution_count": null,
      "outputs": []
    }
  ]
}