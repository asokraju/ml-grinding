{
  "nbformat": 4,
  "nbformat_minor": 0,
  "metadata": {
    "colab": {
      "name": "Course 2 - Week 2.ipynb",
      "provenance": [],
      "collapsed_sections": [],
      "authorship_tag": "ABX9TyMaplF1yzzKcass0IwJYK2I",
      "include_colab_link": true
    },
    "kernelspec": {
      "name": "python3",
      "display_name": "Python 3"
    },
    "accelerator": "GPU"
  },
  "cells": [
    {
      "cell_type": "markdown",
      "metadata": {
        "id": "view-in-github",
        "colab_type": "text"
      },
      "source": [
        "<a href=\"https://colab.research.google.com/github/asokraju/ml-grinding/blob/master/Deep_AI/Course-2/Course_2_Week_2.ipynb\" target=\"_parent\"><img src=\"https://colab.research.google.com/assets/colab-badge.svg\" alt=\"Open In Colab\"/></a>"
      ]
    },
    {
      "cell_type": "markdown",
      "metadata": {
        "id": "32iyjsWi_i2q"
      },
      "source": [
        "#imports"
      ]
    },
    {
      "cell_type": "code",
      "metadata": {
        "id": "EPXH4YtYuTW2",
        "colab": {
          "base_uri": "https://localhost:8080/",
          "height": 229
        },
        "outputId": "518c0a2d-8cbe-4176-9c8b-160d72722d26"
      },
      "source": [
        "import os\n",
        "import zipfile\n",
        "import tensorflow as tf\n",
        "from tensorflow.keras.optimizers import RMSprop\n",
        "from tensorflow.keras.preprocessing.image import ImageDataGenerator\n",
        "\n",
        "data_path = os.path.join('/content/sample_data', 'c2w2')\n",
        "train_dir = os.path.join(data_path, 'training')\n",
        "\n",
        "os.mkdir(data_path)"
      ],
      "execution_count": null,
      "outputs": [
        {
          "output_type": "stream",
          "text": [
            "--2020-07-28 14:01:31--  https://storage.googleapis.com/mledu-datasets/cats_and_dogs_filtered.zip\n",
            "Resolving storage.googleapis.com (storage.googleapis.com)... 108.177.97.128, 108.177.125.128, 64.233.188.128, ...\n",
            "Connecting to storage.googleapis.com (storage.googleapis.com)|108.177.97.128|:443... connected.\n",
            "HTTP request sent, awaiting response... 200 OK\n",
            "Length: 68606236 (65M) [application/zip]\n",
            "Saving to: ‘/tmp/cats_and_dogs_filtered.zip’\n",
            "\n",
            "/tmp/cats_and_dogs_ 100%[===================>]  65.43M   164MB/s    in 0.4s    \n",
            "\n",
            "2020-07-28 14:01:31 (164 MB/s) - ‘/tmp/cats_and_dogs_filtered.zip’ saved [68606236/68606236]\n",
            "\n"
          ],
          "name": "stdout"
        }
      ]
    },
    {
      "cell_type": "code",
      "metadata": {
        "id": "qGKfbC2pumPX",
        "colab": {
          "base_uri": "https://localhost:8080/",
          "height": 229
        },
        "outputId": "5b7fcd4c-fa4c-4c92-c90a-4f73b5834b6d"
      },
      "source": [
        "\n",
        "\n",
        "!wget --no-check-certificate \\\n",
        "    https://storage.googleapis.com/mledu-datasets/cats_and_dogs_filtered.zip \\\n",
        "    -O /content/sample_data/c2w2/cats_and_dogs_filtered.zip"
      ],
      "execution_count": null,
      "outputs": [
        {
          "output_type": "stream",
          "text": [
            "--2020-07-28 14:07:33--  https://storage.googleapis.com/mledu-datasets/cats_and_dogs_filtered.zip\n",
            "Resolving storage.googleapis.com (storage.googleapis.com)... 64.233.189.128, 108.177.97.128, 74.125.23.128, ...\n",
            "Connecting to storage.googleapis.com (storage.googleapis.com)|64.233.189.128|:443... connected.\n",
            "HTTP request sent, awaiting response... 200 OK\n",
            "Length: 68606236 (65M) [application/zip]\n",
            "Saving to: ‘/content/sample_data/c2w2/cats_and_dogs_filtered.zip’\n",
            "\n",
            "\r          /content/   0%[                    ]       0  --.-KB/s               \r         /content/s  74%[=============>      ]  48.95M   245MB/s               \r/content/sample_dat 100%[===================>]  65.43M   264MB/s    in 0.2s    \n",
            "\n",
            "2020-07-28 14:07:34 (264 MB/s) - ‘/content/sample_data/c2w2/cats_and_dogs_filtered.zip’ saved [68606236/68606236]\n",
            "\n"
          ],
          "name": "stdout"
        }
      ]
    },
    {
      "cell_type": "markdown",
      "metadata": {
        "id": "A5OM4sse_yfM"
      },
      "source": [
        "#unpacking data"
      ]
    },
    {
      "cell_type": "code",
      "metadata": {
        "id": "tRGOtG6ZvmcY"
      },
      "source": [
        "local_zip = '/content/sample_data/c2w2/cats_and_dogs_filtered.zip'\n",
        "zip_ref = zipfile.ZipFile(local_zip, 'r')\n",
        "#path = os.path.join(data_path, 'ex1')\n",
        "#os.mkdir(path)\n",
        "\n",
        "zip_ref.extractall(data_path)\n",
        "zip_ref.close()\n",
        "\n",
        "base_dir = os.path.join(data_path, 'cats_and_dogs_filtered')"
      ],
      "execution_count": null,
      "outputs": []
    },
    {
      "cell_type": "code",
      "metadata": {
        "id": "FpBRmUz7wvSm"
      },
      "source": [
        "train_dir = os.path.join(base_dir, 'train')\n",
        "test_dir = os.path.join(base_dir, 'validation')"
      ],
      "execution_count": null,
      "outputs": []
    },
    {
      "cell_type": "markdown",
      "metadata": {
        "id": "TzZM_RwO_1lU"
      },
      "source": [
        "#Model"
      ]
    },
    {
      "cell_type": "code",
      "metadata": {
        "id": "ansG_udcyl88"
      },
      "source": [
        "model = tf.keras.models.Sequential([\n",
        "    tf.keras.layers.Conv2D(32, (3,3), activation='relu', input_shape=(150, 150, 3)),\n",
        "    tf.keras.layers.MaxPooling2D(2, 2),\n",
        "    tf.keras.layers.Conv2D(64, (3,3), activation='relu'),\n",
        "    tf.keras.layers.MaxPooling2D(2,2),\n",
        "    tf.keras.layers.Conv2D(128, (3,3), activation='relu'),\n",
        "    tf.keras.layers.MaxPooling2D(2,2),\n",
        "    tf.keras.layers.Conv2D(128, (3,3), activation='relu'),\n",
        "    tf.keras.layers.MaxPooling2D(2,2),\n",
        "    tf.keras.layers.Flatten(),\n",
        "    tf.keras.layers.Dense(512, activation='relu'),\n",
        "    tf.keras.layers.Dense(1, activation='sigmoid')\n",
        "])\n",
        "model.compile(optimizer=RMSprop(lr = 0.0001),\n",
        "              loss = 'binary_crossentropy',\n",
        "              metrics = ['accuracy'])"
      ],
      "execution_count": null,
      "outputs": []
    },
    {
      "cell_type": "markdown",
      "metadata": {
        "id": "rAGGrElv_3IU"
      },
      "source": [
        "#Image data generator"
      ]
    },
    {
      "cell_type": "code",
      "metadata": {
        "id": "ZtxQl0m1ynBN"
      },
      "source": [
        "train_datagen = ImageDataGenerator(\n",
        "    rescale = 1./255,\n",
        "    rotation_range = 45,\n",
        "    width_shift_range = 0.2,\n",
        "    height_shift_range = 0.2,\n",
        "    shear_range = 0.2,\n",
        "    zoom_range = 0.2,\n",
        "    horizontal_flip = True,\n",
        "    fill_mode='nearest'\n",
        ")\n",
        "test_datagen = ImageDataGenerator(\n",
        "    rescale = 1./255,\n",
        "    rotation_range = 45,\n",
        "    width_shift_range = 0.2,\n",
        "    height_shift_range = 0.2,\n",
        "    shear_range = 0.2,\n",
        "    zoom_range = 0.2,\n",
        "    horizontal_flip = True,\n",
        "    fill_mode='nearest'\n",
        ")"
      ],
      "execution_count": null,
      "outputs": []
    },
    {
      "cell_type": "code",
      "metadata": {
        "id": "lU35fgZ-y9j1",
        "colab": {
          "base_uri": "https://localhost:8080/",
          "height": 1000
        },
        "outputId": "508a6afd-76d5-4975-e07d-148a555a3924"
      },
      "source": [
        "train_gen = train_datagen.flow_from_directory(directory=train_dir,\n",
        "                                              target_size = (150, 150),\n",
        "                                              class_mode = 'binary',\n",
        "                                              batch_size = 20)\n",
        "test_gen = test_datagen.flow_from_directory(directory=test_dir,\n",
        "                                            target_size = (150,150),\n",
        "                                            class_mode = 'binary',\n",
        "                                            batch_size = 20)\n",
        "# 2000 images = batch_size * steps\n",
        "history = model.fit(train_gen,\n",
        "                    steps_per_epoch = 100,\n",
        "                    epochs = 100,\n",
        "                    validation_data = test_gen,\n",
        "                    validation_steps = 50,\n",
        "                    verbose = 2\n",
        "                    )"
      ],
      "execution_count": null,
      "outputs": [
        {
          "output_type": "stream",
          "text": [
            "Found 2000 images belonging to 2 classes.\n",
            "Found 1000 images belonging to 2 classes.\n",
            "Epoch 1/100\n",
            "100/100 - 26s - loss: 0.4258 - accuracy: 0.8160 - val_loss: 0.5218 - val_accuracy: 0.7610\n",
            "Epoch 2/100\n",
            "100/100 - 26s - loss: 0.3832 - accuracy: 0.8245 - val_loss: 0.5739 - val_accuracy: 0.7430\n",
            "Epoch 3/100\n",
            "100/100 - 26s - loss: 0.3741 - accuracy: 0.8275 - val_loss: 0.6575 - val_accuracy: 0.7380\n",
            "Epoch 4/100\n",
            "100/100 - 26s - loss: 0.3845 - accuracy: 0.8300 - val_loss: 0.4880 - val_accuracy: 0.7790\n",
            "Epoch 5/100\n",
            "100/100 - 26s - loss: 0.3848 - accuracy: 0.8310 - val_loss: 0.5135 - val_accuracy: 0.7600\n",
            "Epoch 6/100\n",
            "100/100 - 26s - loss: 0.3747 - accuracy: 0.8290 - val_loss: 0.5082 - val_accuracy: 0.7600\n",
            "Epoch 7/100\n",
            "100/100 - 26s - loss: 0.3795 - accuracy: 0.8360 - val_loss: 0.4718 - val_accuracy: 0.7770\n",
            "Epoch 8/100\n",
            "100/100 - 26s - loss: 0.3819 - accuracy: 0.8320 - val_loss: 0.4704 - val_accuracy: 0.7850\n",
            "Epoch 9/100\n",
            "100/100 - 26s - loss: 0.3505 - accuracy: 0.8425 - val_loss: 0.5201 - val_accuracy: 0.7670\n",
            "Epoch 10/100\n",
            "100/100 - 26s - loss: 0.3711 - accuracy: 0.8360 - val_loss: 0.5980 - val_accuracy: 0.7260\n",
            "Epoch 11/100\n",
            "100/100 - 26s - loss: 0.3704 - accuracy: 0.8285 - val_loss: 0.5110 - val_accuracy: 0.7700\n",
            "Epoch 12/100\n",
            "100/100 - 26s - loss: 0.3544 - accuracy: 0.8370 - val_loss: 0.5329 - val_accuracy: 0.7610\n",
            "Epoch 13/100\n",
            "100/100 - 26s - loss: 0.3771 - accuracy: 0.8335 - val_loss: 0.4506 - val_accuracy: 0.7870\n",
            "Epoch 14/100\n",
            "100/100 - 26s - loss: 0.3648 - accuracy: 0.8405 - val_loss: 0.4528 - val_accuracy: 0.7820\n",
            "Epoch 15/100\n",
            "100/100 - 26s - loss: 0.3585 - accuracy: 0.8290 - val_loss: 0.4758 - val_accuracy: 0.7900\n",
            "Epoch 16/100\n",
            "100/100 - 26s - loss: 0.3297 - accuracy: 0.8390 - val_loss: 0.4924 - val_accuracy: 0.7880\n",
            "Epoch 17/100\n",
            "100/100 - 26s - loss: 0.3331 - accuracy: 0.8575 - val_loss: 0.5253 - val_accuracy: 0.7750\n",
            "Epoch 18/100\n",
            "100/100 - 25s - loss: 0.3553 - accuracy: 0.8445 - val_loss: 0.4637 - val_accuracy: 0.7820\n",
            "Epoch 19/100\n",
            "100/100 - 25s - loss: 0.3556 - accuracy: 0.8440 - val_loss: 0.5705 - val_accuracy: 0.7470\n",
            "Epoch 20/100\n",
            "100/100 - 25s - loss: 0.3425 - accuracy: 0.8520 - val_loss: 0.4950 - val_accuracy: 0.7840\n",
            "Epoch 21/100\n",
            "100/100 - 25s - loss: 0.3406 - accuracy: 0.8515 - val_loss: 0.4970 - val_accuracy: 0.7590\n",
            "Epoch 22/100\n",
            "100/100 - 25s - loss: 0.3381 - accuracy: 0.8500 - val_loss: 0.4342 - val_accuracy: 0.8080\n",
            "Epoch 23/100\n",
            "100/100 - 25s - loss: 0.3511 - accuracy: 0.8380 - val_loss: 0.4907 - val_accuracy: 0.7630\n",
            "Epoch 24/100\n",
            "100/100 - 25s - loss: 0.3402 - accuracy: 0.8580 - val_loss: 0.5513 - val_accuracy: 0.7750\n",
            "Epoch 25/100\n",
            "100/100 - 25s - loss: 0.3507 - accuracy: 0.8500 - val_loss: 0.4647 - val_accuracy: 0.7840\n",
            "Epoch 26/100\n",
            "100/100 - 26s - loss: 0.3352 - accuracy: 0.8480 - val_loss: 0.4841 - val_accuracy: 0.7720\n",
            "Epoch 27/100\n",
            "100/100 - 25s - loss: 0.3403 - accuracy: 0.8525 - val_loss: 0.5028 - val_accuracy: 0.7870\n",
            "Epoch 28/100\n",
            "100/100 - 25s - loss: 0.3514 - accuracy: 0.8460 - val_loss: 0.4566 - val_accuracy: 0.7960\n",
            "Epoch 29/100\n",
            "100/100 - 25s - loss: 0.3452 - accuracy: 0.8450 - val_loss: 0.4619 - val_accuracy: 0.7750\n",
            "Epoch 30/100\n",
            "100/100 - 25s - loss: 0.3355 - accuracy: 0.8490 - val_loss: 0.5569 - val_accuracy: 0.7800\n",
            "Epoch 31/100\n",
            "100/100 - 25s - loss: 0.3181 - accuracy: 0.8610 - val_loss: 0.4824 - val_accuracy: 0.7910\n",
            "Epoch 32/100\n",
            "100/100 - 25s - loss: 0.3495 - accuracy: 0.8380 - val_loss: 0.4609 - val_accuracy: 0.7980\n",
            "Epoch 33/100\n",
            "100/100 - 25s - loss: 0.3314 - accuracy: 0.8625 - val_loss: 0.4559 - val_accuracy: 0.7930\n",
            "Epoch 34/100\n",
            "100/100 - 24s - loss: 0.3141 - accuracy: 0.8675 - val_loss: 0.5139 - val_accuracy: 0.7710\n",
            "Epoch 35/100\n",
            "100/100 - 24s - loss: 0.3416 - accuracy: 0.8505 - val_loss: 0.4541 - val_accuracy: 0.7920\n",
            "Epoch 36/100\n",
            "100/100 - 24s - loss: 0.3143 - accuracy: 0.8650 - val_loss: 0.4857 - val_accuracy: 0.7800\n",
            "Epoch 37/100\n",
            "100/100 - 24s - loss: 0.3226 - accuracy: 0.8555 - val_loss: 0.5006 - val_accuracy: 0.7920\n",
            "Epoch 38/100\n",
            "100/100 - 25s - loss: 0.3344 - accuracy: 0.8535 - val_loss: 0.4525 - val_accuracy: 0.7910\n",
            "Epoch 39/100\n",
            "100/100 - 24s - loss: 0.3417 - accuracy: 0.8490 - val_loss: 0.4822 - val_accuracy: 0.7650\n",
            "Epoch 40/100\n",
            "100/100 - 25s - loss: 0.3285 - accuracy: 0.8625 - val_loss: 0.4610 - val_accuracy: 0.8020\n",
            "Epoch 41/100\n",
            "100/100 - 25s - loss: 0.3308 - accuracy: 0.8530 - val_loss: 0.4452 - val_accuracy: 0.7870\n",
            "Epoch 42/100\n",
            "100/100 - 25s - loss: 0.3350 - accuracy: 0.8490 - val_loss: 0.4838 - val_accuracy: 0.7790\n",
            "Epoch 43/100\n",
            "100/100 - 26s - loss: 0.3137 - accuracy: 0.8580 - val_loss: 0.4475 - val_accuracy: 0.8100\n",
            "Epoch 44/100\n",
            "100/100 - 25s - loss: 0.3005 - accuracy: 0.8730 - val_loss: 0.5051 - val_accuracy: 0.7750\n",
            "Epoch 45/100\n",
            "100/100 - 25s - loss: 0.3128 - accuracy: 0.8590 - val_loss: 0.5135 - val_accuracy: 0.7830\n",
            "Epoch 46/100\n",
            "100/100 - 25s - loss: 0.3004 - accuracy: 0.8760 - val_loss: 0.4823 - val_accuracy: 0.7770\n",
            "Epoch 47/100\n",
            "100/100 - 25s - loss: 0.2986 - accuracy: 0.8760 - val_loss: 0.4631 - val_accuracy: 0.7890\n",
            "Epoch 48/100\n",
            "100/100 - 25s - loss: 0.3185 - accuracy: 0.8670 - val_loss: 0.4484 - val_accuracy: 0.8020\n",
            "Epoch 49/100\n",
            "100/100 - 25s - loss: 0.2974 - accuracy: 0.8765 - val_loss: 0.4738 - val_accuracy: 0.7820\n",
            "Epoch 50/100\n",
            "100/100 - 25s - loss: 0.3052 - accuracy: 0.8650 - val_loss: 0.5342 - val_accuracy: 0.7750\n",
            "Epoch 51/100\n",
            "100/100 - 25s - loss: 0.2975 - accuracy: 0.8745 - val_loss: 0.5182 - val_accuracy: 0.7600\n",
            "Epoch 52/100\n",
            "100/100 - 25s - loss: 0.2923 - accuracy: 0.8725 - val_loss: 0.4466 - val_accuracy: 0.8000\n",
            "Epoch 53/100\n",
            "100/100 - 25s - loss: 0.3196 - accuracy: 0.8555 - val_loss: 0.4513 - val_accuracy: 0.8100\n",
            "Epoch 54/100\n",
            "100/100 - 25s - loss: 0.3002 - accuracy: 0.8695 - val_loss: 0.4907 - val_accuracy: 0.7820\n",
            "Epoch 55/100\n",
            "100/100 - 25s - loss: 0.2899 - accuracy: 0.8710 - val_loss: 0.4812 - val_accuracy: 0.8070\n",
            "Epoch 56/100\n",
            "100/100 - 25s - loss: 0.2908 - accuracy: 0.8800 - val_loss: 0.6135 - val_accuracy: 0.7690\n",
            "Epoch 57/100\n",
            "100/100 - 26s - loss: 0.3084 - accuracy: 0.8690 - val_loss: 0.4567 - val_accuracy: 0.7960\n",
            "Epoch 58/100\n",
            "100/100 - 26s - loss: 0.3005 - accuracy: 0.8770 - val_loss: 0.4071 - val_accuracy: 0.8100\n",
            "Epoch 59/100\n",
            "100/100 - 26s - loss: 0.2959 - accuracy: 0.8680 - val_loss: 0.4715 - val_accuracy: 0.8020\n",
            "Epoch 60/100\n",
            "100/100 - 25s - loss: 0.2893 - accuracy: 0.8740 - val_loss: 0.4971 - val_accuracy: 0.8000\n",
            "Epoch 61/100\n",
            "100/100 - 25s - loss: 0.2857 - accuracy: 0.8680 - val_loss: 0.5425 - val_accuracy: 0.7680\n",
            "Epoch 62/100\n",
            "100/100 - 25s - loss: 0.2963 - accuracy: 0.8825 - val_loss: 0.4978 - val_accuracy: 0.7820\n",
            "Epoch 63/100\n",
            "100/100 - 25s - loss: 0.2986 - accuracy: 0.8730 - val_loss: 0.4961 - val_accuracy: 0.8140\n",
            "Epoch 64/100\n",
            "100/100 - 25s - loss: 0.2944 - accuracy: 0.8660 - val_loss: 0.4695 - val_accuracy: 0.7880\n",
            "Epoch 65/100\n",
            "100/100 - 25s - loss: 0.2691 - accuracy: 0.8885 - val_loss: 0.4512 - val_accuracy: 0.7970\n",
            "Epoch 66/100\n",
            "100/100 - 25s - loss: 0.2945 - accuracy: 0.8770 - val_loss: 0.4558 - val_accuracy: 0.8240\n",
            "Epoch 67/100\n",
            "100/100 - 25s - loss: 0.2840 - accuracy: 0.8855 - val_loss: 0.4553 - val_accuracy: 0.8060\n",
            "Epoch 68/100\n",
            "100/100 - 25s - loss: 0.2837 - accuracy: 0.8810 - val_loss: 0.4895 - val_accuracy: 0.7920\n",
            "Epoch 69/100\n",
            "100/100 - 25s - loss: 0.2838 - accuracy: 0.8890 - val_loss: 0.4836 - val_accuracy: 0.7760\n",
            "Epoch 70/100\n",
            "100/100 - 25s - loss: 0.2825 - accuracy: 0.8765 - val_loss: 0.4960 - val_accuracy: 0.7860\n",
            "Epoch 71/100\n",
            "100/100 - 25s - loss: 0.2881 - accuracy: 0.8810 - val_loss: 0.4574 - val_accuracy: 0.8170\n",
            "Epoch 72/100\n",
            "100/100 - 25s - loss: 0.2867 - accuracy: 0.8750 - val_loss: 0.4710 - val_accuracy: 0.8130\n",
            "Epoch 73/100\n",
            "100/100 - 25s - loss: 0.3029 - accuracy: 0.8735 - val_loss: 0.4910 - val_accuracy: 0.7770\n",
            "Epoch 74/100\n",
            "100/100 - 25s - loss: 0.2798 - accuracy: 0.8810 - val_loss: 0.4751 - val_accuracy: 0.7800\n",
            "Epoch 75/100\n",
            "100/100 - 26s - loss: 0.2723 - accuracy: 0.8855 - val_loss: 0.4484 - val_accuracy: 0.7960\n",
            "Epoch 76/100\n",
            "100/100 - 26s - loss: 0.2808 - accuracy: 0.8800 - val_loss: 0.5134 - val_accuracy: 0.8000\n",
            "Epoch 77/100\n",
            "100/100 - 26s - loss: 0.2723 - accuracy: 0.8840 - val_loss: 0.4682 - val_accuracy: 0.8000\n",
            "Epoch 78/100\n",
            "100/100 - 26s - loss: 0.2763 - accuracy: 0.8820 - val_loss: 0.4757 - val_accuracy: 0.7990\n",
            "Epoch 79/100\n",
            "100/100 - 26s - loss: 0.2687 - accuracy: 0.8750 - val_loss: 0.5123 - val_accuracy: 0.7900\n",
            "Epoch 80/100\n",
            "100/100 - 25s - loss: 0.2621 - accuracy: 0.8930 - val_loss: 0.4908 - val_accuracy: 0.8060\n",
            "Epoch 81/100\n",
            "100/100 - 25s - loss: 0.2662 - accuracy: 0.8905 - val_loss: 0.4273 - val_accuracy: 0.8120\n",
            "Epoch 82/100\n",
            "100/100 - 25s - loss: 0.2880 - accuracy: 0.8740 - val_loss: 0.4666 - val_accuracy: 0.8030\n",
            "Epoch 83/100\n",
            "100/100 - 25s - loss: 0.2498 - accuracy: 0.9010 - val_loss: 0.4453 - val_accuracy: 0.8050\n",
            "Epoch 84/100\n",
            "100/100 - 25s - loss: 0.2820 - accuracy: 0.8840 - val_loss: 0.4625 - val_accuracy: 0.7960\n",
            "Epoch 85/100\n",
            "100/100 - 25s - loss: 0.2608 - accuracy: 0.8845 - val_loss: 0.4147 - val_accuracy: 0.8200\n",
            "Epoch 86/100\n",
            "100/100 - 25s - loss: 0.2626 - accuracy: 0.8855 - val_loss: 0.5551 - val_accuracy: 0.7830\n",
            "Epoch 87/100\n",
            "100/100 - 25s - loss: 0.2774 - accuracy: 0.8815 - val_loss: 0.4420 - val_accuracy: 0.8050\n",
            "Epoch 88/100\n",
            "100/100 - 25s - loss: 0.2685 - accuracy: 0.8860 - val_loss: 0.4873 - val_accuracy: 0.7950\n",
            "Epoch 89/100\n",
            "100/100 - 25s - loss: 0.2588 - accuracy: 0.8920 - val_loss: 0.5096 - val_accuracy: 0.7940\n",
            "Epoch 90/100\n",
            "100/100 - 25s - loss: 0.2532 - accuracy: 0.8985 - val_loss: 0.4755 - val_accuracy: 0.7910\n",
            "Epoch 91/100\n",
            "100/100 - 25s - loss: 0.2678 - accuracy: 0.8920 - val_loss: 0.4433 - val_accuracy: 0.8160\n",
            "Epoch 92/100\n",
            "100/100 - 25s - loss: 0.2606 - accuracy: 0.8900 - val_loss: 0.4236 - val_accuracy: 0.8140\n",
            "Epoch 93/100\n",
            "100/100 - 26s - loss: 0.2523 - accuracy: 0.8950 - val_loss: 0.4539 - val_accuracy: 0.8000\n",
            "Epoch 94/100\n",
            "100/100 - 26s - loss: 0.2469 - accuracy: 0.9000 - val_loss: 0.4352 - val_accuracy: 0.8100\n",
            "Epoch 95/100\n",
            "100/100 - 26s - loss: 0.2596 - accuracy: 0.8870 - val_loss: 0.4729 - val_accuracy: 0.8070\n",
            "Epoch 96/100\n",
            "100/100 - 25s - loss: 0.2496 - accuracy: 0.8960 - val_loss: 0.5136 - val_accuracy: 0.7770\n",
            "Epoch 97/100\n",
            "100/100 - 25s - loss: 0.2584 - accuracy: 0.8925 - val_loss: 0.5215 - val_accuracy: 0.8020\n",
            "Epoch 98/100\n",
            "100/100 - 25s - loss: 0.2528 - accuracy: 0.8920 - val_loss: 0.4841 - val_accuracy: 0.7960\n",
            "Epoch 99/100\n",
            "100/100 - 26s - loss: 0.2595 - accuracy: 0.8925 - val_loss: 0.4858 - val_accuracy: 0.8120\n",
            "Epoch 100/100\n",
            "100/100 - 25s - loss: 0.2311 - accuracy: 0.9015 - val_loss: 0.4604 - val_accuracy: 0.8140\n"
          ],
          "name": "stdout"
        }
      ]
    },
    {
      "cell_type": "code",
      "metadata": {
        "id": "JehlOTCry9i7"
      },
      "source": [
        "def split_data(SOURCE, TRAINING, TESTING, SPLIT_SIZE):\n",
        "    source_files = os.listdir(SOURCE)\n",
        "    random.shuffle(source_files)\n",
        "    len_train = int(round(SPLIT_SIZE*len(source_files)))\n",
        "\n",
        "    train_files = source_files[:len_train]\n",
        "    test_files = source_files[len_train:]\n",
        "    \n",
        "    for file in train_files:\n",
        "        source_file_path = os.path.join(SOURCE, file)\n",
        "        train_file_path = os.path.join(TRAINING, file)\n",
        "        file_size = os.path.getsize(source_file_path)\n",
        "        copyfile(source_file_path, train_file_path)\n",
        "        if os.path.getsize(source_file_path)==os.path.getsize(train_file_path):\n",
        "            pass\n",
        "        else:\n",
        "            copyfile(source_file_path, train_file_path)\n",
        "    for file in test_files:\n",
        "        source_file_path = os.path.join(SOURCE, file)\n",
        "        test_file_path = os.path.join(TESTING, file)\n",
        "        file_size = os.path.getsize(source_file_path)\n",
        "        copyfile(source_file_path, test_file_path)\n",
        "        if os.path.getsize(source_file_path)==os.path.getsize(test_file_path):\n",
        "            pass\n",
        "        else:\n",
        "            copyfile(source_file_path, test_file_path)  "
      ],
      "execution_count": null,
      "outputs": []
    },
    {
      "cell_type": "code",
      "metadata": {
        "id": "bgQ0Ff_KBRU3",
        "colab": {
          "base_uri": "https://localhost:8080/",
          "height": 545
        },
        "outputId": "5b812add-c742-40fd-949b-119750ccd276"
      },
      "source": [
        "import matplotlib.pyplot as plt\n",
        "acc = history.history['accuracy']\n",
        "val_acc = history.history['val_accuracy']\n",
        "loss = history.history['loss']\n",
        "val_loss = history.history['val_loss']\n",
        "\n",
        "epochs = range(len(acc))\n",
        "\n",
        "plt.plot(epochs, acc, 'bo', label='Training accuracy')\n",
        "plt.plot(epochs, val_acc, 'b', label='Validation accuracy')\n",
        "plt.title('Training and validation accuracy')\n",
        "\n",
        "plt.figure()\n",
        "\n",
        "plt.plot(epochs, loss, 'bo', label='Training Loss')\n",
        "plt.plot(epochs, val_loss, 'b', label='Validation Loss')\n",
        "plt.title('Training and validation loss')\n",
        "plt.legend()\n",
        "\n",
        "plt.show()"
      ],
      "execution_count": null,
      "outputs": [
        {
          "output_type": "display_data",
          "data": {
            "image/png": "[encoded data removed]",
            "text/plain": [
              "<Figure size 432x288 with 1 Axes>"
            ]
          },
          "metadata": {
            "tags": [],
            "needs_background": "light"
          }
        },
        {
          "output_type": "display_data",
          "data": {
            "image/png": "[encoded data removed]",
            "text/plain": [
              "<Figure size 432x288 with 1 Axes>"
            ]
          },
          "metadata": {
            "tags": [],
            "needs_background": "light"
          }
        }
      ]
    },
    {
      "cell_type": "code",
      "metadata": {
        "id": "miiTVA2jBR1g"
      },
      "source": [
        ""
      ],
      "execution_count": null,
      "outputs": []
    }
  ]
}