{
  "nbformat": 4,
  "nbformat_minor": 0,
  "metadata": {
    "colab": {
      "name": "housing_pipelines.ipynb",
      "provenance": [],
      "collapsed_sections": [],
      "toc_visible": true,
      "authorship_tag": "ABX9TyNY2kTK5M5WXQa3axxofbY+",
      "include_colab_link": true
    },
    "kernelspec": {
      "name": "python3",
      "display_name": "Python 3"
    }
  },
  "cells": [
    {
      "cell_type": "markdown",
      "metadata": {
        "id": "view-in-github",
        "colab_type": "text"
      },
      "source": [
        "<a href=\"https://colab.research.google.com/github/asokraju/ml-grinding/blob/master/hands_on_ml/housing_pipelines.ipynb\" target=\"_parent\"><img src=\"https://colab.research.google.com/assets/colab-badge.svg\" alt=\"Open In Colab\"/></a>"
      ]
    },
    {
      "cell_type": "markdown",
      "metadata": {
        "id": "gAcEjm2SwOau"
      },
      "source": [
        "#imports"
      ]
    },
    {
      "cell_type": "code",
      "metadata": {
        "id": "xszcgUAndBif"
      },
      "source": [
        "import numpy as np\n",
        "import random\n",
        "import pandas as pd\n",
        "import matplotlib.pyplot as plt\n",
        "%matplotlib inline\n",
        "import pprint as pp\n",
        "\n",
        "import os\n",
        "import urllib\n",
        "import tarfile\n",
        "import urllib.request\n",
        "from zipfile import ZipFile\n",
        "\n",
        "import scipy\n",
        "from scipy import stats\n",
        "\n",
        "from sklearn.model_selection import train_test_split\n",
        "from sklearn.model_selection import StratifiedShuffleSplit\n",
        "\n",
        "from sklearn.impute import SimpleImputer\n",
        "from sklearn.base import BaseEstimator, TransformerMixin\n",
        "from sklearn.pipeline import Pipeline\n",
        "from sklearn.pipeline import FeatureUnion\n",
        "\n",
        "from sklearn.compose import ColumnTransformer\n",
        "\n",
        "from sklearn.preprocessing import LabelBinarizer\n",
        "from sklearn.preprocessing import StandardScaler\n",
        "from sklearn.preprocessing import OneHotEncoder\n",
        "from sklearn.preprocessing import FunctionTransformer\n",
        "\n",
        "from sklearn.linear_model import LinearRegression\n",
        "from sklearn.linear_model import SGDRegressor\n",
        "from sklearn.svm import SVR\n",
        "\n",
        "from sklearn.metrics import mean_squared_error\n",
        "from sklearn.tree import DecisionTreeRegressor\n",
        "from sklearn.model_selection import cross_val_score\n",
        "from sklearn.model_selection import GridSearchCV\n",
        "from sklearn.model_selection import RandomizedSearchCV\n",
        "\n",
        "from sklearn.ensemble import RandomForestRegressor\n",
        "\n",
        "from sklearn.externals import joblib\n",
        "\n",
        "from pandas.plotting import scatter_matrix\n",
        "\n",
        "np.random.seed(42)\n",
        "random.seed(42)"
      ],
      "execution_count": null,
      "outputs": []
    },
    {
      "cell_type": "markdown",
      "metadata": {
        "id": "Y2vnuKV_wSJP"
      },
      "source": [
        "#Data download"
      ]
    },
    {
      "cell_type": "code",
      "metadata": {
        "id": "N0UGnQ3Os0dh"
      },
      "source": [
        "def fetch_zip_data(source_url, local_path, file_name = 'original_file.zip'):\n",
        "    \"\"\"\n",
        "    downloading the zip file from the 'sorce_url' to 'local_path'\n",
        "    with file name as 'file_name'\n",
        "    \"\"\"\n",
        "    if not os.path.isdir(local_path):\n",
        "        os.makedirs(local_path)\n",
        "    local_file = os.path.join(local_path, file_name)\n",
        "    urllib.request.urlretrieve(download_url, local_file)\n",
        "\n",
        "    #extracting the contents of the zip file\n",
        "    with ZipFile(local_file, 'r') as zipObj:\n",
        "        zipObj.printdir() \n",
        "        zipObj.extractall(local_path)\n",
        "    \n",
        "    #printing the file list\n",
        "    files = os.listdir(local_path)\n",
        "    print(files)"
      ],
      "execution_count": null,
      "outputs": []
    },
    {
      "cell_type": "code",
      "metadata": {
        "colab": {
          "base_uri": "https://localhost:8080/"
        },
        "id": "JlIUhzpptTlz",
        "outputId": "40ba057b-ee31-4a88-f036-d38525a99582"
      },
      "source": [
        "download_url = 'http://lib.stat.cmu.edu/datasets/houses.zip'\n",
        "local_path = './datasets/housing'\n",
        "fetch_zip_data(source_url = download_url, local_path = local_path)\n",
        "# git_url = \"https://raw.githubusercontent.com/ageron/handson-ml/master/\" + \"datasets/housing\" + \"/housing.tgz\"\n",
        "# fetch_zip_data(source_url = git_url, local_path = local_path)\n",
        "# df_original = pd.read_csv(local_path+\"/cadata.txt\")\n",
        "# #making a deep copy, we work on the new deep copy\n",
        "# df = df_original.copy(deep=True)"
      ],
      "execution_count": null,
      "outputs": [
        {
          "output_type": "stream",
          "text": [
            "File Name                                             Modified             Size\n",
            "cadata.txt                                     1999-11-05 03:05:10      4686855\n",
            "['cadata.txt', 'original_file.zip']\n"
          ],
          "name": "stdout"
        }
      ]
    },
    {
      "cell_type": "code",
      "metadata": {
        "id": "IlCCjgbrtWjy"
      },
      "source": [
        "col_names = ['medianhousevalue','median_income','housingmedianage','total_rooms','total_bedrooms','population','households','latitude','longitude']\n",
        "\n",
        "df_original = pd.read_csv(local_path+\"/cadata.txt\", names = col_names, skiprows=27, header=None, sep = '\\s+')\n",
        "#making a deep copy, we work on the new deep copy\n",
        "df = df_original.copy(deep=True)"
      ],
      "execution_count": null,
      "outputs": []
    },
    {
      "cell_type": "markdown",
      "metadata": {
        "id": "nPfR0cCEfHzT"
      },
      "source": [
        "# Data viz\n"
      ]
    },
    {
      "cell_type": "code",
      "metadata": {
        "colab": {
          "base_uri": "https://localhost:8080/"
        },
        "id": "xm6Xp4sMfDaH",
        "outputId": "d5421d69-9448-4c5d-9c18-2eaa1641c0fd"
      },
      "source": [
        "df.info()"
      ],
      "execution_count": null,
      "outputs": [
        {
          "output_type": "stream",
          "text": [
            "<class 'pandas.core.frame.DataFrame'>\n",
            "RangeIndex: 20640 entries, 0 to 20639\n",
            "Data columns (total 9 columns):\n",
            " #   Column            Non-Null Count  Dtype  \n",
            "---  ------            --------------  -----  \n",
            " 0   medianhousevalue  20640 non-null  float64\n",
            " 1   median_income     20640 non-null  float64\n",
            " 2   housingmedianage  20640 non-null  float64\n",
            " 3   total_rooms       20640 non-null  float64\n",
            " 4   total_bedrooms    20640 non-null  float64\n",
            " 5   population        20640 non-null  float64\n",
            " 6   households        20640 non-null  float64\n",
            " 7   latitude          20640 non-null  float64\n",
            " 8   longitude         20640 non-null  float64\n",
            "dtypes: float64(9)\n",
            "memory usage: 1.4 MB\n"
          ],
          "name": "stdout"
        }
      ]
    },
    {
      "cell_type": "code",
      "metadata": {
        "colab": {
          "base_uri": "https://localhost:8080/",
          "height": 288
        },
        "id": "ByzzYrHEfEto",
        "outputId": "075fa092-4306-4030-b3c9-9b4c5b092838"
      },
      "source": [
        "df.describe()"
      ],
      "execution_count": null,
      "outputs": [
        {
          "output_type": "execute_result",
          "data": {
            "text/html": [
              "<div>\n",
              "<style scoped>\n",
              "    .dataframe tbody tr th:only-of-type {\n",
              "        vertical-align: middle;\n",
              "    }\n",
              "\n",
              "    .dataframe tbody tr th {\n",
              "        vertical-align: top;\n",
              "    }\n",
              "\n",
              "    .dataframe thead th {\n",
              "        text-align: right;\n",
              "    }\n",
              "</style>\n",
              "<table border=\"1\" class=\"dataframe\">\n",
              "  <thead>\n",
              "    <tr style=\"text-align: right;\">\n",
              "      <th></th>\n",
              "      <th>medianhousevalue</th>\n",
              "      <th>median_income</th>\n",
              "      <th>housingmedianage</th>\n",
              "      <th>total_rooms</th>\n",
              "      <th>total_bedrooms</th>\n",
              "      <th>population</th>\n",
              "      <th>households</th>\n",
              "      <th>latitude</th>\n",
              "      <th>longitude</th>\n",
              "    </tr>\n",
              "  </thead>\n",
              "  <tbody>\n",
              "    <tr>\n",
              "      <th>count</th>\n",
              "      <td>20640.000000</td>\n",
              "      <td>20640.000000</td>\n",
              "      <td>20640.000000</td>\n",
              "      <td>20640.000000</td>\n",
              "      <td>20640.000000</td>\n",
              "      <td>20640.000000</td>\n",
              "      <td>20640.000000</td>\n",
              "      <td>20640.000000</td>\n",
              "      <td>20640.000000</td>\n",
              "    </tr>\n",
              "    <tr>\n",
              "      <th>mean</th>\n",
              "      <td>206855.816909</td>\n",
              "      <td>3.870671</td>\n",
              "      <td>28.639486</td>\n",
              "      <td>2635.763081</td>\n",
              "      <td>537.898014</td>\n",
              "      <td>1425.476744</td>\n",
              "      <td>499.539680</td>\n",
              "      <td>35.631861</td>\n",
              "      <td>-119.569704</td>\n",
              "    </tr>\n",
              "    <tr>\n",
              "      <th>std</th>\n",
              "      <td>115395.615874</td>\n",
              "      <td>1.899822</td>\n",
              "      <td>12.585558</td>\n",
              "      <td>2181.615252</td>\n",
              "      <td>421.247906</td>\n",
              "      <td>1132.462122</td>\n",
              "      <td>382.329753</td>\n",
              "      <td>2.135952</td>\n",
              "      <td>2.003532</td>\n",
              "    </tr>\n",
              "    <tr>\n",
              "      <th>min</th>\n",
              "      <td>14999.000000</td>\n",
              "      <td>0.499900</td>\n",
              "      <td>1.000000</td>\n",
              "      <td>2.000000</td>\n",
              "      <td>1.000000</td>\n",
              "      <td>3.000000</td>\n",
              "      <td>1.000000</td>\n",
              "      <td>32.540000</td>\n",
              "      <td>-124.350000</td>\n",
              "    </tr>\n",
              "    <tr>\n",
              "      <th>25%</th>\n",
              "      <td>119600.000000</td>\n",
              "      <td>2.563400</td>\n",
              "      <td>18.000000</td>\n",
              "      <td>1447.750000</td>\n",
              "      <td>295.000000</td>\n",
              "      <td>787.000000</td>\n",
              "      <td>280.000000</td>\n",
              "      <td>33.930000</td>\n",
              "      <td>-121.800000</td>\n",
              "    </tr>\n",
              "    <tr>\n",
              "      <th>50%</th>\n",
              "      <td>179700.000000</td>\n",
              "      <td>3.534800</td>\n",
              "      <td>29.000000</td>\n",
              "      <td>2127.000000</td>\n",
              "      <td>435.000000</td>\n",
              "      <td>1166.000000</td>\n",
              "      <td>409.000000</td>\n",
              "      <td>34.260000</td>\n",
              "      <td>-118.490000</td>\n",
              "    </tr>\n",
              "    <tr>\n",
              "      <th>75%</th>\n",
              "      <td>264725.000000</td>\n",
              "      <td>4.743250</td>\n",
              "      <td>37.000000</td>\n",
              "      <td>3148.000000</td>\n",
              "      <td>647.000000</td>\n",
              "      <td>1725.000000</td>\n",
              "      <td>605.000000</td>\n",
              "      <td>37.710000</td>\n",
              "      <td>-118.010000</td>\n",
              "    </tr>\n",
              "    <tr>\n",
              "      <th>max</th>\n",
              "      <td>500001.000000</td>\n",
              "      <td>15.000100</td>\n",
              "      <td>52.000000</td>\n",
              "      <td>39320.000000</td>\n",
              "      <td>6445.000000</td>\n",
              "      <td>35682.000000</td>\n",
              "      <td>6082.000000</td>\n",
              "      <td>41.950000</td>\n",
              "      <td>-114.310000</td>\n",
              "    </tr>\n",
              "  </tbody>\n",
              "</table>\n",
              "</div>"
            ],
            "text/plain": [
              "       medianhousevalue  median_income  ...      latitude     longitude\n",
              "count      20640.000000   20640.000000  ...  20640.000000  20640.000000\n",
              "mean      206855.816909       3.870671  ...     35.631861   -119.569704\n",
              "std       115395.615874       1.899822  ...      2.135952      2.003532\n",
              "min        14999.000000       0.499900  ...     32.540000   -124.350000\n",
              "25%       119600.000000       2.563400  ...     33.930000   -121.800000\n",
              "50%       179700.000000       3.534800  ...     34.260000   -118.490000\n",
              "75%       264725.000000       4.743250  ...     37.710000   -118.010000\n",
              "max       500001.000000      15.000100  ...     41.950000   -114.310000\n",
              "\n",
              "[8 rows x 9 columns]"
            ]
          },
          "metadata": {
            "tags": []
          },
          "execution_count": 19
        }
      ]
    },
    {
      "cell_type": "code",
      "metadata": {
        "colab": {
          "base_uri": "https://localhost:8080/",
          "height": 879
        },
        "id": "bsjyMuArfKWm",
        "outputId": "23086148-c168-4871-d3b3-621f2826713d"
      },
      "source": [
        "df.hist(bins=50, figsize=(20,15))\n",
        "plt.show()"
      ],
      "execution_count": null,
      "outputs": [
        {
          "output_type": "display_data",
          "data": {
            "image/png": "[encoded data removed]",
            "text/plain": [
              "<Figure size 1440x1080 with 9 Axes>"
            ]
          },
          "metadata": {
            "tags": [],
            "needs_background": "light"
          }
        }
      ]
    },
    {
      "cell_type": "code",
      "metadata": {
        "id": "Ek4WdT9MfXrC"
      },
      "source": [
        ""
      ],
      "execution_count": null,
      "outputs": []
    },
    {
      "cell_type": "markdown",
      "metadata": {
        "id": "c6V3yBScfYFs"
      },
      "source": [
        "# test train split"
      ]
    },
    {
      "cell_type": "markdown",
      "metadata": {
        "id": "GuGg1x-FwWBx"
      },
      "source": [
        "##Stratified shuffling\n"
      ]
    },
    {
      "cell_type": "code",
      "metadata": {
        "colab": {
          "base_uri": "https://localhost:8080/",
          "height": 198
        },
        "id": "twft3injtk8U",
        "outputId": "fbc56b6f-d34b-4bc1-f343-7a21af344838"
      },
      "source": [
        "df['income_cat'] = np.ceil(df['median_income'] / 1.5)\n",
        "df['income_cat'].where(df['income_cat'] < 5, 5, inplace = True)\n",
        "df['income_cat'] = df['income_cat'].astype('category')\n",
        "\n",
        "#df['income_cat_1'] = df['median_income'].apply(lambda x: np.ceil(x/1.5) if np.ceil(x/1.5)<5 else 5)\n",
        "#df.drop('income_cat_1', 1, inplace=True)\n",
        "df.head()"
      ],
      "execution_count": null,
      "outputs": [
        {
          "output_type": "execute_result",
          "data": {
            "text/html": [
              "<div>\n",
              "<style scoped>\n",
              "    .dataframe tbody tr th:only-of-type {\n",
              "        vertical-align: middle;\n",
              "    }\n",
              "\n",
              "    .dataframe tbody tr th {\n",
              "        vertical-align: top;\n",
              "    }\n",
              "\n",
              "    .dataframe thead th {\n",
              "        text-align: right;\n",
              "    }\n",
              "</style>\n",
              "<table border=\"1\" class=\"dataframe\">\n",
              "  <thead>\n",
              "    <tr style=\"text-align: right;\">\n",
              "      <th></th>\n",
              "      <th>medianhousevalue</th>\n",
              "      <th>median_income</th>\n",
              "      <th>housingmedianage</th>\n",
              "      <th>total_rooms</th>\n",
              "      <th>total_bedrooms</th>\n",
              "      <th>population</th>\n",
              "      <th>households</th>\n",
              "      <th>latitude</th>\n",
              "      <th>longitude</th>\n",
              "      <th>income_cat</th>\n",
              "    </tr>\n",
              "  </thead>\n",
              "  <tbody>\n",
              "    <tr>\n",
              "      <th>0</th>\n",
              "      <td>452600.0</td>\n",
              "      <td>8.3252</td>\n",
              "      <td>41.0</td>\n",
              "      <td>880.0</td>\n",
              "      <td>129.0</td>\n",
              "      <td>322.0</td>\n",
              "      <td>126.0</td>\n",
              "      <td>37.88</td>\n",
              "      <td>-122.23</td>\n",
              "      <td>5.0</td>\n",
              "    </tr>\n",
              "    <tr>\n",
              "      <th>1</th>\n",
              "      <td>358500.0</td>\n",
              "      <td>8.3014</td>\n",
              "      <td>21.0</td>\n",
              "      <td>7099.0</td>\n",
              "      <td>1106.0</td>\n",
              "      <td>2401.0</td>\n",
              "      <td>1138.0</td>\n",
              "      <td>37.86</td>\n",
              "      <td>-122.22</td>\n",
              "      <td>5.0</td>\n",
              "    </tr>\n",
              "    <tr>\n",
              "      <th>2</th>\n",
              "      <td>352100.0</td>\n",
              "      <td>7.2574</td>\n",
              "      <td>52.0</td>\n",
              "      <td>1467.0</td>\n",
              "      <td>190.0</td>\n",
              "      <td>496.0</td>\n",
              "      <td>177.0</td>\n",
              "      <td>37.85</td>\n",
              "      <td>-122.24</td>\n",
              "      <td>5.0</td>\n",
              "    </tr>\n",
              "    <tr>\n",
              "      <th>3</th>\n",
              "      <td>341300.0</td>\n",
              "      <td>5.6431</td>\n",
              "      <td>52.0</td>\n",
              "      <td>1274.0</td>\n",
              "      <td>235.0</td>\n",
              "      <td>558.0</td>\n",
              "      <td>219.0</td>\n",
              "      <td>37.85</td>\n",
              "      <td>-122.25</td>\n",
              "      <td>4.0</td>\n",
              "    </tr>\n",
              "    <tr>\n",
              "      <th>4</th>\n",
              "      <td>342200.0</td>\n",
              "      <td>3.8462</td>\n",
              "      <td>52.0</td>\n",
              "      <td>1627.0</td>\n",
              "      <td>280.0</td>\n",
              "      <td>565.0</td>\n",
              "      <td>259.0</td>\n",
              "      <td>37.85</td>\n",
              "      <td>-122.25</td>\n",
              "      <td>3.0</td>\n",
              "    </tr>\n",
              "  </tbody>\n",
              "</table>\n",
              "</div>"
            ],
            "text/plain": [
              "   medianhousevalue  median_income  ...  longitude  income_cat\n",
              "0          452600.0         8.3252  ...    -122.23         5.0\n",
              "1          358500.0         8.3014  ...    -122.22         5.0\n",
              "2          352100.0         7.2574  ...    -122.24         5.0\n",
              "3          341300.0         5.6431  ...    -122.25         4.0\n",
              "4          342200.0         3.8462  ...    -122.25         3.0\n",
              "\n",
              "[5 rows x 10 columns]"
            ]
          },
          "metadata": {
            "tags": []
          },
          "execution_count": 21
        }
      ]
    },
    {
      "cell_type": "code",
      "metadata": {
        "colab": {
          "base_uri": "https://localhost:8080/"
        },
        "id": "i5YTIw5Xtz2Z",
        "outputId": "8618c2fa-4e54-4f26-9cdf-7f99e48b2e88"
      },
      "source": [
        "split = StratifiedShuffleSplit(n_splits=1, test_size=0.2, random_state=42)\n",
        "for train_index, test_index in split.split(df, df['income_cat']):\n",
        "    strat_train_set = df.iloc[train_index]\n",
        "    strat_test_set = df.iloc[test_index]\n",
        "print(\"test : \",len(strat_test_set),\"\\ntrain : \",len(strat_train_set))"
      ],
      "execution_count": null,
      "outputs": [
        {
          "output_type": "stream",
          "text": [
            "test :  4128 \n",
            "train :  16512\n"
          ],
          "name": "stdout"
        }
      ]
    },
    {
      "cell_type": "code",
      "metadata": {
        "colab": {
          "base_uri": "https://localhost:8080/"
        },
        "id": "CfkhUWCMzBfJ",
        "outputId": "5b318982-0919-4e77-efb4-9493aff27e74"
      },
      "source": [
        "train = strat_train_set.drop('medianhousevalue', axis = 1)\n",
        "train_labels = strat_train_set['medianhousevalue'].copy()\n",
        "\n",
        "test = strat_test_set.drop('medianhousevalue', axis = 1)\n",
        "test_labels = strat_test_set['medianhousevalue'].copy()\n",
        "train.columns"
      ],
      "execution_count": null,
      "outputs": [
        {
          "output_type": "execute_result",
          "data": {
            "text/plain": [
              "Index(['median_income', 'housingmedianage', 'total_rooms', 'total_bedrooms',\n",
              "       'population', 'households', 'latitude', 'longitude', 'income_cat'],\n",
              "      dtype='object')"
            ]
          },
          "metadata": {
            "tags": []
          },
          "execution_count": 23
        }
      ]
    },
    {
      "cell_type": "markdown",
      "metadata": {
        "id": "CfjSpmftgBhh"
      },
      "source": [
        "#Pipelines"
      ]
    },
    {
      "cell_type": "code",
      "metadata": {
        "id": "G1TBOiCfzLtX"
      },
      "source": [
        "def add_extra_features(X, add_bedrooms_per_room=True):\n",
        "    rooms_ix, bedrooms_ix, population_ix, household_ix = 3, 4, 5, 6\n",
        "    rooms_per_household = X[:, rooms_ix] / X[:, household_ix]\n",
        "    population_per_household = X[:, population_ix] / X[:, household_ix]\n",
        "    if add_bedrooms_per_room:\n",
        "        bedrooms_per_room = X[:, bedrooms_ix] / X[:, rooms_ix]\n",
        "        return np.c_[X, rooms_per_household, population_per_household, bedrooms_per_room]\n",
        "    else:\n",
        "        return np.c_[X, rooms_per_household, population_per_household]\n",
        "\n",
        "attr_adder = FunctionTransformer(add_extra_features, validate=False, kw_args={\"add_bedrooms_per_room\": True})"
      ],
      "execution_count": null,
      "outputs": []
    },
    {
      "cell_type": "code",
      "metadata": {
        "id": "-MLg5jjvgpco"
      },
      "source": [
        "num_attribs = list(train.select_dtypes(include=[\"number\", 'int64', 'float64']))\n",
        "cat_attribs = list(train.select_dtypes(include=[\"category\",'object']))"
      ],
      "execution_count": null,
      "outputs": []
    },
    {
      "cell_type": "code",
      "metadata": {
        "id": "FXkdDubvgrJC"
      },
      "source": [
        "num_pipeline = Pipeline([\n",
        "                         ('imputer', SimpleImputer(missing_values=np.nan, strategy='median')),\n",
        "                         ('attribs_adder', attr_adder),\n",
        "                         ('std_scaler', StandardScaler())\n",
        "])\n",
        "\n",
        "cat_pipeline = Pipeline([\n",
        "                         ('imputer', SimpleImputer(strategy='median')),\n",
        "                         ('onehot', OneHotEncoder(handle_unknown='ignore'))\n",
        "])\n",
        "pipeline_preprop = ColumnTransformer([\n",
        "                                   ('num_pipeline', num_pipeline, num_attribs),\n",
        "                                   ('cat_pipeline', cat_pipeline, cat_attribs)\n",
        "])"
      ],
      "execution_count": null,
      "outputs": []
    },
    {
      "cell_type": "code",
      "metadata": {
        "colab": {
          "base_uri": "https://localhost:8080/"
        },
        "id": "YmoD44Aig3Dk",
        "outputId": "a0caf1e6-8c3e-4987-936f-8c0fe759498a"
      },
      "source": [
        "param_grid = [\n",
        "              {'regressor__n_estimators': [3, 10, 30], \n",
        "               'regressor__max_features': [2, 4, 6, 8],\n",
        "               'preprocess__num_pipeline__imputer__strategy': ['mean', 'median', 'most_frequent'],\n",
        "               'preprocess__num_pipeline__attribs_adder__kw_args' : [{\"add_bedrooms_per_room\": True}, {\"add_bedrooms_per_room\": False}]},\n",
        "              {'regressor__bootstrap': [False], \n",
        "               'regressor__n_estimators': [3, 10], \n",
        "               'regressor__max_features': [2, 3, 4],\n",
        "               'preprocess__num_pipeline__imputer__strategy': ['mean', 'median', 'most_frequent'],\n",
        "               'preprocess__num_pipeline__attribs_adder__kw_args' : [{\"add_bedrooms_per_room\": True}, {\"add_bedrooms_per_room\": False}]}\n",
        "]\n",
        "rf = Pipeline([\n",
        "               ('preprocess', pipeline_preprop),\n",
        "               ('regressor', RandomForestRegressor())\n",
        "])\n",
        "pp.pprint(sorted(rf.get_params().keys()))"
      ],
      "execution_count": null,
      "outputs": [
        {
          "output_type": "stream",
          "text": [
            "['memory',\n",
            " 'preprocess',\n",
            " 'preprocess__cat_pipeline',\n",
            " 'preprocess__cat_pipeline__imputer',\n",
            " 'preprocess__cat_pipeline__imputer__add_indicator',\n",
            " 'preprocess__cat_pipeline__imputer__copy',\n",
            " 'preprocess__cat_pipeline__imputer__fill_value',\n",
            " 'preprocess__cat_pipeline__imputer__missing_values',\n",
            " 'preprocess__cat_pipeline__imputer__strategy',\n",
            " 'preprocess__cat_pipeline__imputer__verbose',\n",
            " 'preprocess__cat_pipeline__memory',\n",
            " 'preprocess__cat_pipeline__onehot',\n",
            " 'preprocess__cat_pipeline__onehot__categories',\n",
            " 'preprocess__cat_pipeline__onehot__drop',\n",
            " 'preprocess__cat_pipeline__onehot__dtype',\n",
            " 'preprocess__cat_pipeline__onehot__handle_unknown',\n",
            " 'preprocess__cat_pipeline__onehot__sparse',\n",
            " 'preprocess__cat_pipeline__steps',\n",
            " 'preprocess__cat_pipeline__verbose',\n",
            " 'preprocess__n_jobs',\n",
            " 'preprocess__num_pipeline',\n",
            " 'preprocess__num_pipeline__attribs_adder',\n",
            " 'preprocess__num_pipeline__attribs_adder__accept_sparse',\n",
            " 'preprocess__num_pipeline__attribs_adder__check_inverse',\n",
            " 'preprocess__num_pipeline__attribs_adder__func',\n",
            " 'preprocess__num_pipeline__attribs_adder__inv_kw_args',\n",
            " 'preprocess__num_pipeline__attribs_adder__inverse_func',\n",
            " 'preprocess__num_pipeline__attribs_adder__kw_args',\n",
            " 'preprocess__num_pipeline__attribs_adder__validate',\n",
            " 'preprocess__num_pipeline__imputer',\n",
            " 'preprocess__num_pipeline__imputer__add_indicator',\n",
            " 'preprocess__num_pipeline__imputer__copy',\n",
            " 'preprocess__num_pipeline__imputer__fill_value',\n",
            " 'preprocess__num_pipeline__imputer__missing_values',\n",
            " 'preprocess__num_pipeline__imputer__strategy',\n",
            " 'preprocess__num_pipeline__imputer__verbose',\n",
            " 'preprocess__num_pipeline__memory',\n",
            " 'preprocess__num_pipeline__std_scaler',\n",
            " 'preprocess__num_pipeline__std_scaler__copy',\n",
            " 'preprocess__num_pipeline__std_scaler__with_mean',\n",
            " 'preprocess__num_pipeline__std_scaler__with_std',\n",
            " 'preprocess__num_pipeline__steps',\n",
            " 'preprocess__num_pipeline__verbose',\n",
            " 'preprocess__remainder',\n",
            " 'preprocess__sparse_threshold',\n",
            " 'preprocess__transformer_weights',\n",
            " 'preprocess__transformers',\n",
            " 'preprocess__verbose',\n",
            " 'regressor',\n",
            " 'regressor__bootstrap',\n",
            " 'regressor__ccp_alpha',\n",
            " 'regressor__criterion',\n",
            " 'regressor__max_depth',\n",
            " 'regressor__max_features',\n",
            " 'regressor__max_leaf_nodes',\n",
            " 'regressor__max_samples',\n",
            " 'regressor__min_impurity_decrease',\n",
            " 'regressor__min_impurity_split',\n",
            " 'regressor__min_samples_leaf',\n",
            " 'regressor__min_samples_split',\n",
            " 'regressor__min_weight_fraction_leaf',\n",
            " 'regressor__n_estimators',\n",
            " 'regressor__n_jobs',\n",
            " 'regressor__oob_score',\n",
            " 'regressor__random_state',\n",
            " 'regressor__verbose',\n",
            " 'regressor__warm_start',\n",
            " 'steps',\n",
            " 'verbose']\n"
          ],
          "name": "stdout"
        }
      ]
    },
    {
      "cell_type": "code",
      "metadata": {
        "colab": {
          "base_uri": "https://localhost:8080/"
        },
        "id": "o1tDmikzhA58",
        "outputId": "2bedb605-dc85-438d-d5ce-819b0df257a7"
      },
      "source": [
        "grid_search = GridSearchCV(rf, param_grid, cv=5, scoring='neg_mean_squared_error')\n",
        "grid_search.fit(train, train_labels)"
      ],
      "execution_count": null,
      "outputs": [
        {
          "output_type": "execute_result",
          "data": {
            "text/plain": [
              "GridSearchCV(cv=5, error_score=nan,\n",
              "             estimator=Pipeline(memory=None,\n",
              "                                steps=[('preprocess',\n",
              "                                        ColumnTransformer(n_jobs=None,\n",
              "                                                          remainder='drop',\n",
              "                                                          sparse_threshold=0.3,\n",
              "                                                          transformer_weights=None,\n",
              "                                                          transformers=[('num_pipeline',\n",
              "                                                                         Pipeline(memory=None,\n",
              "                                                                                  steps=[('imputer',\n",
              "                                                                                          SimpleImputer(add_indicator=False,\n",
              "                                                                                                        copy=True,\n",
              "                                                                                                        fill_value=None,\n",
              "                                                                                                        missing_values=nan,\n",
              "                                                                                                        strategy='median',\n",
              "                                                                                                        verbo...\n",
              "                         {'preprocess__num_pipeline__attribs_adder__kw_args': [{'add_bedrooms_per_room': True},\n",
              "                                                                               {'add_bedrooms_per_room': False}],\n",
              "                          'preprocess__num_pipeline__imputer__strategy': ['mean',\n",
              "                                                                          'median',\n",
              "                                                                          'most_frequent'],\n",
              "                          'regressor__bootstrap': [False],\n",
              "                          'regressor__max_features': [2, 3, 4],\n",
              "                          'regressor__n_estimators': [3, 10]}],\n",
              "             pre_dispatch='2*n_jobs', refit=True, return_train_score=False,\n",
              "             scoring='neg_mean_squared_error', verbose=0)"
            ]
          },
          "metadata": {
            "tags": []
          },
          "execution_count": 81
        }
      ]
    },
    {
      "cell_type": "code",
      "metadata": {
        "colab": {
          "base_uri": "https://localhost:8080/"
        },
        "id": "y_XYNp0Mg38V",
        "outputId": "b8a93da9-c528-4049-f4c4-1872943cfa99"
      },
      "source": [
        "cvres = grid_search.cv_results_\n",
        "for mean_score, params in zip(cvres[\"mean_test_score\"], cvres['params']):\n",
        "    print(np.sqrt(-mean_score), params)\n",
        "grid_search.best_params_"
      ],
      "execution_count": null,
      "outputs": [
        {
          "output_type": "stream",
          "text": [
            "70674.67235770765 {'preprocess__num_pipeline__attribs_adder__kw_args': {'add_bedrooms_per_room': True}, 'preprocess__num_pipeline__imputer__strategy': 'mean', 'regressor__max_features': 2, 'regressor__n_estimators': 3}\n",
            "60915.71329874833 {'preprocess__num_pipeline__attribs_adder__kw_args': {'add_bedrooms_per_room': True}, 'preprocess__num_pipeline__imputer__strategy': 'mean', 'regressor__max_features': 2, 'regressor__n_estimators': 10}\n",
            "58194.256692322 {'preprocess__num_pipeline__attribs_adder__kw_args': {'add_bedrooms_per_room': True}, 'preprocess__num_pipeline__imputer__strategy': 'mean', 'regressor__max_features': 2, 'regressor__n_estimators': 30}\n",
            "64863.531537211165 {'preprocess__num_pipeline__attribs_adder__kw_args': {'add_bedrooms_per_room': True}, 'preprocess__num_pipeline__imputer__strategy': 'mean', 'regressor__max_features': 4, 'regressor__n_estimators': 3}\n",
            "57291.59263315678 {'preprocess__num_pipeline__attribs_adder__kw_args': {'add_bedrooms_per_room': True}, 'preprocess__num_pipeline__imputer__strategy': 'mean', 'regressor__max_features': 4, 'regressor__n_estimators': 10}\n",
            "55118.18203096245 {'preprocess__num_pipeline__attribs_adder__kw_args': {'add_bedrooms_per_room': True}, 'preprocess__num_pipeline__imputer__strategy': 'mean', 'regressor__max_features': 4, 'regressor__n_estimators': 30}\n",
            "64002.447357607685 {'preprocess__num_pipeline__attribs_adder__kw_args': {'add_bedrooms_per_room': True}, 'preprocess__num_pipeline__imputer__strategy': 'mean', 'regressor__max_features': 6, 'regressor__n_estimators': 3}\n",
            "56023.11396894679 {'preprocess__num_pipeline__attribs_adder__kw_args': {'add_bedrooms_per_room': True}, 'preprocess__num_pipeline__imputer__strategy': 'mean', 'regressor__max_features': 6, 'regressor__n_estimators': 10}\n",
            "53507.215522381644 {'preprocess__num_pipeline__attribs_adder__kw_args': {'add_bedrooms_per_room': True}, 'preprocess__num_pipeline__imputer__strategy': 'mean', 'regressor__max_features': 6, 'regressor__n_estimators': 30}\n",
            "61649.12516983852 {'preprocess__num_pipeline__attribs_adder__kw_args': {'add_bedrooms_per_room': True}, 'preprocess__num_pipeline__imputer__strategy': 'mean', 'regressor__max_features': 8, 'regressor__n_estimators': 3}\n",
            "54529.00568220134 {'preprocess__num_pipeline__attribs_adder__kw_args': {'add_bedrooms_per_room': True}, 'preprocess__num_pipeline__imputer__strategy': 'mean', 'regressor__max_features': 8, 'regressor__n_estimators': 10}\n",
            "52519.84397785019 {'preprocess__num_pipeline__attribs_adder__kw_args': {'add_bedrooms_per_room': True}, 'preprocess__num_pipeline__imputer__strategy': 'mean', 'regressor__max_features': 8, 'regressor__n_estimators': 30}\n",
            "70534.09077950913 {'preprocess__num_pipeline__attribs_adder__kw_args': {'add_bedrooms_per_room': True}, 'preprocess__num_pipeline__imputer__strategy': 'median', 'regressor__max_features': 2, 'regressor__n_estimators': 3}\n",
            "61096.71562099479 {'preprocess__num_pipeline__attribs_adder__kw_args': {'add_bedrooms_per_room': True}, 'preprocess__num_pipeline__imputer__strategy': 'median', 'regressor__max_features': 2, 'regressor__n_estimators': 10}\n",
            "58694.27222490291 {'preprocess__num_pipeline__attribs_adder__kw_args': {'add_bedrooms_per_room': True}, 'preprocess__num_pipeline__imputer__strategy': 'median', 'regressor__max_features': 2, 'regressor__n_estimators': 30}\n",
            "64430.820986225604 {'preprocess__num_pipeline__attribs_adder__kw_args': {'add_bedrooms_per_room': True}, 'preprocess__num_pipeline__imputer__strategy': 'median', 'regressor__max_features': 4, 'regressor__n_estimators': 3}\n",
            "57152.05899622501 {'preprocess__num_pipeline__attribs_adder__kw_args': {'add_bedrooms_per_room': True}, 'preprocess__num_pipeline__imputer__strategy': 'median', 'regressor__max_features': 4, 'regressor__n_estimators': 10}\n",
            "54569.78551784003 {'preprocess__num_pipeline__attribs_adder__kw_args': {'add_bedrooms_per_room': True}, 'preprocess__num_pipeline__imputer__strategy': 'median', 'regressor__max_features': 4, 'regressor__n_estimators': 30}\n",
            "62977.60081048917 {'preprocess__num_pipeline__attribs_adder__kw_args': {'add_bedrooms_per_room': True}, 'preprocess__num_pipeline__imputer__strategy': 'median', 'regressor__max_features': 6, 'regressor__n_estimators': 3}\n",
            "55473.63482795983 {'preprocess__num_pipeline__attribs_adder__kw_args': {'add_bedrooms_per_room': True}, 'preprocess__num_pipeline__imputer__strategy': 'median', 'regressor__max_features': 6, 'regressor__n_estimators': 10}\n",
            "53279.39696293983 {'preprocess__num_pipeline__attribs_adder__kw_args': {'add_bedrooms_per_room': True}, 'preprocess__num_pipeline__imputer__strategy': 'median', 'regressor__max_features': 6, 'regressor__n_estimators': 30}\n",
            "61478.31989552933 {'preprocess__num_pipeline__attribs_adder__kw_args': {'add_bedrooms_per_room': True}, 'preprocess__num_pipeline__imputer__strategy': 'median', 'regressor__max_features': 8, 'regressor__n_estimators': 3}\n",
            "54535.83149242502 {'preprocess__num_pipeline__attribs_adder__kw_args': {'add_bedrooms_per_room': True}, 'preprocess__num_pipeline__imputer__strategy': 'median', 'regressor__max_features': 8, 'regressor__n_estimators': 10}\n",
            "52703.3746824462 {'preprocess__num_pipeline__attribs_adder__kw_args': {'add_bedrooms_per_room': True}, 'preprocess__num_pipeline__imputer__strategy': 'median', 'regressor__max_features': 8, 'regressor__n_estimators': 30}\n",
            "69693.98643564028 {'preprocess__num_pipeline__attribs_adder__kw_args': {'add_bedrooms_per_room': True}, 'preprocess__num_pipeline__imputer__strategy': 'most_frequent', 'regressor__max_features': 2, 'regressor__n_estimators': 3}\n",
            "60911.778406700025 {'preprocess__num_pipeline__attribs_adder__kw_args': {'add_bedrooms_per_room': True}, 'preprocess__num_pipeline__imputer__strategy': 'most_frequent', 'regressor__max_features': 2, 'regressor__n_estimators': 10}\n",
            "58166.859967923556 {'preprocess__num_pipeline__attribs_adder__kw_args': {'add_bedrooms_per_room': True}, 'preprocess__num_pipeline__imputer__strategy': 'most_frequent', 'regressor__max_features': 2, 'regressor__n_estimators': 30}\n",
            "65235.494900104335 {'preprocess__num_pipeline__attribs_adder__kw_args': {'add_bedrooms_per_room': True}, 'preprocess__num_pipeline__imputer__strategy': 'most_frequent', 'regressor__max_features': 4, 'regressor__n_estimators': 3}\n",
            "56704.04435154925 {'preprocess__num_pipeline__attribs_adder__kw_args': {'add_bedrooms_per_room': True}, 'preprocess__num_pipeline__imputer__strategy': 'most_frequent', 'regressor__max_features': 4, 'regressor__n_estimators': 10}\n",
            "54535.053162047145 {'preprocess__num_pipeline__attribs_adder__kw_args': {'add_bedrooms_per_room': True}, 'preprocess__num_pipeline__imputer__strategy': 'most_frequent', 'regressor__max_features': 4, 'regressor__n_estimators': 30}\n",
            "61920.207905147385 {'preprocess__num_pipeline__attribs_adder__kw_args': {'add_bedrooms_per_room': True}, 'preprocess__num_pipeline__imputer__strategy': 'most_frequent', 'regressor__max_features': 6, 'regressor__n_estimators': 3}\n",
            "55466.65492434754 {'preprocess__num_pipeline__attribs_adder__kw_args': {'add_bedrooms_per_room': True}, 'preprocess__num_pipeline__imputer__strategy': 'most_frequent', 'regressor__max_features': 6, 'regressor__n_estimators': 10}\n",
            "53194.781466574575 {'preprocess__num_pipeline__attribs_adder__kw_args': {'add_bedrooms_per_room': True}, 'preprocess__num_pipeline__imputer__strategy': 'most_frequent', 'regressor__max_features': 6, 'regressor__n_estimators': 30}\n",
            "60495.399510965326 {'preprocess__num_pipeline__attribs_adder__kw_args': {'add_bedrooms_per_room': True}, 'preprocess__num_pipeline__imputer__strategy': 'most_frequent', 'regressor__max_features': 8, 'regressor__n_estimators': 3}\n",
            "54932.922258638544 {'preprocess__num_pipeline__attribs_adder__kw_args': {'add_bedrooms_per_room': True}, 'preprocess__num_pipeline__imputer__strategy': 'most_frequent', 'regressor__max_features': 8, 'regressor__n_estimators': 10}\n",
            "52490.05710119407 {'preprocess__num_pipeline__attribs_adder__kw_args': {'add_bedrooms_per_room': True}, 'preprocess__num_pipeline__imputer__strategy': 'most_frequent', 'regressor__max_features': 8, 'regressor__n_estimators': 30}\n",
            "70040.48162200143 {'preprocess__num_pipeline__attribs_adder__kw_args': {'add_bedrooms_per_room': False}, 'preprocess__num_pipeline__imputer__strategy': 'mean', 'regressor__max_features': 2, 'regressor__n_estimators': 3}\n",
            "62091.09849247885 {'preprocess__num_pipeline__attribs_adder__kw_args': {'add_bedrooms_per_room': False}, 'preprocess__num_pipeline__imputer__strategy': 'mean', 'regressor__max_features': 2, 'regressor__n_estimators': 10}\n",
            "59039.27294644711 {'preprocess__num_pipeline__attribs_adder__kw_args': {'add_bedrooms_per_room': False}, 'preprocess__num_pipeline__imputer__strategy': 'mean', 'regressor__max_features': 2, 'regressor__n_estimators': 30}\n",
            "66830.10195126379 {'preprocess__num_pipeline__attribs_adder__kw_args': {'add_bedrooms_per_room': False}, 'preprocess__num_pipeline__imputer__strategy': 'mean', 'regressor__max_features': 4, 'regressor__n_estimators': 3}\n",
            "58520.51597302778 {'preprocess__num_pipeline__attribs_adder__kw_args': {'add_bedrooms_per_room': False}, 'preprocess__num_pipeline__imputer__strategy': 'mean', 'regressor__max_features': 4, 'regressor__n_estimators': 10}\n",
            "55678.18477908664 {'preprocess__num_pipeline__attribs_adder__kw_args': {'add_bedrooms_per_room': False}, 'preprocess__num_pipeline__imputer__strategy': 'mean', 'regressor__max_features': 4, 'regressor__n_estimators': 30}\n",
            "63541.80831672112 {'preprocess__num_pipeline__attribs_adder__kw_args': {'add_bedrooms_per_room': False}, 'preprocess__num_pipeline__imputer__strategy': 'mean', 'regressor__max_features': 6, 'regressor__n_estimators': 3}\n",
            "56267.822493988744 {'preprocess__num_pipeline__attribs_adder__kw_args': {'add_bedrooms_per_room': False}, 'preprocess__num_pipeline__imputer__strategy': 'mean', 'regressor__max_features': 6, 'regressor__n_estimators': 10}\n",
            "54217.44586308728 {'preprocess__num_pipeline__attribs_adder__kw_args': {'add_bedrooms_per_room': False}, 'preprocess__num_pipeline__imputer__strategy': 'mean', 'regressor__max_features': 6, 'regressor__n_estimators': 30}\n",
            "61354.7336659607 {'preprocess__num_pipeline__attribs_adder__kw_args': {'add_bedrooms_per_room': False}, 'preprocess__num_pipeline__imputer__strategy': 'mean', 'regressor__max_features': 8, 'regressor__n_estimators': 3}\n",
            "55484.12779274256 {'preprocess__num_pipeline__attribs_adder__kw_args': {'add_bedrooms_per_room': False}, 'preprocess__num_pipeline__imputer__strategy': 'mean', 'regressor__max_features': 8, 'regressor__n_estimators': 10}\n",
            "52645.281505483945 {'preprocess__num_pipeline__attribs_adder__kw_args': {'add_bedrooms_per_room': False}, 'preprocess__num_pipeline__imputer__strategy': 'mean', 'regressor__max_features': 8, 'regressor__n_estimators': 30}\n",
            "71012.06705787982 {'preprocess__num_pipeline__attribs_adder__kw_args': {'add_bedrooms_per_room': False}, 'preprocess__num_pipeline__imputer__strategy': 'median', 'regressor__max_features': 2, 'regressor__n_estimators': 3}\n",
            "61918.637746734894 {'preprocess__num_pipeline__attribs_adder__kw_args': {'add_bedrooms_per_room': False}, 'preprocess__num_pipeline__imputer__strategy': 'median', 'regressor__max_features': 2, 'regressor__n_estimators': 10}\n",
            "59098.85323789395 {'preprocess__num_pipeline__attribs_adder__kw_args': {'add_bedrooms_per_room': False}, 'preprocess__num_pipeline__imputer__strategy': 'median', 'regressor__max_features': 2, 'regressor__n_estimators': 30}\n",
            "67541.10887297752 {'preprocess__num_pipeline__attribs_adder__kw_args': {'add_bedrooms_per_room': False}, 'preprocess__num_pipeline__imputer__strategy': 'median', 'regressor__max_features': 4, 'regressor__n_estimators': 3}\n",
            "58775.28347509231 {'preprocess__num_pipeline__attribs_adder__kw_args': {'add_bedrooms_per_room': False}, 'preprocess__num_pipeline__imputer__strategy': 'median', 'regressor__max_features': 4, 'regressor__n_estimators': 10}\n",
            "55858.8470481581 {'preprocess__num_pipeline__attribs_adder__kw_args': {'add_bedrooms_per_room': False}, 'preprocess__num_pipeline__imputer__strategy': 'median', 'regressor__max_features': 4, 'regressor__n_estimators': 30}\n",
            "63463.19389790175 {'preprocess__num_pipeline__attribs_adder__kw_args': {'add_bedrooms_per_room': False}, 'preprocess__num_pipeline__imputer__strategy': 'median', 'regressor__max_features': 6, 'regressor__n_estimators': 3}\n",
            "56585.16881589317 {'preprocess__num_pipeline__attribs_adder__kw_args': {'add_bedrooms_per_room': False}, 'preprocess__num_pipeline__imputer__strategy': 'median', 'regressor__max_features': 6, 'regressor__n_estimators': 10}\n",
            "53814.760820935764 {'preprocess__num_pipeline__attribs_adder__kw_args': {'add_bedrooms_per_room': False}, 'preprocess__num_pipeline__imputer__strategy': 'median', 'regressor__max_features': 6, 'regressor__n_estimators': 30}\n",
            "62574.007650544416 {'preprocess__num_pipeline__attribs_adder__kw_args': {'add_bedrooms_per_room': False}, 'preprocess__num_pipeline__imputer__strategy': 'median', 'regressor__max_features': 8, 'regressor__n_estimators': 3}\n",
            "55140.56028870166 {'preprocess__num_pipeline__attribs_adder__kw_args': {'add_bedrooms_per_room': False}, 'preprocess__num_pipeline__imputer__strategy': 'median', 'regressor__max_features': 8, 'regressor__n_estimators': 10}\n",
            "52865.732241070764 {'preprocess__num_pipeline__attribs_adder__kw_args': {'add_bedrooms_per_room': False}, 'preprocess__num_pipeline__imputer__strategy': 'median', 'regressor__max_features': 8, 'regressor__n_estimators': 30}\n",
            "71532.91718359363 {'preprocess__num_pipeline__attribs_adder__kw_args': {'add_bedrooms_per_room': False}, 'preprocess__num_pipeline__imputer__strategy': 'most_frequent', 'regressor__max_features': 2, 'regressor__n_estimators': 3}\n",
            "61168.607271820256 {'preprocess__num_pipeline__attribs_adder__kw_args': {'add_bedrooms_per_room': False}, 'preprocess__num_pipeline__imputer__strategy': 'most_frequent', 'regressor__max_features': 2, 'regressor__n_estimators': 10}\n",
            "59151.88343619006 {'preprocess__num_pipeline__attribs_adder__kw_args': {'add_bedrooms_per_room': False}, 'preprocess__num_pipeline__imputer__strategy': 'most_frequent', 'regressor__max_features': 2, 'regressor__n_estimators': 30}\n",
            "64958.26351686579 {'preprocess__num_pipeline__attribs_adder__kw_args': {'add_bedrooms_per_room': False}, 'preprocess__num_pipeline__imputer__strategy': 'most_frequent', 'regressor__max_features': 4, 'regressor__n_estimators': 3}\n",
            "58518.77657310502 {'preprocess__num_pipeline__attribs_adder__kw_args': {'add_bedrooms_per_room': False}, 'preprocess__num_pipeline__imputer__strategy': 'most_frequent', 'regressor__max_features': 4, 'regressor__n_estimators': 10}\n",
            "55726.35561204144 {'preprocess__num_pipeline__attribs_adder__kw_args': {'add_bedrooms_per_room': False}, 'preprocess__num_pipeline__imputer__strategy': 'most_frequent', 'regressor__max_features': 4, 'regressor__n_estimators': 30}\n",
            "64034.634980778515 {'preprocess__num_pipeline__attribs_adder__kw_args': {'add_bedrooms_per_room': False}, 'preprocess__num_pipeline__imputer__strategy': 'most_frequent', 'regressor__max_features': 6, 'regressor__n_estimators': 3}\n",
            "56566.68141400418 {'preprocess__num_pipeline__attribs_adder__kw_args': {'add_bedrooms_per_room': False}, 'preprocess__num_pipeline__imputer__strategy': 'most_frequent', 'regressor__max_features': 6, 'regressor__n_estimators': 10}\n",
            "53936.42488398292 {'preprocess__num_pipeline__attribs_adder__kw_args': {'add_bedrooms_per_room': False}, 'preprocess__num_pipeline__imputer__strategy': 'most_frequent', 'regressor__max_features': 6, 'regressor__n_estimators': 30}\n",
            "61519.54502397412 {'preprocess__num_pipeline__attribs_adder__kw_args': {'add_bedrooms_per_room': False}, 'preprocess__num_pipeline__imputer__strategy': 'most_frequent', 'regressor__max_features': 8, 'regressor__n_estimators': 3}\n",
            "55179.28720202639 {'preprocess__num_pipeline__attribs_adder__kw_args': {'add_bedrooms_per_room': False}, 'preprocess__num_pipeline__imputer__strategy': 'most_frequent', 'regressor__max_features': 8, 'regressor__n_estimators': 10}\n",
            "52997.146018632026 {'preprocess__num_pipeline__attribs_adder__kw_args': {'add_bedrooms_per_room': False}, 'preprocess__num_pipeline__imputer__strategy': 'most_frequent', 'regressor__max_features': 8, 'regressor__n_estimators': 30}\n",
            "68057.58923594806 {'preprocess__num_pipeline__attribs_adder__kw_args': {'add_bedrooms_per_room': True}, 'preprocess__num_pipeline__imputer__strategy': 'mean', 'regressor__bootstrap': False, 'regressor__max_features': 2, 'regressor__n_estimators': 3}\n",
            "60507.76180193507 {'preprocess__num_pipeline__attribs_adder__kw_args': {'add_bedrooms_per_room': True}, 'preprocess__num_pipeline__imputer__strategy': 'mean', 'regressor__bootstrap': False, 'regressor__max_features': 2, 'regressor__n_estimators': 10}\n",
            "65906.05428744567 {'preprocess__num_pipeline__attribs_adder__kw_args': {'add_bedrooms_per_room': True}, 'preprocess__num_pipeline__imputer__strategy': 'mean', 'regressor__bootstrap': False, 'regressor__max_features': 3, 'regressor__n_estimators': 3}\n",
            "57208.18342988993 {'preprocess__num_pipeline__attribs_adder__kw_args': {'add_bedrooms_per_room': True}, 'preprocess__num_pipeline__imputer__strategy': 'mean', 'regressor__bootstrap': False, 'regressor__max_features': 3, 'regressor__n_estimators': 10}\n",
            "62468.754550518126 {'preprocess__num_pipeline__attribs_adder__kw_args': {'add_bedrooms_per_room': True}, 'preprocess__num_pipeline__imputer__strategy': 'mean', 'regressor__bootstrap': False, 'regressor__max_features': 4, 'regressor__n_estimators': 3}\n",
            "56346.60186146769 {'preprocess__num_pipeline__attribs_adder__kw_args': {'add_bedrooms_per_room': True}, 'preprocess__num_pipeline__imputer__strategy': 'mean', 'regressor__bootstrap': False, 'regressor__max_features': 4, 'regressor__n_estimators': 10}\n",
            "67951.40164286752 {'preprocess__num_pipeline__attribs_adder__kw_args': {'add_bedrooms_per_room': True}, 'preprocess__num_pipeline__imputer__strategy': 'median', 'regressor__bootstrap': False, 'regressor__max_features': 2, 'regressor__n_estimators': 3}\n",
            "59901.536409162894 {'preprocess__num_pipeline__attribs_adder__kw_args': {'add_bedrooms_per_room': True}, 'preprocess__num_pipeline__imputer__strategy': 'median', 'regressor__bootstrap': False, 'regressor__max_features': 2, 'regressor__n_estimators': 10}\n",
            "64895.990046162406 {'preprocess__num_pipeline__attribs_adder__kw_args': {'add_bedrooms_per_room': True}, 'preprocess__num_pipeline__imputer__strategy': 'median', 'regressor__bootstrap': False, 'regressor__max_features': 3, 'regressor__n_estimators': 3}\n",
            "57582.6329142672 {'preprocess__num_pipeline__attribs_adder__kw_args': {'add_bedrooms_per_room': True}, 'preprocess__num_pipeline__imputer__strategy': 'median', 'regressor__bootstrap': False, 'regressor__max_features': 3, 'regressor__n_estimators': 10}\n",
            "63044.552618190166 {'preprocess__num_pipeline__attribs_adder__kw_args': {'add_bedrooms_per_room': True}, 'preprocess__num_pipeline__imputer__strategy': 'median', 'regressor__bootstrap': False, 'regressor__max_features': 4, 'regressor__n_estimators': 3}\n",
            "56321.87208878128 {'preprocess__num_pipeline__attribs_adder__kw_args': {'add_bedrooms_per_room': True}, 'preprocess__num_pipeline__imputer__strategy': 'median', 'regressor__bootstrap': False, 'regressor__max_features': 4, 'regressor__n_estimators': 10}\n",
            "69259.4421170166 {'preprocess__num_pipeline__attribs_adder__kw_args': {'add_bedrooms_per_room': True}, 'preprocess__num_pipeline__imputer__strategy': 'most_frequent', 'regressor__bootstrap': False, 'regressor__max_features': 2, 'regressor__n_estimators': 3}\n",
            "60121.667009530785 {'preprocess__num_pipeline__attribs_adder__kw_args': {'add_bedrooms_per_room': True}, 'preprocess__num_pipeline__imputer__strategy': 'most_frequent', 'regressor__bootstrap': False, 'regressor__max_features': 2, 'regressor__n_estimators': 10}\n",
            "64494.98406262822 {'preprocess__num_pipeline__attribs_adder__kw_args': {'add_bedrooms_per_room': True}, 'preprocess__num_pipeline__imputer__strategy': 'most_frequent', 'regressor__bootstrap': False, 'regressor__max_features': 3, 'regressor__n_estimators': 3}\n",
            "57817.27707498098 {'preprocess__num_pipeline__attribs_adder__kw_args': {'add_bedrooms_per_room': True}, 'preprocess__num_pipeline__imputer__strategy': 'most_frequent', 'regressor__bootstrap': False, 'regressor__max_features': 3, 'regressor__n_estimators': 10}\n",
            "63562.26881908084 {'preprocess__num_pipeline__attribs_adder__kw_args': {'add_bedrooms_per_room': True}, 'preprocess__num_pipeline__imputer__strategy': 'most_frequent', 'regressor__bootstrap': False, 'regressor__max_features': 4, 'regressor__n_estimators': 3}\n",
            "56078.7342853404 {'preprocess__num_pipeline__attribs_adder__kw_args': {'add_bedrooms_per_room': True}, 'preprocess__num_pipeline__imputer__strategy': 'most_frequent', 'regressor__bootstrap': False, 'regressor__max_features': 4, 'regressor__n_estimators': 10}\n",
            "69686.94683592845 {'preprocess__num_pipeline__attribs_adder__kw_args': {'add_bedrooms_per_room': False}, 'preprocess__num_pipeline__imputer__strategy': 'mean', 'regressor__bootstrap': False, 'regressor__max_features': 2, 'regressor__n_estimators': 3}\n",
            "60935.8428552598 {'preprocess__num_pipeline__attribs_adder__kw_args': {'add_bedrooms_per_room': False}, 'preprocess__num_pipeline__imputer__strategy': 'mean', 'regressor__bootstrap': False, 'regressor__max_features': 2, 'regressor__n_estimators': 10}\n",
            "65643.53033808473 {'preprocess__num_pipeline__attribs_adder__kw_args': {'add_bedrooms_per_room': False}, 'preprocess__num_pipeline__imputer__strategy': 'mean', 'regressor__bootstrap': False, 'regressor__max_features': 3, 'regressor__n_estimators': 3}\n",
            "58013.8664804761 {'preprocess__num_pipeline__attribs_adder__kw_args': {'add_bedrooms_per_room': False}, 'preprocess__num_pipeline__imputer__strategy': 'mean', 'regressor__bootstrap': False, 'regressor__max_features': 3, 'regressor__n_estimators': 10}\n",
            "63928.511911411275 {'preprocess__num_pipeline__attribs_adder__kw_args': {'add_bedrooms_per_room': False}, 'preprocess__num_pipeline__imputer__strategy': 'mean', 'regressor__bootstrap': False, 'regressor__max_features': 4, 'regressor__n_estimators': 3}\n",
            "57283.00672633038 {'preprocess__num_pipeline__attribs_adder__kw_args': {'add_bedrooms_per_room': False}, 'preprocess__num_pipeline__imputer__strategy': 'mean', 'regressor__bootstrap': False, 'regressor__max_features': 4, 'regressor__n_estimators': 10}\n",
            "68827.41097280638 {'preprocess__num_pipeline__attribs_adder__kw_args': {'add_bedrooms_per_room': False}, 'preprocess__num_pipeline__imputer__strategy': 'median', 'regressor__bootstrap': False, 'regressor__max_features': 2, 'regressor__n_estimators': 3}\n",
            "60050.71581121667 {'preprocess__num_pipeline__attribs_adder__kw_args': {'add_bedrooms_per_room': False}, 'preprocess__num_pipeline__imputer__strategy': 'median', 'regressor__bootstrap': False, 'regressor__max_features': 2, 'regressor__n_estimators': 10}\n",
            "67655.7975172303 {'preprocess__num_pipeline__attribs_adder__kw_args': {'add_bedrooms_per_room': False}, 'preprocess__num_pipeline__imputer__strategy': 'median', 'regressor__bootstrap': False, 'regressor__max_features': 3, 'regressor__n_estimators': 3}\n",
            "58459.743766421234 {'preprocess__num_pipeline__attribs_adder__kw_args': {'add_bedrooms_per_room': False}, 'preprocess__num_pipeline__imputer__strategy': 'median', 'regressor__bootstrap': False, 'regressor__max_features': 3, 'regressor__n_estimators': 10}\n",
            "64306.9263672486 {'preprocess__num_pipeline__attribs_adder__kw_args': {'add_bedrooms_per_room': False}, 'preprocess__num_pipeline__imputer__strategy': 'median', 'regressor__bootstrap': False, 'regressor__max_features': 4, 'regressor__n_estimators': 3}\n",
            "57351.7231057267 {'preprocess__num_pipeline__attribs_adder__kw_args': {'add_bedrooms_per_room': False}, 'preprocess__num_pipeline__imputer__strategy': 'median', 'regressor__bootstrap': False, 'regressor__max_features': 4, 'regressor__n_estimators': 10}\n",
            "67444.1892222258 {'preprocess__num_pipeline__attribs_adder__kw_args': {'add_bedrooms_per_room': False}, 'preprocess__num_pipeline__imputer__strategy': 'most_frequent', 'regressor__bootstrap': False, 'regressor__max_features': 2, 'regressor__n_estimators': 3}\n",
            "60859.98889195216 {'preprocess__num_pipeline__attribs_adder__kw_args': {'add_bedrooms_per_room': False}, 'preprocess__num_pipeline__imputer__strategy': 'most_frequent', 'regressor__bootstrap': False, 'regressor__max_features': 2, 'regressor__n_estimators': 10}\n",
            "66434.984894646 {'preprocess__num_pipeline__attribs_adder__kw_args': {'add_bedrooms_per_room': False}, 'preprocess__num_pipeline__imputer__strategy': 'most_frequent', 'regressor__bootstrap': False, 'regressor__max_features': 3, 'regressor__n_estimators': 3}\n",
            "58145.991911107696 {'preprocess__num_pipeline__attribs_adder__kw_args': {'add_bedrooms_per_room': False}, 'preprocess__num_pipeline__imputer__strategy': 'most_frequent', 'regressor__bootstrap': False, 'regressor__max_features': 3, 'regressor__n_estimators': 10}\n",
            "63569.716297739455 {'preprocess__num_pipeline__attribs_adder__kw_args': {'add_bedrooms_per_room': False}, 'preprocess__num_pipeline__imputer__strategy': 'most_frequent', 'regressor__bootstrap': False, 'regressor__max_features': 4, 'regressor__n_estimators': 3}\n",
            "57407.952342027806 {'preprocess__num_pipeline__attribs_adder__kw_args': {'add_bedrooms_per_room': False}, 'preprocess__num_pipeline__imputer__strategy': 'most_frequent', 'regressor__bootstrap': False, 'regressor__max_features': 4, 'regressor__n_estimators': 10}\n"
          ],
          "name": "stdout"
        },
        {
          "output_type": "execute_result",
          "data": {
            "text/plain": [
              "{'preprocess__num_pipeline__attribs_adder__kw_args': {'add_bedrooms_per_room': True},\n",
              " 'preprocess__num_pipeline__imputer__strategy': 'most_frequent',\n",
              " 'regressor__max_features': 8,\n",
              " 'regressor__n_estimators': 30}"
            ]
          },
          "metadata": {
            "tags": []
          },
          "execution_count": 82
        }
      ]
    },
    {
      "cell_type": "code",
      "metadata": {
        "colab": {
          "base_uri": "https://localhost:8080/"
        },
        "id": "iZnck05F1ewN",
        "outputId": "92cd1579-bbe3-4c03-c583-e7594db1c281"
      },
      "source": [
        "grid_search.best_estimator_"
      ],
      "execution_count": null,
      "outputs": [
        {
          "output_type": "execute_result",
          "data": {
            "text/plain": [
              "Pipeline(memory=None,\n",
              "         steps=[('preprocess',\n",
              "                 ColumnTransformer(n_jobs=None, remainder='drop',\n",
              "                                   sparse_threshold=0.3,\n",
              "                                   transformer_weights=None,\n",
              "                                   transformers=[('num_pipeline',\n",
              "                                                  Pipeline(memory=None,\n",
              "                                                           steps=[('imputer',\n",
              "                                                                   SimpleImputer(add_indicator=False,\n",
              "                                                                                 copy=True,\n",
              "                                                                                 fill_value=None,\n",
              "                                                                                 missing_values=nan,\n",
              "                                                                                 strategy='most_frequent',\n",
              "                                                                                 verbose=0)),\n",
              "                                                                  ('attribs_adder',\n",
              "                                                                   FunctionTrans...\n",
              "                 RandomForestRegressor(bootstrap=True, ccp_alpha=0.0,\n",
              "                                       criterion='mse', max_depth=None,\n",
              "                                       max_features=8, max_leaf_nodes=None,\n",
              "                                       max_samples=None,\n",
              "                                       min_impurity_decrease=0.0,\n",
              "                                       min_impurity_split=None,\n",
              "                                       min_samples_leaf=1, min_samples_split=2,\n",
              "                                       min_weight_fraction_leaf=0.0,\n",
              "                                       n_estimators=30, n_jobs=None,\n",
              "                                       oob_score=False, random_state=None,\n",
              "                                       verbose=0, warm_start=False))],\n",
              "         verbose=False)"
            ]
          },
          "metadata": {
            "tags": []
          },
          "execution_count": 83
        }
      ]
    },
    {
      "cell_type": "code",
      "metadata": {
        "colab": {
          "base_uri": "https://localhost:8080/"
        },
        "id": "dK0rpzHQresV",
        "outputId": "7270ce2e-fc32-4fc2-c78a-1198b15ce316"
      },
      "source": [
        "grid_search.best_estimator_[1]"
      ],
      "execution_count": null,
      "outputs": [
        {
          "output_type": "execute_result",
          "data": {
            "text/plain": [
              "RandomForestRegressor(bootstrap=True, ccp_alpha=0.0, criterion='mse',\n",
              "                      max_depth=None, max_features=8, max_leaf_nodes=None,\n",
              "                      max_samples=None, min_impurity_decrease=0.0,\n",
              "                      min_impurity_split=None, min_samples_leaf=1,\n",
              "                      min_samples_split=2, min_weight_fraction_leaf=0.0,\n",
              "                      n_estimators=30, n_jobs=None, oob_score=False,\n",
              "                      random_state=None, verbose=0, warm_start=False)"
            ]
          },
          "metadata": {
            "tags": []
          },
          "execution_count": 84
        }
      ]
    },
    {
      "cell_type": "code",
      "metadata": {
        "id": "4mX8DFIFudxq"
      },
      "source": [
        "feature_importances = grid_search.best_estimator_[1].feature_importances_"
      ],
      "execution_count": null,
      "outputs": []
    },
    {
      "cell_type": "code",
      "metadata": {
        "id": "dXlJET6Kuey5"
      },
      "source": [
        "extra_num_attribs = [\"rooms_per_hhold\", \"pop_per_hhold\", \"bedrooms_per_room\"]\n",
        "extra_cat_attribs = ['income_cat_1', 'income_cat_2', 'income_cat_3', 'income_cat_4', 'income_cat_5']"
      ],
      "execution_count": null,
      "outputs": []
    },
    {
      "cell_type": "code",
      "metadata": {
        "colab": {
          "base_uri": "https://localhost:8080/"
        },
        "id": "F0oqwORKvtCG",
        "outputId": "b3390b66-18f3-4b8f-e051-0d85d042e09c"
      },
      "source": [
        "attributes = list(train.drop('income_cat', axis = 1).columns) + extra_num_attribs + extra_cat_attribs\n",
        "sorted(zip(feature_importances, attributes), reverse=True)\n"
      ],
      "execution_count": null,
      "outputs": [
        {
          "output_type": "execute_result",
          "data": {
            "text/plain": [
              "[(0.3184345159980119, 'median_income'),\n",
              " (0.13865664365677247, 'income_cat_5'),\n",
              " (0.11709132055613897, 'bedrooms_per_room'),\n",
              " (0.10554763463169196, 'longitude'),\n",
              " (0.10318961669714415, 'latitude'),\n",
              " (0.06005668216892807, 'housingmedianage'),\n",
              " (0.025229128080129337, 'income_cat_4'),\n",
              " (0.019618799256743414, 'total_rooms'),\n",
              " (0.019546009311800006, 'population'),\n",
              " (0.01884055544831321, 'pop_per_hhold'),\n",
              " (0.016783888214376496, 'households'),\n",
              " (0.016366357682338895, 'rooms_per_hhold'),\n",
              " (0.014395352328204632, 'total_bedrooms'),\n",
              " (0.01357402909030483, 'income_cat_2'),\n",
              " (0.012403374475202246, 'income_cat_3'),\n",
              " (0.00026609240389937705, 'income_cat_1')]"
            ]
          },
          "metadata": {
            "tags": []
          },
          "execution_count": 87
        }
      ]
    },
    {
      "cell_type": "markdown",
      "metadata": {
        "id": "_x8TrWZPBqKv"
      },
      "source": [
        "#Testing"
      ]
    },
    {
      "cell_type": "code",
      "metadata": {
        "id": "eByclpdMv12V"
      },
      "source": [
        "final_model = grid_search.best_estimator_\n",
        "X_test = strat_test_set.drop(\"medianhousevalue\", axis=1)\n",
        "y_test = strat_test_set[\"medianhousevalue\"].copy()\n",
        "\n",
        "# X_test_prepared = pd.DataFrame(pipeline_preprop.transform(X_test), columns=attributes)\n",
        "# final_predictions = final_model.predict(X_test_prepared)\n",
        "final_predictions = grid_search.best_estimator_.predict(X_test)\n",
        "final_mse = mean_squared_error(y_test, final_predictions)\n",
        "final_rmse = np.sqrt(final_mse)"
      ],
      "execution_count": null,
      "outputs": []
    },
    {
      "cell_type": "code",
      "metadata": {
        "colab": {
          "base_uri": "https://localhost:8080/"
        },
        "id": "UVme96EmyuPs",
        "outputId": "7eb8f2ea-e4f3-47ed-e161-d450756dc84a"
      },
      "source": [
        "final_rmse"
      ],
      "execution_count": null,
      "outputs": [
        {
          "output_type": "execute_result",
          "data": {
            "text/plain": [
              "50892.02799045706"
            ]
          },
          "metadata": {
            "tags": []
          },
          "execution_count": 89
        }
      ]
    },
    {
      "cell_type": "markdown",
      "metadata": {
        "id": "qZYf_X1UBtNo"
      },
      "source": [
        "## Confidence interval"
      ]
    },
    {
      "cell_type": "code",
      "metadata": {
        "colab": {
          "base_uri": "https://localhost:8080/"
        },
        "id": "ufd6zIPAAtz0",
        "outputId": "bc0813d6-d631-43d0-9ffc-e1f333215e3a"
      },
      "source": [
        "confidence = 0.95\n",
        "squared_errors = (final_predictions - y_test) ** 2\n",
        "mean = squared_errors.mean()\n",
        "m = len(squared_errors)\n",
        "\n",
        "np.sqrt(stats.t.interval(confidence, m - 1,\n",
        "                         loc=np.mean(squared_errors),\n",
        "                         scale=stats.sem(squared_errors)))"
      ],
      "execution_count": null,
      "outputs": [
        {
          "output_type": "execute_result",
          "data": {
            "text/plain": [
              "array([48679.77484821, 52721.32825646])"
            ]
          },
          "metadata": {
            "tags": []
          },
          "execution_count": 77
        }
      ]
    },
    {
      "cell_type": "code",
      "metadata": {
        "colab": {
          "base_uri": "https://localhost:8080/"
        },
        "id": "KxnISeSGCMBs",
        "outputId": "286641f7-4669-49fd-bdf8-83533e609e81"
      },
      "source": [
        "tscore = stats.t.ppf((1 + confidence) / 2, df=m - 1)\n",
        "tmargin = tscore * squared_errors.std(ddof=1) / np.sqrt(m)\n",
        "np.sqrt(mean - tmargin), np.sqrt(mean + tmargin)"
      ],
      "execution_count": null,
      "outputs": [
        {
          "output_type": "execute_result",
          "data": {
            "text/plain": [
              "(48679.774848213325, 52721.32825646254)"
            ]
          },
          "metadata": {
            "tags": []
          },
          "execution_count": 78
        }
      ]
    },
    {
      "cell_type": "code",
      "metadata": {
        "colab": {
          "base_uri": "https://localhost:8080/"
        },
        "id": "BuUZvgl3CXtM",
        "outputId": "0971277b-7a18-4125-decb-ec58f5f01007"
      },
      "source": [
        "zscore = stats.norm.ppf((1 + confidence) / 2)\n",
        "zmargin = zscore * squared_errors.std(ddof=1) / np.sqrt(m)\n",
        "np.sqrt(mean - zmargin), np.sqrt(mean + zmargin)"
      ],
      "execution_count": null,
      "outputs": [
        {
          "output_type": "execute_result",
          "data": {
            "text/plain": [
              "(48680.39209566318, 52720.758319763496)"
            ]
          },
          "metadata": {
            "tags": []
          },
          "execution_count": 79
        }
      ]
    },
    {
      "cell_type": "code",
      "metadata": {
        "id": "LhHCZmpgCZoJ"
      },
      "source": [
        ""
      ],
      "execution_count": null,
      "outputs": []
    }
  ]
}