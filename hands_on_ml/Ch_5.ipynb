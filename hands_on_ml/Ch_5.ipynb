{
  "nbformat": 4,
  "nbformat_minor": 0,
  "metadata": {
    "colab": {
      "name": "Ch-5.ipynb",
      "provenance": [],
      "toc_visible": true,
      "authorship_tag": "ABX9TyN3Zu8KJ8PG3zFJZwnE7+5Y",
      "include_colab_link": true
    },
    "kernelspec": {
      "name": "python3",
      "display_name": "Python 3"
    }
  },
  "cells": [
    {
      "cell_type": "markdown",
      "metadata": {
        "id": "view-in-github",
        "colab_type": "text"
      },
      "source": [
        "<a href=\"https://colab.research.google.com/github/asokraju/ml-grinding/blob/master/hands_on_ml/Ch_5.ipynb\" target=\"_parent\"><img src=\"https://colab.research.google.com/assets/colab-badge.svg\" alt=\"Open In Colab\"/></a>"
      ]
    },
    {
      "cell_type": "markdown",
      "metadata": {
        "id": "BzfNd0nAfCwj"
      },
      "source": [
        "**Support Vector Machines**\n",
        "\n",
        "*Hard margin classification*\n",
        "\n",
        "Consider a linearly sperable 2-class data. You can think of an SVM classifier \n",
        "\n",
        "1.   as fitting a widest possible street between the classes. Large margin classifier.\n",
        "\n",
        "2.  boundary of this road will pass though the support vectors. Any data outside this road will not modify the model.\n",
        "\n",
        "3. Sensitive to Feature Scaling\n",
        "\n",
        "4. It is a hard margin classifier. Hence, highly sesitive to outliers.\n",
        "\n",
        "\n",
        "*Soft margin classification*\n",
        "\n",
        "1. The objective is to find a good balance between keeping the street as large as possible while limiting the margin violations (i.e., instances that endup in the middle of the streett or even on the wrong side). \n",
        "\n",
        "\n",
        "Tips:\n",
        "1. If your SVM model is overfitting, you can try regularizing it by\n",
        "reducing C\n",
        "\n",
        "2. SVM's Can also be used for outlier detection\n",
        "\n",
        "\n",
        "**SVM Regression**\n",
        "The trick is to reverse the objective: instead of trying to fit the largest pos‐\n",
        "sible street between two classes while limiting margin violations, SVM Regressiontries to fit as many instances as possible on the street while limiting margin violations(i.e., instances off the street).\n",
        "\n",
        "1. The width of the street is controlled by a hyperparameter ϵ\n",
        "2. Adding more training instances within the margin does not affect the model’s predictions; thus, the model is said to be ϵ-insensitive.\n"
      ]
    },
    {
      "cell_type": "markdown",
      "metadata": {
        "id": "N7Qcnu6Ie-Ub"
      },
      "source": [
        "# imports"
      ]
    },
    {
      "cell_type": "code",
      "metadata": {
        "id": "OIP6OTQDevS0"
      },
      "source": [
        "import numpy as np\n",
        "import random\n",
        "import pandas as pd\n",
        "import matplotlib.pyplot as plt\n",
        "%matplotlib inline\n",
        "import pprint as pp\n",
        "\n",
        "import os\n",
        "import urllib\n",
        "import tarfile\n",
        "import urllib.request\n",
        "from zipfile import ZipFile\n",
        "\n",
        "import scipy\n",
        "from scipy import stats\n",
        "\n",
        "import sklearn\n",
        "from sklearn import datasets\n",
        "\n",
        "from sklearn.svm import LinearSVC\n",
        "from sklearn.svm import SVR\n",
        "from sklearn.svm import SVC\n",
        "\n",
        "from sklearn.datasets import fetch_openml\n",
        "from sklearn.base import clone\n",
        "from sklearn.model_selection import train_test_split\n",
        "from sklearn.model_selection import StratifiedShuffleSplit\n",
        "\n",
        "from sklearn.impute import SimpleImputer\n",
        "from sklearn.base import BaseEstimator, TransformerMixin\n",
        "from sklearn.pipeline import Pipeline\n",
        "from sklearn.pipeline import FeatureUnion\n",
        "\n",
        "from sklearn.compose import ColumnTransformer\n",
        "\n",
        "from sklearn.preprocessing import LabelBinarizer\n",
        "from sklearn.preprocessing import StandardScaler\n",
        "from sklearn.preprocessing import OneHotEncoder\n",
        "from sklearn.preprocessing import FunctionTransformer\n",
        "from sklearn.preprocessing import PolynomialFeatures\n",
        "from sklearn.linear_model import LinearRegression\n",
        "from sklearn.linear_model import SGDRegressor\n",
        "from sklearn.linear_model import SGDClassifier\n",
        "\n",
        "from sklearn.metrics import mean_squared_error, confusion_matrix\n",
        "from sklearn.metrics import precision_score, recall_score, f1_score\n",
        "from sklearn.metrics import precision_recall_curve, roc_curve, roc_auc_score\n",
        "\n",
        "from sklearn.tree import DecisionTreeRegressor\n",
        "from sklearn.model_selection import cross_val_score, cross_val_predict\n",
        "from sklearn.model_selection import GridSearchCV\n",
        "from sklearn.model_selection import RandomizedSearchCV\n",
        "from sklearn.model_selection import StratifiedKFold\n",
        "\n",
        "from sklearn.ensemble import RandomForestRegressor\n",
        "from sklearn.ensemble import RandomForestClassifier\n",
        "#from sklearn.externals import joblib\n",
        "\n",
        "from sklearn.multiclass import OneVsOneClassifier\n",
        "\n",
        "from sklearn.neighbors import KNeighborsClassifier\n",
        "\n",
        "from pandas.plotting import scatter_matrix\n",
        "\n",
        "np.random.seed(42)\n",
        "random.seed(42)"
      ],
      "execution_count": null,
      "outputs": []
    },
    {
      "cell_type": "markdown",
      "metadata": {
        "id": "eXYApk2ofAr_"
      },
      "source": [
        "#Data"
      ]
    },
    {
      "cell_type": "code",
      "metadata": {
        "colab": {
          "base_uri": "https://localhost:8080/"
        },
        "id": "P6lBX7aOfBul",
        "outputId": "c50bfb92-25f5-4a3a-db87-e7672dccbd4e"
      },
      "source": [
        "iris = datasets.load_iris()\n",
        "iris.keys()"
      ],
      "execution_count": null,
      "outputs": [
        {
          "output_type": "execute_result",
          "data": {
            "text/plain": [
              "dict_keys(['data', 'target', 'target_names', 'DESCR', 'feature_names', 'filename'])"
            ]
          },
          "metadata": {
            "tags": []
          },
          "execution_count": 7
        }
      ]
    },
    {
      "cell_type": "code",
      "metadata": {
        "colab": {
          "base_uri": "https://localhost:8080/"
        },
        "id": "ONe35qpsiiTf",
        "outputId": "412e4915-ba6a-4599-95d3-20d8d741dcb8"
      },
      "source": [
        "X = iris['data']\n",
        "y = iris['target']\n",
        "X.shape"
      ],
      "execution_count": null,
      "outputs": [
        {
          "output_type": "execute_result",
          "data": {
            "text/plain": [
              "(150, 4)"
            ]
          },
          "metadata": {
            "tags": []
          },
          "execution_count": 11
        }
      ]
    },
    {
      "cell_type": "code",
      "metadata": {
        "colab": {
          "base_uri": "https://localhost:8080/"
        },
        "id": "e-t3DedsjNBm",
        "outputId": "005525f7-b6ea-4f81-a1a9-23f647e77a75"
      },
      "source": [
        "split = StratifiedShuffleSplit(n_splits=1, test_size=0.2, random_state=42)\n",
        "for train_index, test_index in split.split(X, y):\n",
        "    X_train = X[train_index]\n",
        "    X_test = X[test_index]\n",
        "    y_train = y[train_index]\n",
        "    y_test = y[test_index]\n",
        "print(\"test : \",len(X_test),\"\\ntrain : \",len(X_train))"
      ],
      "execution_count": null,
      "outputs": [
        {
          "output_type": "stream",
          "text": [
            "test :  30 \n",
            "train :  120\n"
          ],
          "name": "stdout"
        }
      ]
    },
    {
      "cell_type": "code",
      "metadata": {
        "colab": {
          "base_uri": "https://localhost:8080/"
        },
        "id": "Sv1wYkdHqYkM",
        "outputId": "4f9c60c5-d0a2-4714-872b-47875c0f24ae"
      },
      "source": [
        "y_train"
      ],
      "execution_count": null,
      "outputs": [
        {
          "output_type": "execute_result",
          "data": {
            "text/plain": [
              "array([0, 2, 1, 0, 1, 2, 1, 2, 2, 2, 2, 1, 1, 1, 1, 0, 0, 2, 2, 0, 1, 0,\n",
              "       2, 0, 1, 2, 2, 0, 2, 0, 0, 1, 1, 0, 2, 2, 1, 1, 2, 1, 0, 1, 0, 2,\n",
              "       0, 0, 2, 0, 0, 0, 0, 1, 2, 1, 0, 2, 1, 2, 0, 2, 0, 1, 2, 0, 1, 1,\n",
              "       2, 1, 1, 2, 0, 0, 0, 2, 1, 2, 1, 2, 2, 1, 0, 2, 1, 0, 2, 0, 2, 1,\n",
              "       1, 0, 1, 2, 0, 0, 2, 2, 2, 1, 2, 0, 2, 1, 2, 2, 0, 1, 1, 1, 1, 1,\n",
              "       0, 2, 1, 1, 0, 0, 0, 0, 1, 0])"
            ]
          },
          "metadata": {
            "tags": []
          },
          "execution_count": 57
        }
      ]
    },
    {
      "cell_type": "markdown",
      "metadata": {
        "id": "gLhGv__Gjl2C"
      },
      "source": [
        "#LinearSVC"
      ]
    },
    {
      "cell_type": "code",
      "metadata": {
        "id": "U730dyL0jfwQ"
      },
      "source": [
        "svm_clf = Pipeline([\n",
        "                    ('scaler', StandardScaler()),\n",
        "                    ('linear_svc', LinearSVC(C=1, loss='hinge'))\n",
        "])"
      ],
      "execution_count": null,
      "outputs": []
    },
    {
      "cell_type": "code",
      "metadata": {
        "colab": {
          "base_uri": "https://localhost:8080/"
        },
        "id": "Rse8EJTqj5ZX",
        "outputId": "6f091220-cc39-4226-af10-4ee4d2a182dc"
      },
      "source": [
        "svm_clf.fit(X_train, y_train)"
      ],
      "execution_count": null,
      "outputs": [
        {
          "output_type": "execute_result",
          "data": {
            "text/plain": [
              "Pipeline(memory=None,\n",
              "         steps=[('scaler',\n",
              "                 StandardScaler(copy=True, with_mean=True, with_std=True)),\n",
              "                ('linear_svc',\n",
              "                 LinearSVC(C=1, class_weight=None, dual=True,\n",
              "                           fit_intercept=True, intercept_scaling=1,\n",
              "                           loss='hinge', max_iter=1000, multi_class='ovr',\n",
              "                           penalty='l2', random_state=None, tol=0.0001,\n",
              "                           verbose=0))],\n",
              "         verbose=False)"
            ]
          },
          "metadata": {
            "tags": []
          },
          "execution_count": 14
        }
      ]
    },
    {
      "cell_type": "code",
      "metadata": {
        "colab": {
          "base_uri": "https://localhost:8080/"
        },
        "id": "zx_vbhTaj_bM",
        "outputId": "4b963320-4291-465c-a341-8236302e0434"
      },
      "source": [
        "y_pred = svm_clf.predict(X_test)\n",
        "sum(y_pred==y_test)/len(y_test)"
      ],
      "execution_count": null,
      "outputs": [
        {
          "output_type": "execute_result",
          "data": {
            "text/plain": [
              "0.8333333333333334"
            ]
          },
          "metadata": {
            "tags": []
          },
          "execution_count": 16
        }
      ]
    },
    {
      "cell_type": "code",
      "metadata": {
        "colab": {
          "base_uri": "https://localhost:8080/"
        },
        "id": "y1oleaknkFtc",
        "outputId": "3e8ba57a-9b88-4879-9d0f-788d9c7aba43"
      },
      "source": [
        "pp.pprint(sorted(svm_clf.get_params().keys()))"
      ],
      "execution_count": null,
      "outputs": [
        {
          "output_type": "stream",
          "text": [
            "['linear_svc',\n",
            " 'linear_svc__C',\n",
            " 'linear_svc__class_weight',\n",
            " 'linear_svc__dual',\n",
            " 'linear_svc__fit_intercept',\n",
            " 'linear_svc__intercept_scaling',\n",
            " 'linear_svc__loss',\n",
            " 'linear_svc__max_iter',\n",
            " 'linear_svc__multi_class',\n",
            " 'linear_svc__penalty',\n",
            " 'linear_svc__random_state',\n",
            " 'linear_svc__tol',\n",
            " 'linear_svc__verbose',\n",
            " 'memory',\n",
            " 'scaler',\n",
            " 'scaler__copy',\n",
            " 'scaler__with_mean',\n",
            " 'scaler__with_std',\n",
            " 'steps',\n",
            " 'verbose']\n"
          ],
          "name": "stdout"
        }
      ]
    },
    {
      "cell_type": "markdown",
      "metadata": {
        "id": "DK1ovcmIv4hB"
      },
      "source": [
        "##Grid Search"
      ]
    },
    {
      "cell_type": "code",
      "metadata": {
        "id": "Rmx7YCXxkP4_"
      },
      "source": [
        "param_grid = [\n",
        "              {'linear_svc__loss':['hinge'],\n",
        "               'linear_svc__C':[1,2,3,4,5,6,7,8,9, 10, 11],\n",
        "               'linear_svc__max_iter':[1000, 100000]\n",
        "               }\n",
        "]\n",
        "grid_search = GridSearchCV(svm_clf, param_grid, cv=10, refit=True, verbose=0)\n",
        "grid_search.fit(X_train, y_train)"
      ],
      "execution_count": null,
      "outputs": []
    },
    {
      "cell_type": "code",
      "metadata": {
        "colab": {
          "base_uri": "https://localhost:8080/"
        },
        "id": "ISW9FToxkYvu",
        "outputId": "83ce1d6c-3176-4aed-ae9d-d06a23de38e0"
      },
      "source": [
        "cvres = grid_search.cv_results_\n",
        "for mean_score, params in zip(cvres[\"mean_test_score\"], cvres['params']):\n",
        "    print(mean_score, params)\n",
        "grid_search.best_params_"
      ],
      "execution_count": null,
      "outputs": [
        {
          "output_type": "stream",
          "text": [
            "0.9166666666666666 {'linear_svc__C': 1, 'linear_svc__loss': 'hinge', 'linear_svc__max_iter': 1000}\n",
            "0.9166666666666666 {'linear_svc__C': 1, 'linear_svc__loss': 'hinge', 'linear_svc__max_iter': 100000}\n",
            "0.9333333333333333 {'linear_svc__C': 2, 'linear_svc__loss': 'hinge', 'linear_svc__max_iter': 1000}\n",
            "0.9333333333333333 {'linear_svc__C': 2, 'linear_svc__loss': 'hinge', 'linear_svc__max_iter': 100000}\n",
            "0.9333333333333333 {'linear_svc__C': 3, 'linear_svc__loss': 'hinge', 'linear_svc__max_iter': 1000}\n",
            "0.9333333333333333 {'linear_svc__C': 3, 'linear_svc__loss': 'hinge', 'linear_svc__max_iter': 100000}\n",
            "0.9333333333333333 {'linear_svc__C': 4, 'linear_svc__loss': 'hinge', 'linear_svc__max_iter': 1000}\n",
            "0.9333333333333333 {'linear_svc__C': 4, 'linear_svc__loss': 'hinge', 'linear_svc__max_iter': 100000}\n",
            "0.9333333333333333 {'linear_svc__C': 5, 'linear_svc__loss': 'hinge', 'linear_svc__max_iter': 1000}\n",
            "0.9333333333333333 {'linear_svc__C': 5, 'linear_svc__loss': 'hinge', 'linear_svc__max_iter': 100000}\n",
            "0.9333333333333333 {'linear_svc__C': 6, 'linear_svc__loss': 'hinge', 'linear_svc__max_iter': 1000}\n",
            "0.9333333333333333 {'linear_svc__C': 6, 'linear_svc__loss': 'hinge', 'linear_svc__max_iter': 100000}\n",
            "0.925 {'linear_svc__C': 7, 'linear_svc__loss': 'hinge', 'linear_svc__max_iter': 1000}\n",
            "0.925 {'linear_svc__C': 7, 'linear_svc__loss': 'hinge', 'linear_svc__max_iter': 100000}\n",
            "0.925 {'linear_svc__C': 8, 'linear_svc__loss': 'hinge', 'linear_svc__max_iter': 1000}\n",
            "0.925 {'linear_svc__C': 8, 'linear_svc__loss': 'hinge', 'linear_svc__max_iter': 100000}\n",
            "0.925 {'linear_svc__C': 9, 'linear_svc__loss': 'hinge', 'linear_svc__max_iter': 1000}\n",
            "0.925 {'linear_svc__C': 9, 'linear_svc__loss': 'hinge', 'linear_svc__max_iter': 100000}\n",
            "0.925 {'linear_svc__C': 10, 'linear_svc__loss': 'hinge', 'linear_svc__max_iter': 1000}\n",
            "0.925 {'linear_svc__C': 10, 'linear_svc__loss': 'hinge', 'linear_svc__max_iter': 100000}\n",
            "0.925 {'linear_svc__C': 11, 'linear_svc__loss': 'hinge', 'linear_svc__max_iter': 1000}\n",
            "0.925 {'linear_svc__C': 11, 'linear_svc__loss': 'hinge', 'linear_svc__max_iter': 100000}\n"
          ],
          "name": "stdout"
        },
        {
          "output_type": "execute_result",
          "data": {
            "text/plain": [
              "{'linear_svc__C': 2, 'linear_svc__loss': 'hinge', 'linear_svc__max_iter': 1000}"
            ]
          },
          "metadata": {
            "tags": []
          },
          "execution_count": 99
        }
      ]
    },
    {
      "cell_type": "code",
      "metadata": {
        "colab": {
          "base_uri": "https://localhost:8080/"
        },
        "id": "s13nPA08lY9F",
        "outputId": "d6048fb9-eb7e-4941-d060-70c779493ad3"
      },
      "source": [
        "cvres.keys()"
      ],
      "execution_count": null,
      "outputs": [
        {
          "output_type": "execute_result",
          "data": {
            "text/plain": [
              "dict_keys(['mean_fit_time', 'std_fit_time', 'mean_score_time', 'std_score_time', 'param_linear_svc__C', 'param_linear_svc__loss', 'param_linear_svc__max_iter', 'params', 'split0_test_score', 'split1_test_score', 'split2_test_score', 'split3_test_score', 'split4_test_score', 'split5_test_score', 'split6_test_score', 'split7_test_score', 'split8_test_score', 'split9_test_score', 'mean_test_score', 'std_test_score', 'rank_test_score'])"
            ]
          },
          "metadata": {
            "tags": []
          },
          "execution_count": 100
        }
      ]
    },
    {
      "cell_type": "code",
      "metadata": {
        "colab": {
          "base_uri": "https://localhost:8080/"
        },
        "id": "W-iXHJLjkaZV",
        "outputId": "fbf5633a-10d0-4ad8-f403-2ad0b86dd9a7"
      },
      "source": [
        "grid_search.best_estimator_"
      ],
      "execution_count": null,
      "outputs": [
        {
          "output_type": "execute_result",
          "data": {
            "text/plain": [
              "Pipeline(memory=None,\n",
              "         steps=[('scaler',\n",
              "                 StandardScaler(copy=True, with_mean=True, with_std=True)),\n",
              "                ('linear_svc',\n",
              "                 LinearSVC(C=2, class_weight=None, dual=True,\n",
              "                           fit_intercept=True, intercept_scaling=1,\n",
              "                           loss='hinge', max_iter=1000, multi_class='ovr',\n",
              "                           penalty='l2', random_state=None, tol=0.0001,\n",
              "                           verbose=0))],\n",
              "         verbose=False)"
            ]
          },
          "metadata": {
            "tags": []
          },
          "execution_count": 101
        }
      ]
    },
    {
      "cell_type": "code",
      "metadata": {
        "id": "dioxaf4Ikbxe"
      },
      "source": [
        "final_model = grid_search.best_estimator_\n",
        "final_predictions = grid_search.best_estimator_.predict(X_test)"
      ],
      "execution_count": null,
      "outputs": []
    },
    {
      "cell_type": "code",
      "metadata": {
        "colab": {
          "base_uri": "https://localhost:8080/",
          "height": 329
        },
        "id": "mNDlA9NzkdhD",
        "outputId": "150d4eb9-a8ab-452e-e8a6-39f5fa89ab0b"
      },
      "source": [
        "conf_mat = confusion_matrix(y_test, final_predictions)\n",
        "print(conf_mat)\n",
        "row_sums = conf_mat.sum(axis=1, keepdims=True)\n",
        "norm_conf_mat = conf_mat / row_sums\n",
        "np.fill_diagonal(norm_conf_mat, 0)\n",
        "plt.matshow(norm_conf_mat, cmap=plt.cm.gray)\n",
        "plt.show()"
      ],
      "execution_count": null,
      "outputs": [
        {
          "output_type": "stream",
          "text": [
            "[[10  0  0]\n",
            " [ 0  8  2]\n",
            " [ 0  1  9]]\n"
          ],
          "name": "stdout"
        },
        {
          "output_type": "display_data",
          "data": {
            "image/png": "[encoded data removed]",
            "text/plain": [
              "<Figure size 288x288 with 1 Axes>"
            ]
          },
          "metadata": {
            "tags": [],
            "needs_background": "light"
          }
        }
      ]
    },
    {
      "cell_type": "markdown",
      "metadata": {
        "id": "wLNyHyr9vjdO"
      },
      "source": [
        "#Nonlinear SVM"
      ]
    },
    {
      "cell_type": "code",
      "metadata": {
        "id": "eHqt_zHFnztF"
      },
      "source": [
        "polynomial_svm_clf = Pipeline([\n",
        "                               (\"poly_features\", PolynomialFeatures(degree=3)),\n",
        "                               (\"scaler\", StandardScaler()),\n",
        "                               (\"svm_clf\", LinearSVC(C=10, loss=\"hinge\"))\n",
        "])"
      ],
      "execution_count": null,
      "outputs": []
    },
    {
      "cell_type": "code",
      "metadata": {
        "colab": {
          "base_uri": "https://localhost:8080/"
        },
        "id": "pUv21IT0v3Iz",
        "outputId": "4b7db765-68a5-4770-ef96-7a9835db2cc7"
      },
      "source": [
        "polynomial_svm_clf.fit(X_train, y_train)\n",
        "y_pred = polynomial_svm_clf.predict(X_test)\n",
        "sum(y_pred==y_test)/len(y_test)"
      ],
      "execution_count": null,
      "outputs": [
        {
          "output_type": "stream",
          "text": [
            "/usr/local/lib/python3.6/dist-packages/sklearn/svm/_base.py:947: ConvergenceWarning: Liblinear failed to converge, increase the number of iterations.\n",
            "  \"the number of iterations.\", ConvergenceWarning)\n"
          ],
          "name": "stderr"
        },
        {
          "output_type": "execute_result",
          "data": {
            "text/plain": [
              "1.0"
            ]
          },
          "metadata": {
            "tags": []
          },
          "execution_count": 109
        }
      ]
    },
    {
      "cell_type": "markdown",
      "metadata": {
        "id": "Ord1JH6Jx1-4"
      },
      "source": [
        "##Grid Search"
      ]
    },
    {
      "cell_type": "code",
      "metadata": {
        "colab": {
          "base_uri": "https://localhost:8080/"
        },
        "id": "QAzCr4YWwr_b",
        "outputId": "56a9bc5b-a56c-4617-ff6e-18ac167190d7"
      },
      "source": [
        "pp.pprint(sorted(polynomial_svm_clf.get_params().keys()))"
      ],
      "execution_count": null,
      "outputs": [
        {
          "output_type": "stream",
          "text": [
            "['memory',\n",
            " 'poly_features',\n",
            " 'poly_features__degree',\n",
            " 'poly_features__include_bias',\n",
            " 'poly_features__interaction_only',\n",
            " 'poly_features__order',\n",
            " 'scaler',\n",
            " 'scaler__copy',\n",
            " 'scaler__with_mean',\n",
            " 'scaler__with_std',\n",
            " 'steps',\n",
            " 'svm_clf',\n",
            " 'svm_clf__C',\n",
            " 'svm_clf__class_weight',\n",
            " 'svm_clf__dual',\n",
            " 'svm_clf__fit_intercept',\n",
            " 'svm_clf__intercept_scaling',\n",
            " 'svm_clf__loss',\n",
            " 'svm_clf__max_iter',\n",
            " 'svm_clf__multi_class',\n",
            " 'svm_clf__penalty',\n",
            " 'svm_clf__random_state',\n",
            " 'svm_clf__tol',\n",
            " 'svm_clf__verbose',\n",
            " 'verbose']\n"
          ],
          "name": "stdout"
        }
      ]
    },
    {
      "cell_type": "code",
      "metadata": {
        "id": "9fbxfJybv3ft"
      },
      "source": [
        "param_grid = [\n",
        "              {'poly_features__degree':[1,2,3,4,5,6],\n",
        "                'svm_clf__loss':['hinge'],\n",
        "               'svm_clf__C':[1,2,3,4,5,6,7,8,9, 10, 11],\n",
        "               'svm_clf__max_iter':[1000]\n",
        "               }\n",
        "]\n",
        "grid_search = GridSearchCV(polynomial_svm_clf, param_grid, cv=10, refit=True, verbose=0)\n",
        "grid_search.fit(X_train, y_train)\n",
        "cvres = grid_search.cv_results_\n",
        "for mean_score, params in zip(cvres[\"mean_test_score\"], cvres['params']):\n",
        "    print(mean_score, params)\n",
        "grid_search.best_params_"
      ],
      "execution_count": null,
      "outputs": []
    },
    {
      "cell_type": "code",
      "metadata": {
        "colab": {
          "base_uri": "https://localhost:8080/",
          "height": 329
        },
        "id": "bqQVHDROwER5",
        "outputId": "38493444-1e56-4ada-c601-ceacc7bf4aec"
      },
      "source": [
        "final_model = grid_search.best_estimator_\n",
        "final_predictions = grid_search.best_estimator_.predict(X_test)\n",
        "conf_mat = confusion_matrix(y_test, final_predictions)\n",
        "print(conf_mat)\n",
        "row_sums = conf_mat.sum(axis=1, keepdims=True)\n",
        "norm_conf_mat = conf_mat / row_sums\n",
        "np.fill_diagonal(norm_conf_mat, 0)\n",
        "plt.matshow(norm_conf_mat, cmap=plt.cm.gray)\n",
        "plt.show()"
      ],
      "execution_count": null,
      "outputs": [
        {
          "output_type": "stream",
          "text": [
            "[[10  0  0]\n",
            " [ 0 10  0]\n",
            " [ 0  0 10]]\n"
          ],
          "name": "stdout"
        },
        {
          "output_type": "display_data",
          "data": {
            "image/png": "[encoded data removed]",
            "text/plain": [
              "<Figure size 288x288 with 1 Axes>"
            ]
          },
          "metadata": {
            "tags": [],
            "needs_background": "light"
          }
        }
      ]
    },
    {
      "cell_type": "markdown",
      "metadata": {
        "id": "c1EQxjH7xb2R"
      },
      "source": [
        "#SVC"
      ]
    },
    {
      "cell_type": "code",
      "metadata": {
        "colab": {
          "base_uri": "https://localhost:8080/"
        },
        "id": "1HAp7IBnwF0J",
        "outputId": "70e2737b-ce16-476f-84c1-85f01576fa4f"
      },
      "source": [
        "poly_kernel_svm_clf = Pipeline([\n",
        "                                (\"scaler\", StandardScaler()),\n",
        "                                (\"svm_clf\", SVC(kernel=\"poly\", degree=3, coef0=1, C=5))\n",
        "                                ])\n",
        "poly_kernel_svm_clf.fit(X, y)"
      ],
      "execution_count": null,
      "outputs": [
        {
          "output_type": "execute_result",
          "data": {
            "text/plain": [
              "Pipeline(memory=None,\n",
              "         steps=[('scaler',\n",
              "                 StandardScaler(copy=True, with_mean=True, with_std=True)),\n",
              "                ('svm_clf',\n",
              "                 SVC(C=5, break_ties=False, cache_size=200, class_weight=None,\n",
              "                     coef0=1, decision_function_shape='ovr', degree=3,\n",
              "                     gamma='scale', kernel='poly', max_iter=-1,\n",
              "                     probability=False, random_state=None, shrinking=True,\n",
              "                     tol=0.001, verbose=False))],\n",
              "         verbose=False)"
            ]
          },
          "metadata": {
            "tags": []
          },
          "execution_count": 124
        }
      ]
    },
    {
      "cell_type": "code",
      "metadata": {
        "colab": {
          "base_uri": "https://localhost:8080/"
        },
        "id": "VKOBq64JxtWm",
        "outputId": "834c3ed7-dd54-46f3-e5b4-9dcc66700e1a"
      },
      "source": [
        "poly_kernel_svm_clf.fit(X_train, y_train)\n",
        "y_pred = poly_kernel_svm_clf.predict(X_test)\n",
        "sum(y_pred==y_test)/len(y_test)"
      ],
      "execution_count": null,
      "outputs": [
        {
          "output_type": "execute_result",
          "data": {
            "text/plain": [
              "0.9666666666666667"
            ]
          },
          "metadata": {
            "tags": []
          },
          "execution_count": 127
        }
      ]
    },
    {
      "cell_type": "markdown",
      "metadata": {
        "id": "BH8hZ7Kbx56D"
      },
      "source": [
        "##Grid Search"
      ]
    },
    {
      "cell_type": "code",
      "metadata": {
        "colab": {
          "base_uri": "https://localhost:8080/"
        },
        "id": "VsPHufbUxxYv",
        "outputId": "3262ef65-75e5-4de1-cf31-ce6f4937aee9"
      },
      "source": [
        "pp.pprint(sorted(poly_kernel_svm_clf.get_params().keys()))"
      ],
      "execution_count": null,
      "outputs": [
        {
          "output_type": "stream",
          "text": [
            "['memory',\n",
            " 'scaler',\n",
            " 'scaler__copy',\n",
            " 'scaler__with_mean',\n",
            " 'scaler__with_std',\n",
            " 'steps',\n",
            " 'svm_clf',\n",
            " 'svm_clf__C',\n",
            " 'svm_clf__break_ties',\n",
            " 'svm_clf__cache_size',\n",
            " 'svm_clf__class_weight',\n",
            " 'svm_clf__coef0',\n",
            " 'svm_clf__decision_function_shape',\n",
            " 'svm_clf__degree',\n",
            " 'svm_clf__gamma',\n",
            " 'svm_clf__kernel',\n",
            " 'svm_clf__max_iter',\n",
            " 'svm_clf__probability',\n",
            " 'svm_clf__random_state',\n",
            " 'svm_clf__shrinking',\n",
            " 'svm_clf__tol',\n",
            " 'svm_clf__verbose',\n",
            " 'verbose']\n"
          ],
          "name": "stdout"
        }
      ]
    },
    {
      "cell_type": "code",
      "metadata": {
        "colab": {
          "base_uri": "https://localhost:8080/"
        },
        "id": "7hWrY_xrx7Z0",
        "outputId": "e59dbc0f-3dc0-4d1d-c5e0-eaaa56a03a6f"
      },
      "source": [
        "param_grid = [\n",
        "              {'svm_clf__kernel':['linear', 'poly', 'rbf', 'sigmoid',],\n",
        "               'svm_clf__C':[0.001, 0.01, 0.1, 1],\n",
        "               'svm_clf__max_iter':[1000],\n",
        "               'svm_clf__gamma':['scale','auto']\n",
        "               }\n",
        "]\n",
        "grid_search = GridSearchCV(poly_kernel_svm_clf, param_grid, cv=5, refit=True, verbose=0)\n",
        "grid_search.fit(X_train, y_train)\n",
        "cvres = grid_search.cv_results_\n",
        "for mean_score, params in zip(cvres[\"mean_test_score\"], cvres['params']):\n",
        "    print(mean_score, params)\n",
        "grid_search.best_params_"
      ],
      "execution_count": null,
      "outputs": [
        {
          "output_type": "stream",
          "text": [
            "0.8666666666666668 {'svm_clf__C': 0.001, 'svm_clf__gamma': 'scale', 'svm_clf__kernel': 'linear', 'svm_clf__max_iter': 1000}\n",
            "0.7666666666666667 {'svm_clf__C': 0.001, 'svm_clf__gamma': 'scale', 'svm_clf__kernel': 'poly', 'svm_clf__max_iter': 1000}\n",
            "0.8916666666666666 {'svm_clf__C': 0.001, 'svm_clf__gamma': 'scale', 'svm_clf__kernel': 'rbf', 'svm_clf__max_iter': 1000}\n",
            "0.8166666666666668 {'svm_clf__C': 0.001, 'svm_clf__gamma': 'scale', 'svm_clf__kernel': 'sigmoid', 'svm_clf__max_iter': 1000}\n",
            "0.8666666666666668 {'svm_clf__C': 0.001, 'svm_clf__gamma': 'auto', 'svm_clf__kernel': 'linear', 'svm_clf__max_iter': 1000}\n",
            "0.7666666666666667 {'svm_clf__C': 0.001, 'svm_clf__gamma': 'auto', 'svm_clf__kernel': 'poly', 'svm_clf__max_iter': 1000}\n",
            "0.8916666666666666 {'svm_clf__C': 0.001, 'svm_clf__gamma': 'auto', 'svm_clf__kernel': 'rbf', 'svm_clf__max_iter': 1000}\n",
            "0.8166666666666668 {'svm_clf__C': 0.001, 'svm_clf__gamma': 'auto', 'svm_clf__kernel': 'sigmoid', 'svm_clf__max_iter': 1000}\n",
            "0.875 {'svm_clf__C': 0.01, 'svm_clf__gamma': 'scale', 'svm_clf__kernel': 'linear', 'svm_clf__max_iter': 1000}\n",
            "0.8333333333333334 {'svm_clf__C': 0.01, 'svm_clf__gamma': 'scale', 'svm_clf__kernel': 'poly', 'svm_clf__max_iter': 1000}\n",
            "0.8916666666666666 {'svm_clf__C': 0.01, 'svm_clf__gamma': 'scale', 'svm_clf__kernel': 'rbf', 'svm_clf__max_iter': 1000}\n",
            "0.8166666666666668 {'svm_clf__C': 0.01, 'svm_clf__gamma': 'scale', 'svm_clf__kernel': 'sigmoid', 'svm_clf__max_iter': 1000}\n",
            "0.875 {'svm_clf__C': 0.01, 'svm_clf__gamma': 'auto', 'svm_clf__kernel': 'linear', 'svm_clf__max_iter': 1000}\n",
            "0.8333333333333334 {'svm_clf__C': 0.01, 'svm_clf__gamma': 'auto', 'svm_clf__kernel': 'poly', 'svm_clf__max_iter': 1000}\n",
            "0.8916666666666666 {'svm_clf__C': 0.01, 'svm_clf__gamma': 'auto', 'svm_clf__kernel': 'rbf', 'svm_clf__max_iter': 1000}\n",
            "0.8166666666666668 {'svm_clf__C': 0.01, 'svm_clf__gamma': 'auto', 'svm_clf__kernel': 'sigmoid', 'svm_clf__max_iter': 1000}\n",
            "0.975 {'svm_clf__C': 0.1, 'svm_clf__gamma': 'scale', 'svm_clf__kernel': 'linear', 'svm_clf__max_iter': 1000}\n",
            "0.9583333333333334 {'svm_clf__C': 0.1, 'svm_clf__gamma': 'scale', 'svm_clf__kernel': 'poly', 'svm_clf__max_iter': 1000}\n",
            "0.9 {'svm_clf__C': 0.1, 'svm_clf__gamma': 'scale', 'svm_clf__kernel': 'rbf', 'svm_clf__max_iter': 1000}\n",
            "0.8166666666666668 {'svm_clf__C': 0.1, 'svm_clf__gamma': 'scale', 'svm_clf__kernel': 'sigmoid', 'svm_clf__max_iter': 1000}\n",
            "0.975 {'svm_clf__C': 0.1, 'svm_clf__gamma': 'auto', 'svm_clf__kernel': 'linear', 'svm_clf__max_iter': 1000}\n",
            "0.9583333333333334 {'svm_clf__C': 0.1, 'svm_clf__gamma': 'auto', 'svm_clf__kernel': 'poly', 'svm_clf__max_iter': 1000}\n",
            "0.9 {'svm_clf__C': 0.1, 'svm_clf__gamma': 'auto', 'svm_clf__kernel': 'rbf', 'svm_clf__max_iter': 1000}\n",
            "0.8166666666666668 {'svm_clf__C': 0.1, 'svm_clf__gamma': 'auto', 'svm_clf__kernel': 'sigmoid', 'svm_clf__max_iter': 1000}\n",
            "0.975 {'svm_clf__C': 1, 'svm_clf__gamma': 'scale', 'svm_clf__kernel': 'linear', 'svm_clf__max_iter': 1000}\n",
            "0.975 {'svm_clf__C': 1, 'svm_clf__gamma': 'scale', 'svm_clf__kernel': 'poly', 'svm_clf__max_iter': 1000}\n",
            "0.9666666666666668 {'svm_clf__C': 1, 'svm_clf__gamma': 'scale', 'svm_clf__kernel': 'rbf', 'svm_clf__max_iter': 1000}\n",
            "0.8916666666666666 {'svm_clf__C': 1, 'svm_clf__gamma': 'scale', 'svm_clf__kernel': 'sigmoid', 'svm_clf__max_iter': 1000}\n",
            "0.975 {'svm_clf__C': 1, 'svm_clf__gamma': 'auto', 'svm_clf__kernel': 'linear', 'svm_clf__max_iter': 1000}\n",
            "0.975 {'svm_clf__C': 1, 'svm_clf__gamma': 'auto', 'svm_clf__kernel': 'poly', 'svm_clf__max_iter': 1000}\n",
            "0.9666666666666668 {'svm_clf__C': 1, 'svm_clf__gamma': 'auto', 'svm_clf__kernel': 'rbf', 'svm_clf__max_iter': 1000}\n",
            "0.8916666666666666 {'svm_clf__C': 1, 'svm_clf__gamma': 'auto', 'svm_clf__kernel': 'sigmoid', 'svm_clf__max_iter': 1000}\n"
          ],
          "name": "stdout"
        },
        {
          "output_type": "execute_result",
          "data": {
            "text/plain": [
              "{'svm_clf__C': 0.1,\n",
              " 'svm_clf__gamma': 'scale',\n",
              " 'svm_clf__kernel': 'linear',\n",
              " 'svm_clf__max_iter': 1000}"
            ]
          },
          "metadata": {
            "tags": []
          },
          "execution_count": 133
        }
      ]
    },
    {
      "cell_type": "code",
      "metadata": {
        "colab": {
          "base_uri": "https://localhost:8080/",
          "height": 329
        },
        "id": "yVR9gGH0x-2v",
        "outputId": "f2561b06-fd79-456b-de71-3000bf9b6f3e"
      },
      "source": [
        "final_model = grid_search.best_estimator_\n",
        "final_predictions = grid_search.best_estimator_.predict(X_test)\n",
        "conf_mat = confusion_matrix(y_test, final_predictions)\n",
        "print(conf_mat)\n",
        "row_sums = conf_mat.sum(axis=1, keepdims=True)\n",
        "norm_conf_mat = conf_mat / row_sums\n",
        "np.fill_diagonal(norm_conf_mat, 0)\n",
        "plt.matshow(norm_conf_mat, cmap=plt.cm.gray)\n",
        "plt.show()"
      ],
      "execution_count": null,
      "outputs": [
        {
          "output_type": "stream",
          "text": [
            "[[10  0  0]\n",
            " [ 0  9  1]\n",
            " [ 0  1  9]]\n"
          ],
          "name": "stdout"
        },
        {
          "output_type": "display_data",
          "data": {
            "image/png": "[encoded data removed]",
            "text/plain": [
              "<Figure size 288x288 with 1 Axes>"
            ]
          },
          "metadata": {
            "tags": [],
            "needs_background": "light"
          }
        }
      ]
    },
    {
      "cell_type": "code",
      "metadata": {
        "id": "ciNxEuoEye9y"
      },
      "source": [
        ""
      ],
      "execution_count": null,
      "outputs": []
    }
  ]
}