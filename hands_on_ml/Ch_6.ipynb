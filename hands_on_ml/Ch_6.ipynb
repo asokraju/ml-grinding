{
  "nbformat": 4,
  "nbformat_minor": 0,
  "metadata": {
    "colab": {
      "name": "Ch - 6.ipynb",
      "provenance": [],
      "toc_visible": true,
      "authorship_tag": "ABX9TyNNoGmrlJ3644XA5+vYx8ug",
      "include_colab_link": true
    },
    "kernelspec": {
      "name": "python3",
      "display_name": "Python 3"
    }
  },
  "cells": [
    {
      "cell_type": "markdown",
      "metadata": {
        "id": "view-in-github",
        "colab_type": "text"
      },
      "source": [
        "<a href=\"https://colab.research.google.com/github/asokraju/ml-grinding/blob/master/hands_on_ml/Ch_6.ipynb\" target=\"_parent\"><img src=\"https://colab.research.google.com/assets/colab-badge.svg\" alt=\"Open In Colab\"/></a>"
      ]
    },
    {
      "cell_type": "markdown",
      "metadata": {
        "id": "1JCQnUTYpgSb"
      },
      "source": [
        "#Decision Trees\n"
      ]
    },
    {
      "cell_type": "markdown",
      "metadata": {
        "id": "28btZLNZprfa"
      },
      "source": [
        "##Notes\n",
        "\n",
        "\n",
        "\n",
        "1.   Can be used for multilabel classification and Regression\n",
        "2.   Model Interpretation\n",
        "3. It can predict Propabilities\n",
        "\n",
        "\n"
      ]
    },
    {
      "cell_type": "markdown",
      "metadata": {
        "id": "w-0EEwhCpgvo"
      },
      "source": [
        "#Imports"
      ]
    },
    {
      "cell_type": "markdown",
      "metadata": {
        "id": "EcOp-AHKpq2U"
      },
      "source": [
        ""
      ]
    },
    {
      "cell_type": "code",
      "metadata": {
        "id": "wPAiKud0pt0G"
      },
      "source": [
        "import numpy as np\n",
        "import random\n",
        "import pandas as pd\n",
        "import matplotlib.pyplot as plt\n",
        "%matplotlib inline\n",
        "import pprint as pp\n",
        "\n",
        "import os\n",
        "import urllib\n",
        "import tarfile\n",
        "import urllib.request\n",
        "from zipfile import ZipFile\n",
        "\n",
        "import scipy\n",
        "from scipy import stats\n",
        "\n",
        "import sklearn\n",
        "from sklearn import datasets\n",
        "\n",
        "from sklearn.svm import LinearSVC\n",
        "from sklearn.svm import SVR\n",
        "from sklearn.svm import SVC\n",
        "\n",
        "from sklearn.datasets import fetch_openml\n",
        "from sklearn.base import clone\n",
        "from sklearn.model_selection import train_test_split\n",
        "from sklearn.model_selection import StratifiedShuffleSplit\n",
        "\n",
        "from sklearn.impute import SimpleImputer\n",
        "from sklearn.base import BaseEstimator, TransformerMixin\n",
        "from sklearn.pipeline import Pipeline\n",
        "from sklearn.pipeline import FeatureUnion\n",
        "\n",
        "from sklearn.compose import ColumnTransformer\n",
        "\n",
        "from sklearn.preprocessing import LabelBinarizer\n",
        "from sklearn.preprocessing import StandardScaler\n",
        "from sklearn.preprocessing import OneHotEncoder\n",
        "from sklearn.preprocessing import FunctionTransformer\n",
        "from sklearn.preprocessing import PolynomialFeatures\n",
        "from sklearn.linear_model import LinearRegression\n",
        "from sklearn.linear_model import SGDRegressor\n",
        "from sklearn.linear_model import SGDClassifier\n",
        "\n",
        "from sklearn.metrics import mean_squared_error, confusion_matrix\n",
        "from sklearn.metrics import precision_score, recall_score, f1_score\n",
        "from sklearn.metrics import precision_recall_curve, roc_curve, roc_auc_score\n",
        "\n",
        "from sklearn.tree import DecisionTreeRegressor\n",
        "from sklearn.tree import DecisionTreeClassifier\n",
        "from sklearn.tree import export_graphviz\n",
        "\n",
        "from sklearn.model_selection import cross_val_score, cross_val_predict\n",
        "from sklearn.model_selection import GridSearchCV\n",
        "from sklearn.model_selection import RandomizedSearchCV\n",
        "from sklearn.model_selection import StratifiedKFold\n",
        "\n",
        "from sklearn.ensemble import RandomForestRegressor\n",
        "from sklearn.ensemble import RandomForestClassifier\n",
        "#from sklearn.externals import joblib\n",
        "\n",
        "from sklearn.multiclass import OneVsOneClassifier\n",
        "\n",
        "from sklearn.neighbors import KNeighborsClassifier\n",
        "\n",
        "from pandas.plotting import scatter_matrix\n",
        "\n",
        "np.random.seed(42)\n",
        "random.seed(42)"
      ],
      "execution_count": null,
      "outputs": []
    },
    {
      "cell_type": "code",
      "metadata": {
        "colab": {
          "base_uri": "https://localhost:8080/"
        },
        "id": "-CbHbyODo380",
        "outputId": "4b8980e2-5642-41c0-bcbf-d350b159d38d"
      },
      "source": [
        "iris = datasets.load_iris()\n",
        "X, y = iris['data'], iris['target']\n",
        "split = StratifiedShuffleSplit(n_splits=1, test_size=0.2, random_state=42)\n",
        "for train_index, test_index in split.split(X, y):\n",
        "    X_train = X[train_index]\n",
        "    X_test = X[test_index]\n",
        "    y_train = y[train_index]\n",
        "    y_test = y[test_index]\n",
        "print(\"test : \",len(X_test),\"\\ntrain : \",len(X_train))"
      ],
      "execution_count": null,
      "outputs": [
        {
          "output_type": "stream",
          "text": [
            "test :  30 \n",
            "train :  120\n"
          ],
          "name": "stdout"
        }
      ]
    },
    {
      "cell_type": "markdown",
      "metadata": {
        "id": "LvYDUmriqYhh"
      },
      "source": [
        "##DecisionTreeClassifier"
      ]
    },
    {
      "cell_type": "code",
      "metadata": {
        "colab": {
          "base_uri": "https://localhost:8080/"
        },
        "id": "2bW_pdDmqJoS",
        "outputId": "33b5c5d3-2c97-465a-b6e4-f7cd944160ce"
      },
      "source": [
        "tree_clf = DecisionTreeClassifier(max_depth=5)\n",
        "tree_clf.fit(X_train, y_train)\n",
        "# y_pred = tree_clf.predict(X_test)\n",
        "# accuracy = sum(y_pred == y_test)/len(y_test)\n",
        "# print(\"accuracy: \", accuracy)"
      ],
      "execution_count": null,
      "outputs": [
        {
          "output_type": "execute_result",
          "data": {
            "text/plain": [
              "DecisionTreeClassifier(ccp_alpha=0.0, class_weight=None, criterion='gini',\n",
              "                       max_depth=5, max_features=None, max_leaf_nodes=None,\n",
              "                       min_impurity_decrease=0.0, min_impurity_split=None,\n",
              "                       min_samples_leaf=1, min_samples_split=2,\n",
              "                       min_weight_fraction_leaf=0.0, presort='deprecated',\n",
              "                       random_state=None, splitter='best')"
            ]
          },
          "metadata": {
            "tags": []
          },
          "execution_count": 26
        }
      ]
    },
    {
      "cell_type": "code",
      "metadata": {
        "id": "MHugyxjjqj7F"
      },
      "source": [
        "def confusion_plot(X_test, y_test, clf):\n",
        "    y_pred = clf.predict(X_test)\n",
        "    accuracy = sum(y_pred == y_test)/len(y_test)\n",
        "    conf_mat = confusion_matrix(y_test, y_pred)\n",
        "    print(\"accuracy: \", accuracy)\n",
        "    print(\"Confusion Matrix: \\n\",conf_mat)\n",
        "    row_sums = conf_mat.sum(axis=1, keepdims=True)\n",
        "    norm_conf_mat = conf_mat / row_sums\n",
        "    np.fill_diagonal(norm_conf_mat, 0)\n",
        "    plt.matshow(norm_conf_mat, cmap=plt.cm.gray)\n",
        "    plt.show()"
      ],
      "execution_count": null,
      "outputs": []
    },
    {
      "cell_type": "code",
      "metadata": {
        "colab": {
          "base_uri": "https://localhost:8080/",
          "height": 365
        },
        "id": "vXp9grLhrGVE",
        "outputId": "84c7e6de-932c-4529-a29b-42a83eac6783"
      },
      "source": [
        "confusion_plot(X_test, y_test, tree_clf)"
      ],
      "execution_count": null,
      "outputs": [
        {
          "output_type": "stream",
          "text": [
            "accuracy:  0.9333333333333333\n",
            "Confusion Matrix: \n",
            " [[10  0  0]\n",
            " [ 0  9  1]\n",
            " [ 0  1  9]]\n"
          ],
          "name": "stdout"
        },
        {
          "output_type": "display_data",
          "data": {
            "image/png": "[encoded data removed]",
            "text/plain": [
              "<Figure size 288x288 with 1 Axes>"
            ]
          },
          "metadata": {
            "tags": [],
            "needs_background": "light"
          }
        }
      ]
    },
    {
      "cell_type": "code",
      "metadata": {
        "id": "MxSY2_norTB3"
      },
      "source": [
        "export_graphviz(\n",
        "    tree_clf,\n",
        "    out_file='/content/sample_data/iris_tree.dot',#image_path(\"iris_tree.dot\"),\n",
        "    #feature_names=iris.feature_names[2:],\n",
        "    class_names=iris.target_names,\n",
        "    rounded=True,\n",
        "    filled=True\n",
        "    )\n",
        "!dot -Tpng /content/sample_data/iris_tree.dot -o iris_tree.png"
      ],
      "execution_count": null,
      "outputs": []
    },
    {
      "cell_type": "code",
      "metadata": {
        "id": "zJiEQiEpsAvA"
      },
      "source": [
        "!dot -Tpng /content/sample_data/iris_tree.dot -o iris_tree.png"
      ],
      "execution_count": null,
      "outputs": []
    },
    {
      "cell_type": "code",
      "metadata": {
        "id": "XE95PLilsw62"
      },
      "source": [
        ""
      ],
      "execution_count": null,
      "outputs": []
    }
  ]
}