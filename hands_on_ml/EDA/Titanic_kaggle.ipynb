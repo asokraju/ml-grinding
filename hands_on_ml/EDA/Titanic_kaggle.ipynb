{
  "nbformat": 4,
  "nbformat_minor": 0,
  "metadata": {
    "kernelspec": {
      "display_name": "Python 3",
      "language": "python",
      "name": "python3"
    },
    "language_info": {
      "codemirror_mode": {
        "name": "ipython",
        "version": 3
      },
      "file_extension": ".py",
      "mimetype": "text/x-python",
      "name": "python",
      "nbconvert_exporter": "python",
      "pygments_lexer": "ipython3",
      "version": "3.7.3"
    },
    "latex_envs": {
      "LaTeX_envs_menu_present": true,
      "autoclose": true,
      "autocomplete": true,
      "bibliofile": "biblio.bib",
      "cite_by": "apalike",
      "current_citInitial": 1,
      "eqLabelWithNumbers": true,
      "eqNumInitial": 1,
      "hotkeys": {
        "equation": "Ctrl-E",
        "itemize": "Ctrl-I"
      },
      "labels_anchors": false,
      "latex_user_defs": false,
      "report_style_numbering": true,
      "user_envs_cfg": true
    },
    "varInspector": {
      "cols": {
        "lenName": 16,
        "lenType": 16,
        "lenVar": 40
      },
      "kernels_config": {
        "python": {
          "delete_cmd_postfix": "",
          "delete_cmd_prefix": "del ",
          "library": "var_list.py",
          "varRefreshCmd": "print(var_dic_list())"
        },
        "r": {
          "delete_cmd_postfix": ") ",
          "delete_cmd_prefix": "rm(",
          "library": "var_list.r",
          "varRefreshCmd": "cat(var_dic_list()) "
        }
      },
      "types_to_exclude": [
        "module",
        "function",
        "builtin_function_or_method",
        "instance",
        "_Feature"
      ],
      "window_display": false
    },
    "colab": {
      "name": "Titanic_kaggle.ipynb",
      "provenance": [],
      "collapsed_sections": [
        "lx1ylf9Qm6Ef",
        "lFLj3NRcm6Eg",
        "VfkJJzTQm6Em",
        "xiIaSdpOm6Eq",
        "vkGBESuim6Ex",
        "E3XGwp1Zm6Ey",
        "CktQYDhHm6E2",
        "ObrxS_RTm6E6",
        "Z3xrqAhwm6E7",
        "O2p0bm5Im6FI",
        "aebPSz5Dm6FQ",
        "Ts66Dfc-m6FV",
        "srb1STism6FZ",
        "jIvGOEtCm6Ff",
        "f93ce6yem6Fm",
        "0inmi2NMm6Fp",
        "rU0W87Clm6Ft",
        "KtgdAB4-m6Fw",
        "D7bDcxJPm6F1",
        "4-0yb9bHm6F2",
        "vHVw_toWm6GB",
        "d_Lc0XO_m6GG",
        "n3_pMUDpm6GQ",
        "GoWLVOtOm6GU",
        "e_KWwQOqm6Ga",
        "N-3H27R6m6Gd",
        "MGQERLFim6Gh",
        "RvbhZL65m6Gk",
        "NqzI2TE3m6Gn",
        "5alxYbe0m6Gq",
        "LzTjVOAAm6Gu",
        "AH8vmjyWm6Gz",
        "Rj1UhsDCm6G2",
        "pHPoX4Orm6G7",
        "T697njPym6HC",
        "dP8r5k7Gm6HM",
        "wIYhU1zym6HQ",
        "FNFLVu1gm6Hg",
        "rneMy48-m6Hr",
        "gZCzXP6-m6Hy",
        "I-Rycbzwm6H0",
        "2fCkN1i0m6II",
        "AhYnb7DSm6IL",
        "SS-E97FAm6IQ",
        "Z6xyzYNXm6IQ",
        "j2yg9LfEm6Ih",
        "OdNqbR9hm6Il",
        "o9ZAAX39m6Il",
        "cLWBGrvym6Ip",
        "Oxi_siRSm6Iv",
        "Y_f8Mpr4m6Iy",
        "BhQRKVgnm6I2"
      ],
      "include_colab_link": true
    }
  },
  "cells": [
    {
      "cell_type": "markdown",
      "metadata": {
        "id": "view-in-github",
        "colab_type": "text"
      },
      "source": [
        "<a href=\"https://colab.research.google.com/github/asokraju/ml-grinding/blob/master/hands_on_ml/EDA/Titanic_kaggle.ipynb\" target=\"_parent\"><img src=\"https://colab.research.google.com/assets/colab-badge.svg\" alt=\"Open In Colab\"/></a>"
      ]
    },
    {
      "cell_type": "code",
      "metadata": {
        "ExecuteTime": {
          "end_time": "2019-06-16T15:05:25.329805Z",
          "start_time": "2019-06-16T15:05:17.623420Z"
        },
        "id": "jMakRZY8m6D5"
      },
      "source": [
        "import pandas as pd\n",
        "import numpy as np\n",
        "import matplotlib.pyplot as plt\n",
        "import seaborn as sns\n",
        "import warnings\n",
        "import random as rnd\n",
        "\n",
        "from sklearn.model_selection import train_test_split\n",
        "from sklearn.model_selection import StratifiedShuffleSplit\n",
        "from sklearn.preprocessing import StandardScaler\n",
        "from sklearn.metrics import accuracy_score, log_loss\n",
        "from sklearn.pipeline import Pipeline\n",
        "\n",
        "from sklearn.neighbors import KNeighborsClassifier\n",
        "from sklearn.svm import SVC\n",
        "from sklearn.tree import DecisionTreeClassifier\n",
        "from sklearn.ensemble import RandomForestClassifier, AdaBoostClassifier, GradientBoostingClassifier\n",
        "from sklearn.naive_bayes import GaussianNB\n",
        "from sklearn.discriminant_analysis import LinearDiscriminantAnalysis, QuadraticDiscriminantAnalysis\n",
        "from sklearn.linear_model import LogisticRegression\n",
        "#warnings.filterwarnings('ignore')"
      ],
      "execution_count": null,
      "outputs": []
    },
    {
      "cell_type": "code",
      "metadata": {
        "ExecuteTime": {
          "end_time": "2019-06-16T15:05:25.585122Z",
          "start_time": "2019-06-16T15:05:25.558196Z"
        },
        "id": "xM4VeFNim6D8",
        "colab": {
          "base_uri": "https://localhost:8080/",
          "height": 465
        },
        "outputId": "50661f52-9af3-405d-c53e-634d0a7d42af"
      },
      "source": [
        "train = pd.read_csv('train.csv')\n",
        "test = pd.read_csv('test.csv')\n",
        "\n",
        "dataset = [train,test]\n",
        "\n",
        "train_df = pd.read_csv('train.csv')\n",
        "test_df = pd.read_csv('test.csv')\n",
        "\n",
        "pass_id = test_df[\"PassengerId\"]"
      ],
      "execution_count": null,
      "outputs": [
        {
          "output_type": "error",
          "ename": "FileNotFoundError",
          "evalue": "ignored",
          "traceback": [
            "\u001b[0;31m---------------------------------------------------------------------------\u001b[0m",
            "\u001b[0;31mFileNotFoundError\u001b[0m                         Traceback (most recent call last)",
            "\u001b[0;32m<ipython-input-2-cf2f2cf634bd>\u001b[0m in \u001b[0;36m<module>\u001b[0;34m()\u001b[0m\n\u001b[0;32m----> 1\u001b[0;31m \u001b[0mtrain\u001b[0m \u001b[0;34m=\u001b[0m \u001b[0mpd\u001b[0m\u001b[0;34m.\u001b[0m\u001b[0mread_csv\u001b[0m\u001b[0;34m(\u001b[0m\u001b[0;34m'train.csv'\u001b[0m\u001b[0;34m)\u001b[0m\u001b[0;34m\u001b[0m\u001b[0;34m\u001b[0m\u001b[0m\n\u001b[0m\u001b[1;32m      2\u001b[0m \u001b[0mtest\u001b[0m \u001b[0;34m=\u001b[0m \u001b[0mpd\u001b[0m\u001b[0;34m.\u001b[0m\u001b[0mread_csv\u001b[0m\u001b[0;34m(\u001b[0m\u001b[0;34m'test.csv'\u001b[0m\u001b[0;34m)\u001b[0m\u001b[0;34m\u001b[0m\u001b[0;34m\u001b[0m\u001b[0m\n\u001b[1;32m      3\u001b[0m \u001b[0;34m\u001b[0m\u001b[0m\n\u001b[1;32m      4\u001b[0m \u001b[0mdataset\u001b[0m \u001b[0;34m=\u001b[0m \u001b[0;34m[\u001b[0m\u001b[0mtrain\u001b[0m\u001b[0;34m,\u001b[0m\u001b[0mtest\u001b[0m\u001b[0;34m]\u001b[0m\u001b[0;34m\u001b[0m\u001b[0;34m\u001b[0m\u001b[0m\n\u001b[1;32m      5\u001b[0m \u001b[0;34m\u001b[0m\u001b[0m\n",
            "\u001b[0;32m/usr/local/lib/python3.6/dist-packages/pandas/io/parsers.py\u001b[0m in \u001b[0;36mparser_f\u001b[0;34m(filepath_or_buffer, sep, delimiter, header, names, index_col, usecols, squeeze, prefix, mangle_dupe_cols, dtype, engine, converters, true_values, false_values, skipinitialspace, skiprows, skipfooter, nrows, na_values, keep_default_na, na_filter, verbose, skip_blank_lines, parse_dates, infer_datetime_format, keep_date_col, date_parser, dayfirst, iterator, chunksize, compression, thousands, decimal, lineterminator, quotechar, quoting, doublequote, escapechar, comment, encoding, dialect, tupleize_cols, error_bad_lines, warn_bad_lines, delim_whitespace, low_memory, memory_map, float_precision)\u001b[0m\n\u001b[1;32m    700\u001b[0m                     skip_blank_lines=skip_blank_lines)\n\u001b[1;32m    701\u001b[0m \u001b[0;34m\u001b[0m\u001b[0m\n\u001b[0;32m--> 702\u001b[0;31m         \u001b[0;32mreturn\u001b[0m \u001b[0m_read\u001b[0m\u001b[0;34m(\u001b[0m\u001b[0mfilepath_or_buffer\u001b[0m\u001b[0;34m,\u001b[0m \u001b[0mkwds\u001b[0m\u001b[0;34m)\u001b[0m\u001b[0;34m\u001b[0m\u001b[0;34m\u001b[0m\u001b[0m\n\u001b[0m\u001b[1;32m    703\u001b[0m \u001b[0;34m\u001b[0m\u001b[0m\n\u001b[1;32m    704\u001b[0m     \u001b[0mparser_f\u001b[0m\u001b[0;34m.\u001b[0m\u001b[0m__name__\u001b[0m \u001b[0;34m=\u001b[0m \u001b[0mname\u001b[0m\u001b[0;34m\u001b[0m\u001b[0;34m\u001b[0m\u001b[0m\n",
            "\u001b[0;32m/usr/local/lib/python3.6/dist-packages/pandas/io/parsers.py\u001b[0m in \u001b[0;36m_read\u001b[0;34m(filepath_or_buffer, kwds)\u001b[0m\n\u001b[1;32m    427\u001b[0m \u001b[0;34m\u001b[0m\u001b[0m\n\u001b[1;32m    428\u001b[0m     \u001b[0;31m# Create the parser.\u001b[0m\u001b[0;34m\u001b[0m\u001b[0;34m\u001b[0m\u001b[0;34m\u001b[0m\u001b[0m\n\u001b[0;32m--> 429\u001b[0;31m     \u001b[0mparser\u001b[0m \u001b[0;34m=\u001b[0m \u001b[0mTextFileReader\u001b[0m\u001b[0;34m(\u001b[0m\u001b[0mfilepath_or_buffer\u001b[0m\u001b[0;34m,\u001b[0m \u001b[0;34m**\u001b[0m\u001b[0mkwds\u001b[0m\u001b[0;34m)\u001b[0m\u001b[0;34m\u001b[0m\u001b[0;34m\u001b[0m\u001b[0m\n\u001b[0m\u001b[1;32m    430\u001b[0m \u001b[0;34m\u001b[0m\u001b[0m\n\u001b[1;32m    431\u001b[0m     \u001b[0;32mif\u001b[0m \u001b[0mchunksize\u001b[0m \u001b[0;32mor\u001b[0m \u001b[0miterator\u001b[0m\u001b[0;34m:\u001b[0m\u001b[0;34m\u001b[0m\u001b[0;34m\u001b[0m\u001b[0m\n",
            "\u001b[0;32m/usr/local/lib/python3.6/dist-packages/pandas/io/parsers.py\u001b[0m in \u001b[0;36m__init__\u001b[0;34m(self, f, engine, **kwds)\u001b[0m\n\u001b[1;32m    893\u001b[0m             \u001b[0mself\u001b[0m\u001b[0;34m.\u001b[0m\u001b[0moptions\u001b[0m\u001b[0;34m[\u001b[0m\u001b[0;34m'has_index_names'\u001b[0m\u001b[0;34m]\u001b[0m \u001b[0;34m=\u001b[0m \u001b[0mkwds\u001b[0m\u001b[0;34m[\u001b[0m\u001b[0;34m'has_index_names'\u001b[0m\u001b[0;34m]\u001b[0m\u001b[0;34m\u001b[0m\u001b[0;34m\u001b[0m\u001b[0m\n\u001b[1;32m    894\u001b[0m \u001b[0;34m\u001b[0m\u001b[0m\n\u001b[0;32m--> 895\u001b[0;31m         \u001b[0mself\u001b[0m\u001b[0;34m.\u001b[0m\u001b[0m_make_engine\u001b[0m\u001b[0;34m(\u001b[0m\u001b[0mself\u001b[0m\u001b[0;34m.\u001b[0m\u001b[0mengine\u001b[0m\u001b[0;34m)\u001b[0m\u001b[0;34m\u001b[0m\u001b[0;34m\u001b[0m\u001b[0m\n\u001b[0m\u001b[1;32m    896\u001b[0m \u001b[0;34m\u001b[0m\u001b[0m\n\u001b[1;32m    897\u001b[0m     \u001b[0;32mdef\u001b[0m \u001b[0mclose\u001b[0m\u001b[0;34m(\u001b[0m\u001b[0mself\u001b[0m\u001b[0;34m)\u001b[0m\u001b[0;34m:\u001b[0m\u001b[0;34m\u001b[0m\u001b[0;34m\u001b[0m\u001b[0m\n",
            "\u001b[0;32m/usr/local/lib/python3.6/dist-packages/pandas/io/parsers.py\u001b[0m in \u001b[0;36m_make_engine\u001b[0;34m(self, engine)\u001b[0m\n\u001b[1;32m   1120\u001b[0m     \u001b[0;32mdef\u001b[0m \u001b[0m_make_engine\u001b[0m\u001b[0;34m(\u001b[0m\u001b[0mself\u001b[0m\u001b[0;34m,\u001b[0m \u001b[0mengine\u001b[0m\u001b[0;34m=\u001b[0m\u001b[0;34m'c'\u001b[0m\u001b[0;34m)\u001b[0m\u001b[0;34m:\u001b[0m\u001b[0;34m\u001b[0m\u001b[0;34m\u001b[0m\u001b[0m\n\u001b[1;32m   1121\u001b[0m         \u001b[0;32mif\u001b[0m \u001b[0mengine\u001b[0m \u001b[0;34m==\u001b[0m \u001b[0;34m'c'\u001b[0m\u001b[0;34m:\u001b[0m\u001b[0;34m\u001b[0m\u001b[0;34m\u001b[0m\u001b[0m\n\u001b[0;32m-> 1122\u001b[0;31m             \u001b[0mself\u001b[0m\u001b[0;34m.\u001b[0m\u001b[0m_engine\u001b[0m \u001b[0;34m=\u001b[0m \u001b[0mCParserWrapper\u001b[0m\u001b[0;34m(\u001b[0m\u001b[0mself\u001b[0m\u001b[0;34m.\u001b[0m\u001b[0mf\u001b[0m\u001b[0;34m,\u001b[0m \u001b[0;34m**\u001b[0m\u001b[0mself\u001b[0m\u001b[0;34m.\u001b[0m\u001b[0moptions\u001b[0m\u001b[0;34m)\u001b[0m\u001b[0;34m\u001b[0m\u001b[0;34m\u001b[0m\u001b[0m\n\u001b[0m\u001b[1;32m   1123\u001b[0m         \u001b[0;32melse\u001b[0m\u001b[0;34m:\u001b[0m\u001b[0;34m\u001b[0m\u001b[0;34m\u001b[0m\u001b[0m\n\u001b[1;32m   1124\u001b[0m             \u001b[0;32mif\u001b[0m \u001b[0mengine\u001b[0m \u001b[0;34m==\u001b[0m \u001b[0;34m'python'\u001b[0m\u001b[0;34m:\u001b[0m\u001b[0;34m\u001b[0m\u001b[0;34m\u001b[0m\u001b[0m\n",
            "\u001b[0;32m/usr/local/lib/python3.6/dist-packages/pandas/io/parsers.py\u001b[0m in \u001b[0;36m__init__\u001b[0;34m(self, src, **kwds)\u001b[0m\n\u001b[1;32m   1851\u001b[0m         \u001b[0mkwds\u001b[0m\u001b[0;34m[\u001b[0m\u001b[0;34m'usecols'\u001b[0m\u001b[0;34m]\u001b[0m \u001b[0;34m=\u001b[0m \u001b[0mself\u001b[0m\u001b[0;34m.\u001b[0m\u001b[0musecols\u001b[0m\u001b[0;34m\u001b[0m\u001b[0;34m\u001b[0m\u001b[0m\n\u001b[1;32m   1852\u001b[0m \u001b[0;34m\u001b[0m\u001b[0m\n\u001b[0;32m-> 1853\u001b[0;31m         \u001b[0mself\u001b[0m\u001b[0;34m.\u001b[0m\u001b[0m_reader\u001b[0m \u001b[0;34m=\u001b[0m \u001b[0mparsers\u001b[0m\u001b[0;34m.\u001b[0m\u001b[0mTextReader\u001b[0m\u001b[0;34m(\u001b[0m\u001b[0msrc\u001b[0m\u001b[0;34m,\u001b[0m \u001b[0;34m**\u001b[0m\u001b[0mkwds\u001b[0m\u001b[0;34m)\u001b[0m\u001b[0;34m\u001b[0m\u001b[0;34m\u001b[0m\u001b[0m\n\u001b[0m\u001b[1;32m   1854\u001b[0m         \u001b[0mself\u001b[0m\u001b[0;34m.\u001b[0m\u001b[0munnamed_cols\u001b[0m \u001b[0;34m=\u001b[0m \u001b[0mself\u001b[0m\u001b[0;34m.\u001b[0m\u001b[0m_reader\u001b[0m\u001b[0;34m.\u001b[0m\u001b[0munnamed_cols\u001b[0m\u001b[0;34m\u001b[0m\u001b[0;34m\u001b[0m\u001b[0m\n\u001b[1;32m   1855\u001b[0m \u001b[0;34m\u001b[0m\u001b[0m\n",
            "\u001b[0;32mpandas/_libs/parsers.pyx\u001b[0m in \u001b[0;36mpandas._libs.parsers.TextReader.__cinit__\u001b[0;34m()\u001b[0m\n",
            "\u001b[0;32mpandas/_libs/parsers.pyx\u001b[0m in \u001b[0;36mpandas._libs.parsers.TextReader._setup_parser_source\u001b[0;34m()\u001b[0m\n",
            "\u001b[0;31mFileNotFoundError\u001b[0m: [Errno 2] File b'train.csv' does not exist: b'train.csv'"
          ]
        }
      ]
    },
    {
      "cell_type": "code",
      "metadata": {
        "ExecuteTime": {
          "end_time": "2019-06-16T15:01:40.476938Z",
          "start_time": "2019-06-16T15:01:40.471926Z"
        },
        "id": "3RwHragam6EA"
      },
      "source": [
        "CORR_dir = []\n",
        "OBS_dir = []\n",
        "TASKS_dir = []\n",
        "\n",
        "def CORR(x= ''):\n",
        "    if x not in CORR_dir:\n",
        "        CORR_dir.append(x)\n",
        "    return CORR_dir\n",
        "def OBS(x=''):\n",
        "    if x not in OBS_dir:\n",
        "        OBS_dir.append(x)\n",
        "    return OBS_dir\n",
        "def TASKS(x=''):\n",
        "    if x not in TASKS_dir:\n",
        "        TASKS_dir.append(x)\n",
        "    return TASKS_dir"
      ],
      "execution_count": null,
      "outputs": []
    },
    {
      "cell_type": "markdown",
      "metadata": {
        "heading_collapsed": true,
        "id": "VB2VG2gzm6EE"
      },
      "source": [
        "## Basic statistics"
      ]
    },
    {
      "cell_type": "code",
      "metadata": {
        "ExecuteTime": {
          "end_time": "2019-06-16T15:01:40.503845Z",
          "start_time": "2019-06-16T15:01:40.478907Z"
        },
        "hidden": true,
        "id": "wqdymyk6m6EF"
      },
      "source": [
        "print(\"Basic information on TRAIN data\")\n",
        "print('='*40)\n",
        "print(train.info())\n",
        "print('='*40)\n",
        "print('='*40)\n",
        "print(\"Basic information on TEST data\")\n",
        "print('='*40)\n",
        "print(test.info())\n",
        "print('='*40)"
      ],
      "execution_count": null,
      "outputs": []
    },
    {
      "cell_type": "code",
      "metadata": {
        "ExecuteTime": {
          "end_time": "2019-06-16T15:01:40.547724Z",
          "start_time": "2019-06-16T15:01:40.504838Z"
        },
        "hidden": true,
        "id": "_Yhr6fJrm6EI"
      },
      "source": [
        "print(\"Basic Statistics of TRAIN data\")\n",
        "print('='*40)\n",
        "print(train.describe())\n",
        "print('='*40)\n",
        "print('='*40)\n",
        "print(\"Basic Statistics of TEST data\")\n",
        "print('='*40)\n",
        "print(test.describe())"
      ],
      "execution_count": null,
      "outputs": []
    },
    {
      "cell_type": "code",
      "metadata": {
        "ExecuteTime": {
          "end_time": "2019-06-16T15:01:40.636487Z",
          "start_time": "2019-06-16T15:01:40.548721Z"
        },
        "hidden": true,
        "scrolled": false,
        "id": "qceLNeF7m6EL"
      },
      "source": [
        "print('='*40)\n",
        "missing = train.isna().sum().sort_values(ascending = False)\n",
        "missing_percent = round(train.isna().sum().sort_values(ascending = False)*100/train.shape[0],2)\n",
        "missing_train = pd.concat([missing, missing_percent], axis = 1, keys = ['Total', 'Percent'])\n",
        "missing_train = missing_train[missing_train.Total != 0]\n",
        "print(\"Missing values in train data set\")\n",
        "print(missing_train)\n",
        "print('='*40)\n",
        "print('='*40)\n",
        "missing = test.isna().sum().sort_values(ascending = False)\n",
        "missing_percent = round(train.isna().sum().sort_values(ascending = False)*100/train.shape[0],2)\n",
        "missing_test = pd.concat([missing, missing_percent], axis = 1, keys = ['Total', 'Percent'])\n",
        "missing_test = missing_test[missing_test.Total != 0]\n",
        "print(\"Missing values in test data set\")\n",
        "print(missing_test)\n",
        "print('='*40)\n",
        "#print('Our Primary task is to either drop/fill the missing values')\n",
        "OBS('Train Missing Values Age-177,Cabin-687 and Embarked-2')\n",
        "OBS('Test Missing Values Age-86,Cabin-327 and Fare-1')\n",
        "TASKS('Fill/Drop Age/Cabin/Embarked missing value')\n",
        "print(TASKS(''))\n",
        "print(OBS(''))"
      ],
      "execution_count": null,
      "outputs": []
    },
    {
      "cell_type": "markdown",
      "metadata": {
        "heading_collapsed": true,
        "id": "wlQMOzNgm6EO"
      },
      "source": [
        "# Visualization of features"
      ]
    },
    {
      "cell_type": "markdown",
      "metadata": {
        "hidden": true,
        "id": "mAEFstfTm6EP"
      },
      "source": [
        "## Sex\n"
      ]
    },
    {
      "cell_type": "markdown",
      "metadata": {
        "hidden": true,
        "id": "vKuXEC_rm6EQ"
      },
      "source": [
        "### Sex vs Survived"
      ]
    },
    {
      "cell_type": "code",
      "metadata": {
        "ExecuteTime": {
          "end_time": "2019-06-16T15:01:40.849915Z",
          "start_time": "2019-06-16T15:01:40.638481Z"
        },
        "hidden": true,
        "scrolled": false,
        "id": "a9CqswE8m6ET"
      },
      "source": [
        "Sex_train = pd.pivot_table(train, values='Survived', index='Sex', columns=None, aggfunc=[np.sum,'mean'])\n",
        "Sex_train.columns = ['Total_sur','Percent_sur']\n",
        "print(Sex_train)\n",
        "\n",
        "fix, ax = plt.subplots(nrows=1,ncols=1,figsize = (12,6))\n",
        "sns.barplot(\n",
        "    x='Sex',\n",
        "    y='Survived',\n",
        "    #hue='Sex',\n",
        "    data=train,\n",
        "    #palette=pal\n",
        ")\n",
        "ax.set_title('Sex vs Survived')\n",
        "plt.show()\n",
        "print(\"This shows that Sex is an very important feature.\")\n",
        "OBS('75% of women survived, and 19% men survived')"
      ],
      "execution_count": null,
      "outputs": []
    },
    {
      "cell_type": "markdown",
      "metadata": {
        "hidden": true,
        "id": "cU0KLDvom6EW"
      },
      "source": [
        "## Embarked"
      ]
    },
    {
      "cell_type": "markdown",
      "metadata": {
        "hidden": true,
        "id": "dxtvHfomm6EX"
      },
      "source": [
        "### Embarked vs Survived"
      ]
    },
    {
      "cell_type": "code",
      "metadata": {
        "ExecuteTime": {
          "end_time": "2019-06-16T15:01:42.637155Z",
          "start_time": "2019-06-16T15:01:42.431685Z"
        },
        "hidden": true,
        "scrolled": false,
        "id": "-9cPB0E-m6EY"
      },
      "source": [
        "print(\"Correlation between Embarked and Survival\")\n",
        "Embarked_tot = train.Embarked.value_counts(normalize=False,ascending=False,dropna=True)\n",
        "Embarked_per = train.Embarked.value_counts(normalize=True,ascending=False,dropna=True)*100\n",
        "Embarked_sur = pd.pivot_table(\n",
        "    train,\n",
        "    values='Survived',\n",
        "    index='Embarked',\n",
        "    #columns='Sex',\n",
        "    aggfunc=np.sum,\n",
        "    fill_value=None,\n",
        "    margins=False,\n",
        "    dropna=True,\n",
        "    margins_name='All')\n",
        "Embarked_train = pd.concat([Embarked_tot,Embarked_per,Embarked_sur.Survived, Embarked_sur.Survived/Embarked_tot],\n",
        "                           axis=1,\n",
        "                           keys=['Tot_Emb', 'Percent_Emb','Tot_Sur', 'Percent_Sur'],\n",
        "                           sort=True).sort_values('Tot_Emb',ascending=False)\n",
        "print(Embarked_train)\n",
        "#pal = {'S':\"Red\", 'C':\"Green\",'Q':'Blue'}\n",
        "\n",
        "fig, ax = plt.subplots(nrows=1,ncols=1,figsize = (12,6))\n",
        "sns.barplot(\n",
        "    x='Embarked',\n",
        "    y='Survived',\n",
        "    #hue='Sex',\n",
        "    data=train,\n",
        "#palette=pal\n",
        ")\n",
        "ax.set_title('Embarked vs Survived')\n",
        "plt.show()\n",
        "print(\"This shows that Embarked is an important feature to use: We should fill the missing values.\")\n",
        "OBS('Embarked is an important feature to use: We should fill the missing values.')"
      ],
      "execution_count": null,
      "outputs": []
    },
    {
      "cell_type": "markdown",
      "metadata": {
        "hidden": true,
        "id": "Rezajc65m6Eb"
      },
      "source": [
        "### Embarked/Sex vs Survived"
      ]
    },
    {
      "cell_type": "code",
      "metadata": {
        "ExecuteTime": {
          "end_time": "2019-06-16T15:01:44.383464Z",
          "start_time": "2019-06-16T15:01:44.056338Z"
        },
        "code_folding": [],
        "hidden": true,
        "id": "7edD6mK6m6Ec"
      },
      "source": [
        "temp = round(pd.pivot_table(train, values='Survived', index=['Embarked'], columns=None, aggfunc=[np.sum,'mean']),2)\n",
        "temp.columns = ['Total_sur','Percent_sur']\n",
        "print(temp)\n",
        "print(\"Over all people embarked from C has higher survival rates\")\n",
        "print('_'*40+'\\n')\n",
        "print('let us now see if this varies with Sex \\n')\n",
        "Embarked_sex_train = pd.pivot_table(train, values='Survived', index=['Embarked','Sex'], columns=None, aggfunc=[np.sum,'mean'])\n",
        "Embarked_sex_train.columns = ['Total_sur','Percent_sur']\n",
        "Embarked_sex_train.reindex(index = ['S','C','Q'], level = 0)\n",
        "print(round(Embarked_sex_train,2))\n",
        "\n",
        "fix, ax = plt.subplots(nrows=1,ncols=1,figsize = (12,6))\n",
        "sns.barplot(\n",
        "    x='Embarked',\n",
        "    y='Survived',\n",
        "    hue='Sex',\n",
        "    data=train,\n",
        "    #palette=pal\n",
        ")\n",
        "ax.set_title('Embarked/Sex vs Survived')\n",
        "plt.show()\n",
        "print(\"31% of the males Embarked from C survived (this is very high compared to males embarked from other ports)\")\n",
        "\n",
        "OBS(\"31% of the males Embarked from C survived (this is very high compared to males embarked from other ports)\")"
      ],
      "execution_count": null,
      "outputs": []
    },
    {
      "cell_type": "markdown",
      "metadata": {
        "heading_collapsed": true,
        "hidden": true,
        "id": "lx1ylf9Qm6Ef"
      },
      "source": [
        "## Pclass"
      ]
    },
    {
      "cell_type": "markdown",
      "metadata": {
        "hidden": true,
        "id": "lFLj3NRcm6Eg"
      },
      "source": [
        "### Pclass vs Survived"
      ]
    },
    {
      "cell_type": "code",
      "metadata": {
        "ExecuteTime": {
          "end_time": "2019-06-16T15:01:47.478183Z",
          "start_time": "2019-06-16T15:01:47.274755Z"
        },
        "hidden": true,
        "scrolled": false,
        "id": "nHHUSzatm6Ei"
      },
      "source": [
        "Pclass_train = pd.pivot_table(train, values='Survived', index='Pclass', columns=None, aggfunc=[np.sum,'mean'])\n",
        "Pclass_train.columns = ['Total_sur','Percent_sur']\n",
        "print(round(Pclass_train,2))\n",
        "\n",
        "fix, ax = plt.subplots(nrows=1,ncols=1,figsize = (12,6))\n",
        "sns.barplot(\n",
        "    x='Pclass',\n",
        "    y='Survived',\n",
        "    #hue='Sex',\n",
        "    data=train,\n",
        "    #palette=pal\n",
        ")\n",
        "ax.set_title('Pclass vs Survived')\n",
        "plt.show()\n",
        "print(\"This shows that Pclass is also an important feature.\")\n",
        "OBS('Approx: 63% (136) class 1, 47% (87) class 2, 24% (119) class 3 passengers survived')"
      ],
      "execution_count": null,
      "outputs": []
    },
    {
      "cell_type": "markdown",
      "metadata": {
        "hidden": true,
        "id": "VfkJJzTQm6Em"
      },
      "source": [
        "### Pclass/Sex vs Survived"
      ]
    },
    {
      "cell_type": "code",
      "metadata": {
        "ExecuteTime": {
          "end_time": "2019-06-16T15:01:49.125777Z",
          "start_time": "2019-06-16T15:01:48.838569Z"
        },
        "hidden": true,
        "id": "gnA-MBGdm6En"
      },
      "source": [
        "Pclass_sex_train = pd.pivot_table(train, values='Survived', index=['Pclass','Sex'], columns=None, aggfunc=[np.sum,'mean'])\n",
        "Pclass_sex_train.columns = ['Total_sur','Percent_sur']\n",
        "print(round(Pclass_sex_train,2))\n",
        "\n",
        "fix, ax = plt.subplots(nrows=1,ncols=1,figsize = (12,6))\n",
        "sns.barplot(\n",
        "    x='Pclass',\n",
        "    y='Survived',\n",
        "    hue='Sex',\n",
        "    data=train,\n",
        "    #palette=pal\n",
        ")\n",
        "ax.set_title('Pclass/Sex vs Survived')\n",
        "plt.show()\n",
        "print(\"96.8% of the 1st class females survived!\")\n",
        "print(\"Let us check if there is a correlation between Embarked, Sex, Survival\")\n",
        "OBS(\"Survived Females: 1st: 96.8% (91), 2nd: 92% (70), and 3rd: 50% (72)\")\n",
        "OBS(\"Survived Males: 1st: 37% (45), 2nd: 16% (17), and 3rd: 14% (47)\")"
      ],
      "execution_count": null,
      "outputs": []
    },
    {
      "cell_type": "markdown",
      "metadata": {
        "hidden": true,
        "id": "xiIaSdpOm6Eq"
      },
      "source": [
        "### Pclass/Embarked vs Survived"
      ]
    },
    {
      "cell_type": "code",
      "metadata": {
        "ExecuteTime": {
          "end_time": "2019-06-16T15:01:50.826227Z",
          "start_time": "2019-06-16T15:01:50.476165Z"
        },
        "hidden": true,
        "id": "WdrFO79mm6Eq"
      },
      "source": [
        "Pclass_Emb_train = pd.pivot_table(train, values='Fare', index=['Pclass'], columns=['Embarked'], aggfunc=[lambda x:len(x)])\n",
        "Pclass_Emb_train.rename(columns={'sum':'survived','<lambda>': 'Count'}, inplace=True)\n",
        "Pclass_Emb_train.columns=['C','Q','S']\n",
        "print(round(Pclass_Emb_train,2))\n",
        "\n",
        "fix, ax = plt.subplots(nrows=1,ncols=1,figsize = (12,6))\n",
        "sns.barplot(\n",
        "    x='Pclass',\n",
        "    y='Survived',\n",
        "    hue='Embarked',\n",
        "    data=train,\n",
        "    #palette=pal\n",
        ")\n",
        "ax.set_title('Pclass/Embarked vs Survived')\n",
        "plt.show()\n"
      ],
      "execution_count": null,
      "outputs": []
    },
    {
      "cell_type": "code",
      "metadata": {
        "ExecuteTime": {
          "end_time": "2019-06-16T15:01:51.147394Z",
          "start_time": "2019-06-16T15:01:50.828222Z"
        },
        "hidden": true,
        "id": "l6dwTwbtm6Et"
      },
      "source": [
        "fix, ax = plt.subplots(nrows=1,ncols=1,figsize = (12,6))\n",
        "sns.barplot(\n",
        "    x='Embarked',\n",
        "    y='Survived',\n",
        "    hue='Pclass',\n",
        "    data=train,\n",
        "    #palette=pal\n",
        ")\n",
        "ax.set_title('Embarked/Pclass vs Survived')\n",
        "plt.show()"
      ],
      "execution_count": null,
      "outputs": []
    },
    {
      "cell_type": "markdown",
      "metadata": {
        "hidden": true,
        "id": "vkGBESuim6Ex"
      },
      "source": [
        "## Correlation between  Embarked/Pclass/Sex/Survived"
      ]
    },
    {
      "cell_type": "markdown",
      "metadata": {
        "hidden": true,
        "id": "E3XGwp1Zm6Ey"
      },
      "source": [
        "### Survived/Embarked/Pclass"
      ]
    },
    {
      "cell_type": "code",
      "metadata": {
        "ExecuteTime": {
          "end_time": "2019-06-16T15:01:54.263033Z",
          "start_time": "2019-06-16T15:01:53.700540Z"
        },
        "hidden": true,
        "id": "LgYssJMVm6Ez"
      },
      "source": [
        "temp = round(pd.pivot_table(train, values='Survived', index=['Embarked'], columns='Pclass', aggfunc=['mean']),2)\n",
        "print(temp)\n",
        "\n",
        "print(\"Let us Visualize this with point plots\")\n",
        "print('_'*40+'\\n')\n",
        "\n",
        "grid =sns.FacetGrid(\n",
        "    train,\n",
        "    row='Embarked',\n",
        "    height=3,\n",
        "    palette=None,\n",
        "    row_order=None,\n",
        "    col_order=['1','2','3'],\n",
        "    dropna=True,\n",
        "    legend_out=True,\n",
        "    despine=True,\n",
        "    margin_titles=False,size=2.2, aspect=1.6\n",
        ")\n",
        "grid.map(sns.pointplot, 'Pclass','Survived',order = [1,2,3], alpha=.5)\n",
        "grid.add_legend();\n",
        "plt.show()\n",
        "print(\"I assumed that as the Pclass increases the survival rate decreases. However, this changes for people embarked from Q.\")\n",
        "temp = round(pd.pivot_table(train, values='Survived', index=['Embarked'], columns='Pclass', aggfunc=['mean']),2)\n",
        "print(temp)\n",
        "OBS(\"For S,C as Pclass increses Survival decreses. However, for Q Class 2 had higher \\nsurvival chances. (There might be some other factors)\")"
      ],
      "execution_count": null,
      "outputs": []
    },
    {
      "cell_type": "markdown",
      "metadata": {
        "hidden": true,
        "id": "CktQYDhHm6E2"
      },
      "source": [
        "### Survived/Embarked/Pclass/Sex"
      ]
    },
    {
      "cell_type": "code",
      "metadata": {
        "ExecuteTime": {
          "end_time": "2019-06-16T15:01:56.140012Z",
          "start_time": "2019-06-16T15:01:55.427918Z"
        },
        "hidden": true,
        "id": "rZP-a4Pxm6E3"
      },
      "source": [
        "print(\"the fllowing table illustrate the correlations between all the four Catagorical Feature:\")\n",
        "print(\"Pclass, Embarked, Sex, Survival\")\n",
        "print('_'*80+'\\n')\n",
        "\n",
        "temp = round(pd.pivot_table(train, \n",
        "                            values='Survived', \n",
        "                            index=['Embarked','Sex'], \n",
        "                            columns='Pclass', \n",
        "                            aggfunc=[lambda x: len(x), np.sum,'mean'] ),2)\n",
        "\n",
        "temp.rename(columns={'sum':'survived','<lambda>': 'travelled'}, inplace=True)\n",
        "print(temp)\n",
        "print('_'*80+'\\n')\n",
        "print(\"Above, on the left we have total number of passengers, on the middle the survived ones, \\nand finally on the right we have the (mean)propabilities for survival.\")\n",
        "print('_'*80+'\\n')\n",
        "\n",
        "#grid = sns.FacetGrid(train_df, col='Embarked')\n",
        "grid = sns.FacetGrid(train, row='Embarked', height=2.2, aspect=1.6)\n",
        "grid.map(sns.pointplot, 'Pclass', 'Survived', 'Sex', palette='deep', order = [1,2,3], hue_order = ['male','female'])\n",
        "grid.add_legend()\n",
        "plt.show()\n",
        "\n",
        "print('Only 2 first class and 3 second class passengers Embarked from Q ')\n",
        "OBS('Only 2 first class and 3 second class passengers Embarked from Q ')\n",
        "OBS(\"Out of 41 males Embarked from Q  only 3 had survived\")\n",
        "print(\"Out of 41 males Embarked from Q  only 3 had survived\")"
      ],
      "execution_count": null,
      "outputs": []
    },
    {
      "cell_type": "markdown",
      "metadata": {
        "hidden": true,
        "id": "ObrxS_RTm6E6"
      },
      "source": [
        "## Age"
      ]
    },
    {
      "cell_type": "markdown",
      "metadata": {
        "code_folding": [],
        "hidden": true,
        "id": "Z3xrqAhwm6E7"
      },
      "source": [
        "### Age vs Survived"
      ]
    },
    {
      "cell_type": "code",
      "metadata": {
        "ExecuteTime": {
          "end_time": "2019-06-16T15:01:58.203513Z",
          "start_time": "2019-06-16T15:01:57.910276Z"
        },
        "hidden": true,
        "id": "CPAlUatnm6E9"
      },
      "source": [
        "fig, axes = plt.subplots(nrows=1, ncols=2, figsize=(10, 6))\n",
        "train[train.Survived==1].Age.hist( ax = axes[0], color = 'darkblue',bins=20)\n",
        "train[train.Survived==0].Age.hist(ax = axes[1], color = 'darkblue',bins=20)\n",
        "axes[0].set_title(\"Survived\")\n",
        "axes[1].set_title(\"Expired\")\n",
        "axes[0].set_xlabel(\"Age\")\n",
        "axes[1].set_xlabel(\"Age\")\n",
        "axes[0].set_ylabel(\"Frequency\")\n",
        "axes[1].set_ylabel(\"Frequency\")\n",
        "# Setting the ylabel to '% change'\n",
        "# ... YOUR CODE FOR TASK 7 ...\n",
        "#axes[0].set_ylabel('# change')\n",
        "#axes[1].set_ylabel('% change')\n",
        "plt.suptitle('Age/Survived histograms')\n",
        "plt.show()\n",
        "\n",
        "print(\"it looks like there is a pattern with kids and old people\")\n",
        "print(\"Let us accuratly calculate the bin widths, by looking at the age bin widths using traditional histograms\")\n"
      ],
      "execution_count": null,
      "outputs": []
    },
    {
      "cell_type": "code",
      "metadata": {
        "ExecuteTime": {
          "end_time": "2019-06-16T15:01:58.695202Z",
          "start_time": "2019-06-16T15:01:58.205487Z"
        },
        "hidden": true,
        "scrolled": false,
        "id": "tGn1c_aJm6FG"
      },
      "source": [
        "fig, axes = plt.subplots(nrows=1, ncols=2, figsize=(10, 6))\n",
        "temp1 = axes[0].hist(train[train.Survived==1].Age, bins=16)\n",
        "temp2 = axes[1].hist(train[train.Survived==0].Age, bins=16)\n",
        "axes[0].set_xlabel('Age')\n",
        "axes[1].set_xlabel('Age')\n",
        "axes[1].set_title('Expired')\n",
        "axes[0].set_title('Survived')\n",
        "axes[0].set_xlim([0,80])\n",
        "axes[1].set_xlim([0,80])\n",
        "axes[0].set_ylim([0,80])\n",
        "axes[1].set_ylim([0,80])\n",
        "plt.suptitle('Age/Survived Distributions')\n",
        "plt.show()\n",
        "\n",
        "print(\"# people Survived - # of people Expired\")\n",
        "print(temp1[0])\n",
        "print(temp2[0])\n",
        "print(temp1[0]-temp2[0])\n",
        "print('-'*80)\n",
        "\n",
        "plt.bar(np.linspace(0,80,16),temp1[0]-temp2[0])\n",
        "plt.title(\"# people Survived - # of people Expired\")\n",
        "plt.xlabel(\"Age\")\n",
        "plt.ylabel('# of people')\n",
        "print('There are three import observations here')\n",
        "print('(1): An 80year old person survived, I think its safe to assume he/she is an outlier.')\n",
        "print('(2): After removing him, we can see that everyone above 65years have expired.')\n",
        "print('(3): Kids below 5years had a great chance of survival')\n",
        "print('* Apart from these catogories I dont see any clear differences.')\n",
        "print('** If we can find the moms of these babies, mostly she should have survived. But we dont have the data.')\n",
        "OBS('An 80year old person survived, I think its safe to assume he/she is an outlier.')\n",
        "OBS('everyone above 65years have expired (after removing the outlier)')\n",
        "OBS('Kids below 5years had a great chance of survival')\n",
        "print('-'*80)"
      ],
      "execution_count": null,
      "outputs": []
    },
    {
      "cell_type": "markdown",
      "metadata": {
        "hidden": true,
        "id": "O2p0bm5Im6FI"
      },
      "source": [
        "### Embarked/Sex vs Age "
      ]
    },
    {
      "cell_type": "code",
      "metadata": {
        "ExecuteTime": {
          "end_time": "2019-06-16T15:01:59.328507Z",
          "start_time": "2019-06-16T15:01:59.119043Z"
        },
        "hidden": true,
        "id": "L61LwUvrm6FJ"
      },
      "source": [
        "pal = {'male':\"green\", 'female':\"Pink\"}\n",
        "fix, ax = plt.subplots(nrows=1,ncols=1,figsize = (12,6))\n",
        "sns.boxplot(\n",
        "    x='Embarked',\n",
        "    y='Age',\n",
        "    hue='Sex',\n",
        "    data=train,\n",
        "    palette=pal\n",
        ")\n",
        "ax.set_title('Embarked/Sex vs Age')\n",
        "plt.show()"
      ],
      "execution_count": null,
      "outputs": []
    },
    {
      "cell_type": "code",
      "metadata": {
        "ExecuteTime": {
          "end_time": "2019-06-16T15:01:59.852084Z",
          "start_time": "2019-06-16T15:01:59.330479Z"
        },
        "hidden": true,
        "id": "iPWZjdPom6FN"
      },
      "source": [
        "# Make a strip plot of 'hp' grouped by 'cyl'\n",
        "#plt.subplots(nrows=1, ncols=1, figsize=(12, 8))\n",
        "#sns.swarmplot(x='Embarked', y='Age',hue='Survived', data=train)\n",
        "#plt.show()\n",
        "\n",
        "pal = {'male':\"green\", 'female':\"Pink\"}\n",
        "\n",
        "plt.subplots(nrows=1, ncols=1, figsize=(12, 8))\n",
        "sns.violinplot(x='Embarked', y='Age', data=train, inner =None, color='lightgray')\n",
        "sns.swarmplot(x='Embarked',y='Age',data=train, size=4,hue='Sex',palette=pal)\n",
        "plt.show()\n",
        "\n",
        "print(\"All the people Embarked from Q with Age>35 did not survive\")\n",
        "print(\"All the people Embarked from Q with Age<10 did not survive\")\n",
        "print(\"All the people Embarked from C with Age<10 survived\")\n",
        "OBS('All the people Embarked from Q with Age>35 did not survive')\n",
        "OBS('All the people Embarked from Q with Age<10 did not survive')\n",
        "OBS('All the people Embarked from C with Age<10 survived')\n",
        "print(\"-\"*40)"
      ],
      "execution_count": null,
      "outputs": []
    },
    {
      "cell_type": "markdown",
      "metadata": {
        "heading_collapsed": true,
        "hidden": true,
        "id": "aebPSz5Dm6FQ"
      },
      "source": [
        "### Embarked/Pclass vs Age"
      ]
    },
    {
      "cell_type": "code",
      "metadata": {
        "ExecuteTime": {
          "end_time": "2019-06-16T15:02:00.586124Z",
          "start_time": "2019-06-16T15:02:00.335812Z"
        },
        "hidden": true,
        "id": "75Sii18Zm6FS"
      },
      "source": [
        "fix, ax = plt.subplots(nrows=1,ncols=1,figsize = (12,6))\n",
        "sns.boxplot(\n",
        "    x='Embarked',\n",
        "    y='Age',\n",
        "    hue='Pclass',\n",
        "    data=train,\n",
        "    #palette=pal\n",
        ")\n",
        "ax.set_title('Embarked/Pclass vs Age')\n",
        "plt.show()\n",
        "OBS('Class 3 has the Youngest people')\n",
        "print(\"Class 3 has the Youngest people\")"
      ],
      "execution_count": null,
      "outputs": []
    },
    {
      "cell_type": "markdown",
      "metadata": {
        "hidden": true,
        "id": "Ts66Dfc-m6FV"
      },
      "source": [
        "### Embarked/Survived vs Age"
      ]
    },
    {
      "cell_type": "code",
      "metadata": {
        "ExecuteTime": {
          "end_time": "2019-06-16T15:02:01.706122Z",
          "start_time": "2019-06-16T15:02:01.497680Z"
        },
        "hidden": true,
        "scrolled": false,
        "id": "VYwOf05Tm6FW"
      },
      "source": [
        "fix, ax = plt.subplots(nrows=1,ncols=1,figsize = (12,6))\n",
        "sns.boxplot(\n",
        "    x='Embarked',\n",
        "    y='Age',\n",
        "    hue='Survived',\n",
        "    data=train,\n",
        "    #palette=pal\n",
        ")\n",
        "ax.set_title('Embarked/Survived vs Age')\n",
        "plt.show()\n",
        "print(\"Over all youger people has a Higher chance of survivel\")"
      ],
      "execution_count": null,
      "outputs": []
    },
    {
      "cell_type": "markdown",
      "metadata": {
        "hidden": true,
        "id": "srb1STism6FZ"
      },
      "source": [
        "### Pclass/Sex vs Age  "
      ]
    },
    {
      "cell_type": "code",
      "metadata": {
        "ExecuteTime": {
          "end_time": "2019-06-16T15:02:02.878984Z",
          "start_time": "2019-06-16T15:02:02.657579Z"
        },
        "hidden": true,
        "id": "xeAjAoW3m6Fa"
      },
      "source": [
        "pal = {'male':\"green\", 'female':\"Pink\"}\n",
        "fix, ax = plt.subplots(nrows=1,ncols=1,figsize = (12,6))\n",
        "sns.boxplot(\n",
        "    x='Pclass',\n",
        "    y='Age',\n",
        "    hue='Sex',\n",
        "    data=train,\n",
        "    palette=pal\n",
        ")\n",
        "ax.set_title('Embarked/Survived vs Age')\n",
        "plt.show()"
      ],
      "execution_count": null,
      "outputs": []
    },
    {
      "cell_type": "code",
      "metadata": {
        "ExecuteTime": {
          "end_time": "2019-06-16T15:02:03.315815Z",
          "start_time": "2019-06-16T15:02:02.880979Z"
        },
        "hidden": true,
        "scrolled": false,
        "id": "4OnDadC0m6Fc"
      },
      "source": [
        "# Make a strip plot of 'hp' grouped by 'cyl'\n",
        "#plt.subplots(nrows=1, ncols=1, figsize=(12, 8))\n",
        "#sns.swarmplot(x='Pclass', y= 'Age', data=train,hue='Survived', size =3)\n",
        "# Display the plot\n",
        "#plt.show()\n",
        "pal = {'male':\"green\", 'female':\"Pink\"}\n",
        "\n",
        "plt.subplots(nrows=1, ncols=1, figsize=(12, 8))\n",
        "sns.violinplot(x='Pclass', y= 'Age', data=train,  inner =None, color='lightgray')\n",
        "sns.swarmplot(x='Pclass',y='Age',data=train, size=5,hue='Sex',palette=pal)\n",
        "plt.show()\n",
        "\n",
        "print(\"All the second class people with age< 18 (approx) have survived\")\n",
        "print(\"-\"*40)\n",
        "print(\"Most class 3 have died and most people embarked from S have died. There might be a good correlation.\")\n",
        "print(\"Most of the old people with age > 65 (approx) have not survived\")\n",
        "print(\"A lot of Class 1 people with Age < 20 have survived\")\n",
        "OBS('All the 2nd class people with age< 18 (approx) have survived')\n",
        "OBS('A lot of Class 1 people with Age < 20 have survived')\n",
        "print(\"Particularly no new information\")"
      ],
      "execution_count": null,
      "outputs": []
    },
    {
      "cell_type": "markdown",
      "metadata": {
        "hidden": true,
        "id": "jIvGOEtCm6Ff"
      },
      "source": [
        "### Pclass/Survived vs Age"
      ]
    },
    {
      "cell_type": "code",
      "metadata": {
        "ExecuteTime": {
          "end_time": "2019-06-16T15:02:04.117689Z",
          "start_time": "2019-06-16T15:02:03.894270Z"
        },
        "hidden": true,
        "id": "8QzrgPRcm6Fg"
      },
      "source": [
        "fix, ax = plt.subplots(nrows=1,ncols=1,figsize = (12,6))\n",
        "sns.boxplot(\n",
        "    x='Pclass',\n",
        "    y='Age',\n",
        "    hue='Survived',\n",
        "    data=train,\n",
        "    #palette=pal\n",
        ")\n",
        "ax.set_title('Pclass/Survived vs Age')\n",
        "plt.show()\n",
        "OBS(\"In every Class younger people had higher chance of survival\")\n",
        "print(\"In every Class younger people had higher chance of survival\")"
      ],
      "execution_count": null,
      "outputs": []
    },
    {
      "cell_type": "code",
      "metadata": {
        "ExecuteTime": {
          "end_time": "2019-06-16T15:02:04.539567Z",
          "start_time": "2019-06-16T15:02:04.119666Z"
        },
        "hidden": true,
        "id": "qeP6araum6Fj"
      },
      "source": [
        "# Make a strip plot of 'hp' grouped by 'cyl'\n",
        "#plt.subplots(nrows=1, ncols=1, figsize=(12, 8))\n",
        "#sns.swarmplot(x='Pclass', y= 'Age', data=train,hue='Survived', size =3)\n",
        "# Display the plot\n",
        "#plt.show()\n",
        "plt.subplots(nrows=1, ncols=1, figsize=(15, 10))\n",
        "sns.violinplot(x='Pclass', y= 'Age', data=train,  inner =None, color='lightgray')\n",
        "sns.swarmplot(x='Pclass',y='Age',data=train, size=5,hue='Survived')\n",
        "plt.show()\n"
      ],
      "execution_count": null,
      "outputs": []
    },
    {
      "cell_type": "markdown",
      "metadata": {
        "hidden": true,
        "id": "f93ce6yem6Fm"
      },
      "source": [
        "### Age vs (Pclass and Survived)"
      ]
    },
    {
      "cell_type": "code",
      "metadata": {
        "ExecuteTime": {
          "end_time": "2019-06-16T15:02:07.434797Z",
          "start_time": "2019-06-16T15:02:05.089113Z"
        },
        "hidden": true,
        "scrolled": false,
        "id": "iv4iNkeem6Fn"
      },
      "source": [
        "temp = round(pd.pivot_table(train, \n",
        "                            values='Age', \n",
        "                            index=['Pclass'], \n",
        "                            columns=['Survived'], \n",
        "                            aggfunc=['count',lambda x: len(x)] ),2)\n",
        "temp.rename(columns={'count':'Excluding NAN','<lambda>': 'Including NAN'}, inplace=True)\n",
        "print(temp)\n",
        "print('-'*40)\n",
        "\n",
        "print(\"Histograms\")\n",
        "grid = sns.FacetGrid(train, row='Pclass', col = 'Survived', size=2.5, aspect=1.6)\n",
        "grid.map(plt.hist, 'Age',bins =20)\n",
        "grid.add_legend()\n",
        "plt.show()\n",
        "print('-'*40)\n",
        "print(\"Normalized distributions\")\n",
        "grid = sns.FacetGrid(train, row='Pclass', col = 'Survived', size=2.5, aspect=1.6)\n",
        "grid.map(sns.distplot, 'Age',color = 'g',bins=20,rug=True)\n",
        "grid.add_legend()\n",
        "plt.show()\n",
        "OBS(\"All the kids Survived from PClass 2\")\n",
        "print(\"All the kids Survived from PClass 2\")"
      ],
      "execution_count": null,
      "outputs": []
    },
    {
      "cell_type": "markdown",
      "metadata": {
        "hidden": true,
        "id": "0inmi2NMm6Fp"
      },
      "source": [
        "### Age vs (Embarked and Survived)"
      ]
    },
    {
      "cell_type": "code",
      "metadata": {
        "ExecuteTime": {
          "end_time": "2019-06-16T15:02:09.380594Z",
          "start_time": "2019-06-16T15:02:07.436792Z"
        },
        "hidden": true,
        "id": "qP10vF7Km6Fq"
      },
      "source": [
        "temp = round(pd.pivot_table(train, \n",
        "                            values='Age', \n",
        "                            index=['Embarked'], \n",
        "                            columns=['Survived'], \n",
        "                            aggfunc=['count',lambda x: len(x)] ),2)\n",
        "temp.rename(columns={'count':'Excluding NAN','<lambda>': 'Including NAN'}, inplace=True)\n",
        "print(temp)\n",
        "print('-'*40)\n",
        "print(\"Histograms\")\n",
        "grid = sns.FacetGrid(train, row='Embarked', col = 'Survived', height=2.5, aspect=1.6)\n",
        "grid.map(plt.hist, 'Age')\n",
        "grid.add_legend()\n",
        "plt.show()\n",
        "print('-'*40)\n",
        "print(\"Normalized distributions\")\n",
        "grid = sns.FacetGrid(train, row='Embarked', col = 'Survived', height=2.5, aspect=1.6)\n",
        "grid.map(sns.distplot, 'Age',color = 'g')\n",
        "grid.add_legend()\n",
        "plt.show()"
      ],
      "execution_count": null,
      "outputs": []
    },
    {
      "cell_type": "markdown",
      "metadata": {
        "hidden": true,
        "id": "rU0W87Clm6Ft"
      },
      "source": [
        "### Age vs (Pclass and Embarked)"
      ]
    },
    {
      "cell_type": "code",
      "metadata": {
        "ExecuteTime": {
          "end_time": "2019-06-16T15:02:10.919475Z",
          "start_time": "2019-06-16T15:02:09.382587Z"
        },
        "hidden": true,
        "id": "Sdw5dXytm6Fu"
      },
      "source": [
        "print(\"Histograms\")\n",
        "grid = sns.FacetGrid(train, row='Pclass', col = 'Embarked', height=2.5, aspect=1.6)\n",
        "grid.map(plt.hist, 'Age',bins =20)\n",
        "grid.add_legend()\n",
        "plt.show()"
      ],
      "execution_count": null,
      "outputs": []
    },
    {
      "cell_type": "markdown",
      "metadata": {
        "hidden": true,
        "id": "KtgdAB4-m6Fw"
      },
      "source": [
        "###  Age statistics"
      ]
    },
    {
      "cell_type": "code",
      "metadata": {
        "ExecuteTime": {
          "end_time": "2019-06-16T15:02:11.012227Z",
          "start_time": "2019-06-16T15:02:10.922474Z"
        },
        "hidden": true,
        "id": "haqvdaqQm6Fx"
      },
      "source": [
        "print(\"No of people travelled\")\n",
        "temp = round(pd.pivot_table(train, \n",
        "                            values='Age', \n",
        "                            index=['Pclass','Sex'], \n",
        "                            columns=['Embarked'], \n",
        "                            aggfunc=[(lambda x: len(x))] ),2)\n",
        "temp.rename(columns={'<lambda>': '#of obervations '}, inplace=True)\n",
        "temp.columns=['C','Q','S']\n",
        "temp_col = pd.Categorical(['S','C','Q'],ordered =True)\n",
        "temp.reindex(temp_col, axis = 'columns')\n",
        "print(temp)\n",
        "print('-'*40)\n",
        "print(\"Missing values in Age column\")\n",
        "temp = round(pd.pivot_table(train, \n",
        "                            values='Age', \n",
        "                            index=['Pclass','Sex'], \n",
        "                            columns=['Embarked'], \n",
        "                            aggfunc=[(lambda x: sum(x.isnull()))] ),2)\n",
        "temp.rename(columns={'<lambda>': '#NAN-in-Age '}, inplace=True)\n",
        "temp.columns=['C','Q','S']\n",
        "temp.reindex(['S','C','Q'],axis = 'columns')\n",
        "print(temp)\n",
        "print('-'*40)\n",
        "print(\"Median Age\")\n",
        "temp = round(pd.pivot_table(train, \n",
        "                            values='Age', \n",
        "                            index=['Pclass','Sex'], \n",
        "                            columns=['Embarked'], \n",
        "                            aggfunc=[(lambda x: x.quantile()),'mean'] ),2)\n",
        "temp.rename(columns={'<lambda>': 'Median'}, inplace=True)\n",
        "#temp.columns=['C','Q','S']\n",
        "#temp.reindex(['S','C','Q'],axis = 'columns')\n",
        "print(temp)\n",
        "print('-'*40)\n"
      ],
      "execution_count": null,
      "outputs": []
    },
    {
      "cell_type": "markdown",
      "metadata": {
        "heading_collapsed": true,
        "hidden": true,
        "id": "D7bDcxJPm6F1"
      },
      "source": [
        "## Fare"
      ]
    },
    {
      "cell_type": "markdown",
      "metadata": {
        "heading_collapsed": true,
        "hidden": true,
        "id": "4-0yb9bHm6F2"
      },
      "source": [
        "### Fare vs Age"
      ]
    },
    {
      "cell_type": "code",
      "metadata": {
        "ExecuteTime": {
          "end_time": "2019-06-16T15:02:13.180427Z",
          "start_time": "2019-06-16T15:02:11.447065Z"
        },
        "hidden": true,
        "id": "0bAgJaXQm6F3"
      },
      "source": [
        "# Generate a joint plot of 'hp' and 'mpg'\n",
        "sns.jointplot(x='Age',y='Fare',data=train, kind='hex')\n",
        "sns.set(style=\"ticks\")\n",
        "# Display the plot\n",
        "plt.show()\n",
        "sns.jointplot(x='Age',y='Fare',data=train, kind='kde')\n",
        "\n",
        "# Display the plot\n",
        "plt.show()\n",
        "OBS(\"there are quite a lot of people concetrated at 0<fare<30 and 16<age<25\")\n",
        "print(\"there are quite a lot of people concetrated at 0<fare<30 and 16<age<25\")"
      ],
      "execution_count": null,
      "outputs": []
    },
    {
      "cell_type": "code",
      "metadata": {
        "ExecuteTime": {
          "end_time": "2019-06-16T15:02:14.654483Z",
          "start_time": "2019-06-16T15:02:13.182422Z"
        },
        "hidden": true,
        "id": "2ibRuMM4m6F6"
      },
      "source": [
        "sns.pairplot(train[['Fare','Pclass','Age']], hue='Pclass',hue_order = [1,2,3],kind='scatter')\n",
        "\n",
        "OBS(\"Pclass doest completly depend on Fare\")\n",
        "OBS(\" There is cluster where are all three classes coexist for the same fair (50$-100$)\")\n",
        "print(\"Pclass doest completly depend on Fare, There is cluster where are all three classes coexist for the same fair (50$-100$)\")\n",
        "\n"
      ],
      "execution_count": null,
      "outputs": []
    },
    {
      "cell_type": "code",
      "metadata": {
        "ExecuteTime": {
          "end_time": "2019-06-16T15:02:16.037783Z",
          "start_time": "2019-06-16T15:02:14.656479Z"
        },
        "hidden": true,
        "id": "mWpeEU4ym6F8"
      },
      "source": [
        "sns.pairplot(train[['Fare','Survived','Age']], hue='Survived',hue_order = [0,1],kind='scatter')"
      ],
      "execution_count": null,
      "outputs": []
    },
    {
      "cell_type": "code",
      "metadata": {
        "ExecuteTime": {
          "end_time": "2019-06-16T15:02:16.762843Z",
          "start_time": "2019-06-16T15:02:16.039779Z"
        },
        "hidden": true,
        "id": "veL7Ek1hm6F-"
      },
      "source": [
        "sns.pairplot(train[['Fare','Sex','Age']], hue='Sex',hue_order = ['male','female'],kind='scatter')\n",
        "OBS(\"there are no females above 65y age and all of tese have expired.\")\n",
        "print(\"there are no females above 65y age and all of tese have expired. \")"
      ],
      "execution_count": null,
      "outputs": []
    },
    {
      "cell_type": "markdown",
      "metadata": {
        "heading_collapsed": true,
        "hidden": true,
        "id": "vHVw_toWm6GB"
      },
      "source": [
        "### Sex/(Embarked +Survived) vs Fare"
      ]
    },
    {
      "cell_type": "code",
      "metadata": {
        "ExecuteTime": {
          "end_time": "2019-06-16T15:02:17.445020Z",
          "start_time": "2019-06-16T15:02:16.763840Z"
        },
        "hidden": true,
        "id": "CSeNfqK2m6GC"
      },
      "source": [
        "grid = sns.FacetGrid(train, row='Embarked', col='Survived', size=2.2, aspect=1.6)\n",
        "grid.map(sns.barplot, 'Sex', 'Fare', alpha=.5, ci=None)\n",
        "grid.add_legend()\n",
        "\n",
        "print(\"Survival chances of C>S>Q\")"
      ],
      "execution_count": null,
      "outputs": []
    },
    {
      "cell_type": "markdown",
      "metadata": {
        "code_folding": [],
        "heading_collapsed": true,
        "hidden": true,
        "id": "d_Lc0XO_m6GG"
      },
      "source": [
        "### Fare vs Survived"
      ]
    },
    {
      "cell_type": "code",
      "metadata": {
        "ExecuteTime": {
          "end_time": "2019-06-16T15:02:17.774139Z",
          "start_time": "2019-06-16T15:02:17.446017Z"
        },
        "hidden": true,
        "id": "Ve39MR5ym6GH"
      },
      "source": [
        "# Generate a joint plot of 'hp' and 'mpg'\n",
        "sns.jointplot(x='Age',y='Survived',data=train, kind='hex')\n",
        "\n",
        "# Display the plot\n",
        "plt.show()\n"
      ],
      "execution_count": null,
      "outputs": []
    },
    {
      "cell_type": "code",
      "metadata": {
        "ExecuteTime": {
          "end_time": "2019-06-16T15:02:18.082314Z",
          "start_time": "2019-06-16T15:02:17.775136Z"
        },
        "hidden": true,
        "id": "0T7VU-gdm6GL"
      },
      "source": [
        "fig, axes = plt.subplots(nrows=1, ncols=2, figsize=(10, 6))\n",
        "train[train.Survived==1].Fare.hist( ax = axes[0], color = 'darkblue',bins=20)\n",
        "train[train.Survived==0].Fare.hist(ax = axes[1], color = 'darkblue',bins=20)\n",
        "axes[0].set_title(\"Survived\")\n",
        "axes[1].set_title(\"Expired\")\n",
        "axes[0].set_xlabel(\"Fare\")\n",
        "axes[1].set_xlabel(\"Fare\")\n",
        "axes[0].set_ylim([0,380])\n",
        "axes[1].set_ylim([0,380])\n",
        "axes[0].set_ylabel(\"Frequency\")\n",
        "axes[1].set_ylabel(\"Frequency\")\n",
        "# Setting the ylabel to '% change'\n",
        "# ... YOUR CODE FOR TASK 7 ...\n",
        "#axes[0].set_ylabel('# change')\n",
        "#axes[1].set_ylabel('% change')\n",
        "plt.suptitle('Fare/Survived histograms')\n",
        "plt.show()\n",
        "\n",
        "OBS('Remove the outlier with 500 fare')\n",
        "OBS(\"people with low fare has low chance of surival\")\n",
        "print(\"There is an outlier with fare 500!\")\n",
        "print(\"people with low fare has low chance of surival\")\n",
        "train = train[train.Fare < 500]"
      ],
      "execution_count": null,
      "outputs": []
    },
    {
      "cell_type": "code",
      "metadata": {
        "ExecuteTime": {
          "end_time": "2019-06-16T15:02:18.589955Z",
          "start_time": "2019-06-16T15:02:18.084309Z"
        },
        "hidden": true,
        "scrolled": false,
        "id": "_KJIV39Hm6GO"
      },
      "source": [
        "fig, axes = plt.subplots(nrows=1, ncols=2, figsize=(10, 6))\n",
        "temp1 = axes[0].hist(train[train.Survived==1].Fare, bins=16)\n",
        "temp2 = axes[1].hist(train[train.Survived==0].Fare, bins=16)\n",
        "axes[0].set_xlabel('Fare')\n",
        "axes[1].set_xlabel('Fare')\n",
        "axes[1].set_title('Expired')\n",
        "axes[0].set_title('Survived')\n",
        "axes[0].set_ylim([0,380])\n",
        "axes[1].set_ylim([0,380])\n",
        "axes[0].set_xlim([0,300])\n",
        "axes[1].set_xlim([0,300])\n",
        "plt.suptitle('Fare/Survived Distributions')\n",
        "plt.show()\n",
        "\n",
        "print(\"# people Survived - # of people Expired\")\n",
        "print(temp1[0])\n",
        "print(temp2[0])\n",
        "print(temp1[0]-temp2[0])\n",
        "print('-'*80)\n",
        "\n",
        "plt.bar(np.linspace(0,80,16),temp1[0]-temp2[0])\n",
        "plt.title(\"# people Survived - # of people Expired\")\n",
        "plt.xlabel(\"Fare\")\n",
        "plt.ylabel('# of people')\n",
        "print('There are three import observations here')\n",
        "OBS('Kids below 5years had a great chance of survival')\n",
        "print('-'*80)\n",
        "\n",
        "print(\"This looks like the #passengers survived ossillates with the price\")\n",
        "print(\"Banding the price might help\")"
      ],
      "execution_count": null,
      "outputs": []
    },
    {
      "cell_type": "markdown",
      "metadata": {
        "heading_collapsed": true,
        "hidden": true,
        "id": "n3_pMUDpm6GQ"
      },
      "source": [
        "### Fare Vs Sex"
      ]
    },
    {
      "cell_type": "code",
      "metadata": {
        "ExecuteTime": {
          "end_time": "2019-06-16T15:02:19.520493Z",
          "start_time": "2019-06-16T15:02:18.590953Z"
        },
        "hidden": true,
        "scrolled": false,
        "id": "JwiXo-TXm6GQ"
      },
      "source": [
        "\n",
        "\n",
        "fig, axes = plt.subplots(nrows=1, ncols=2, figsize=(10, 6))\n",
        "train[train.Sex=='male'].Fare.hist( ax = axes[0], color = 'darkblue',bins=20)\n",
        "train[train.Sex=='female'].Fare.hist(ax = axes[1], color = 'darkblue',bins=20)\n",
        "axes[0].set_title(\"male\")\n",
        "axes[1].set_title(\"female\")\n",
        "axes[0].set_xlabel(\"Fare\")\n",
        "axes[1].set_xlabel(\"Fare\")\n",
        "axes[0].set_ylim([0,380])\n",
        "axes[1].set_ylim([0,380])\n",
        "axes[0].set_ylabel(\"Frequency\")\n",
        "axes[1].set_ylabel(\"Frequency\")\n",
        "# Setting the ylabel to '% change'\n",
        "# ... YOUR CODE FOR TASK 7 ...\n",
        "#axes[0].set_ylabel('# change')\n",
        "#axes[1].set_ylabel('% change')\n",
        "plt.suptitle('Fare/Sex histograms')\n",
        "plt.show()\n",
        "#train = train[train.Fare < 500]\n",
        "\n",
        "print(\"A lot people are in between 0-50 dollars\")\n",
        "print(\"let us try some logathamic binning\")\n",
        "\n",
        "bins=np.logspace(np.log10(1),np.log10(300), 5)\n",
        "bins = [0,8,16,30,300]\n",
        "print(np.round(bins,1))\n",
        "\n",
        "fig, axes = plt.subplots(nrows=1, ncols=2, figsize=(15, 8))\n",
        "train[train.Sex=='male'].Fare.hist( ax = axes[0], color = 'darkblue',bins=bins)\n",
        "train[train.Sex=='female'].Fare.hist(ax = axes[1], color = 'darkblue',bins=bins)\n",
        "axes[0].set_title(\"male\")\n",
        "axes[1].set_title(\"female\")\n",
        "axes[0].set_xlabel(\"Fare\")\n",
        "axes[1].set_xlabel(\"Fare\")\n",
        "axes[1].set_xticks(bins)\n",
        "axes[0].set_ylim([0,380])\n",
        "axes[1].set_ylim([0,380])\n",
        "axes[0].set_ylabel(\"Frequency\")\n",
        "axes[1].set_ylabel(\"Frequency\")\n",
        "# Setting the ylabel to '% change'\n",
        "# ... YOUR CODE FOR TASK 7 ...\n",
        "#axes[0].set_ylabel('# change')\n",
        "#axes[1].set_ylabel('% change')\n",
        "plt.suptitle('Fare/Sex histograms')\n",
        "plt.show()\n",
        "\n",
        "print(\"new bins sizes (exponential)\")\n",
        "bins = [0,8,16,30,300]\n",
        "train.hist('Fare',bins=bins)\n",
        "plt.show()\n",
        "\n",
        "\n",
        "bins = [0,16,32, 48, 64,300]\n",
        "train.hist('Fare',bins=bins)\n",
        "plt.show()\n",
        "\n",
        "bins = [0,8,15, 31,300]\n",
        "train.hist('Fare',bins=bins)\n",
        "plt.show()"
      ],
      "execution_count": null,
      "outputs": []
    },
    {
      "cell_type": "markdown",
      "metadata": {
        "heading_collapsed": true,
        "hidden": true,
        "id": "GoWLVOtOm6GU"
      },
      "source": [
        "### Embarked vs Fare "
      ]
    },
    {
      "cell_type": "code",
      "metadata": {
        "ExecuteTime": {
          "end_time": "2019-06-16T15:02:19.677068Z",
          "start_time": "2019-06-16T15:02:19.521484Z"
        },
        "hidden": true,
        "scrolled": false,
        "id": "rCj79Ikxm6GU"
      },
      "source": [
        "fix, ax = plt.subplots(nrows=1,ncols=1,figsize = (8,6))\n",
        "sns.barplot(\n",
        "    x='Survived',\n",
        "    y='Fare',\n",
        "    data=train,\n",
        ")\n",
        "ax.set_title('Survived vs Fare')\n",
        "plt.show()"
      ],
      "execution_count": null,
      "outputs": []
    },
    {
      "cell_type": "markdown",
      "metadata": {
        "heading_collapsed": true,
        "hidden": true,
        "id": "e_KWwQOqm6Ga"
      },
      "source": [
        "### Embarked/Sex vs Fare"
      ]
    },
    {
      "cell_type": "code",
      "metadata": {
        "ExecuteTime": {
          "end_time": "2019-06-16T15:02:19.925384Z",
          "start_time": "2019-06-16T15:02:19.678065Z"
        },
        "hidden": true,
        "id": "Qhr8ikqUm6Gb"
      },
      "source": [
        "pal = {'male':\"green\", 'female':\"Pink\"}\n",
        "fix, ax = plt.subplots(nrows=1,ncols=1,figsize = (10,8))\n",
        "sns.barplot(\n",
        "    x='Embarked',\n",
        "    y='Fare',\n",
        "    hue='Sex',\n",
        "    data=train,\n",
        "    palette=pal\n",
        ")\n",
        "ax.set_title('Embarked/Sex vs Fare')\n",
        "plt.show()"
      ],
      "execution_count": null,
      "outputs": []
    },
    {
      "cell_type": "markdown",
      "metadata": {
        "heading_collapsed": true,
        "hidden": true,
        "id": "N-3H27R6m6Gd"
      },
      "source": [
        "### Embarked/Pclass vs Fare"
      ]
    },
    {
      "cell_type": "code",
      "metadata": {
        "ExecuteTime": {
          "end_time": "2019-06-16T15:02:20.231585Z",
          "start_time": "2019-06-16T15:02:19.927379Z"
        },
        "hidden": true,
        "id": "GLTLfAejm6Gd"
      },
      "source": [
        "fix, ax = plt.subplots(nrows=1,ncols=1,figsize = (12,6))\n",
        "sns.barplot(\n",
        "    x='Embarked',\n",
        "    y='Fare',\n",
        "    hue='Pclass',\n",
        "    data=train,\n",
        "    #palette=pal\n",
        ")\n",
        "ax.set_title('Embarked/Pclass vs Fare')\n",
        "plt.show()"
      ],
      "execution_count": null,
      "outputs": []
    },
    {
      "cell_type": "markdown",
      "metadata": {
        "heading_collapsed": true,
        "hidden": true,
        "id": "MGQERLFim6Gh"
      },
      "source": [
        "### Embarked/Survived vs Fare"
      ]
    },
    {
      "cell_type": "code",
      "metadata": {
        "ExecuteTime": {
          "end_time": "2019-06-16T15:02:21.048380Z",
          "start_time": "2019-06-16T15:02:20.801042Z"
        },
        "hidden": true,
        "scrolled": false,
        "id": "CMsw83yOm6Gi"
      },
      "source": [
        "fix, ax = plt.subplots(nrows=1,ncols=1,figsize = (12,6))\n",
        "sns.barplot(\n",
        "    x='Embarked',\n",
        "    y='Fare',\n",
        "    hue='Survived',\n",
        "    data=train,\n",
        "    #palette=pal\n",
        ")\n",
        "ax.set_title('Embarked/Survived vs Fare')\n",
        "plt.show()"
      ],
      "execution_count": null,
      "outputs": []
    },
    {
      "cell_type": "markdown",
      "metadata": {
        "heading_collapsed": true,
        "hidden": true,
        "id": "RvbhZL65m6Gk"
      },
      "source": [
        "### Pclass/Sex vs Fare  "
      ]
    },
    {
      "cell_type": "code",
      "metadata": {
        "ExecuteTime": {
          "end_time": "2019-06-16T15:02:22.242211Z",
          "start_time": "2019-06-16T15:02:21.970912Z"
        },
        "hidden": true,
        "scrolled": false,
        "id": "hHkJfaPem6Gk"
      },
      "source": [
        "pal = {'male':\"green\", 'female':\"Pink\"}\n",
        "fix, ax = plt.subplots(nrows=1,ncols=1,figsize = (12,6))\n",
        "sns.barplot(\n",
        "    x='Pclass',\n",
        "    y='Fare',\n",
        "    hue='Sex',\n",
        "    data=train,\n",
        "    palette=pal\n",
        ")\n",
        "ax.set_title('Embarked/Survived vs Fare')\n",
        "plt.show()"
      ],
      "execution_count": null,
      "outputs": []
    },
    {
      "cell_type": "markdown",
      "metadata": {
        "heading_collapsed": true,
        "hidden": true,
        "id": "NqzI2TE3m6Gn"
      },
      "source": [
        "### Pclass/Survived vs Fare"
      ]
    },
    {
      "cell_type": "code",
      "metadata": {
        "ExecuteTime": {
          "end_time": "2019-06-16T15:02:23.423047Z",
          "start_time": "2019-06-16T15:02:23.183668Z"
        },
        "hidden": true,
        "id": "FFQ0pRllm6Gn"
      },
      "source": [
        "pal = {'male':\"green\", 'female':\"Pink\"}\n",
        "fix, ax = plt.subplots(nrows=1,ncols=1,figsize = (12,6))\n",
        "sns.barplot(\n",
        "    x='Pclass',\n",
        "    y='Fare',\n",
        "    hue='Survived',\n",
        "    data=train\n",
        "#    palette=pal\n",
        ")\n",
        "ax.set_title('Pclass/Survived vs Fare')\n",
        "plt.show()"
      ],
      "execution_count": null,
      "outputs": []
    },
    {
      "cell_type": "markdown",
      "metadata": {
        "heading_collapsed": true,
        "hidden": true,
        "id": "5alxYbe0m6Gq"
      },
      "source": [
        "### Pclass/Survived vs Fare"
      ]
    },
    {
      "cell_type": "code",
      "metadata": {
        "ExecuteTime": {
          "end_time": "2019-06-16T15:02:24.621841Z",
          "start_time": "2019-06-16T15:02:24.357527Z"
        },
        "hidden": true,
        "id": "23bNhPw7m6Gq"
      },
      "source": [
        "fix, ax = plt.subplots(nrows=1,ncols=1,figsize = (12,6))\n",
        "sns.barplot(\n",
        "    x='Pclass',\n",
        "    y='Fare',\n",
        "    hue='Survived',\n",
        "    data=train,\n",
        "    #palette=pal\n",
        ")\n",
        "ax.set_title('Pclass/Survived vs Fare')\n",
        "plt.show()"
      ],
      "execution_count": null,
      "outputs": []
    },
    {
      "cell_type": "markdown",
      "metadata": {
        "heading_collapsed": true,
        "hidden": true,
        "id": "LzTjVOAAm6Gu"
      },
      "source": [
        "### Fare vs (Pclass and Survived)"
      ]
    },
    {
      "cell_type": "code",
      "metadata": {
        "ExecuteTime": {
          "end_time": "2019-06-16T15:02:26.344226Z",
          "start_time": "2019-06-16T15:02:25.538369Z"
        },
        "hidden": true,
        "scrolled": false,
        "id": "pRCYCT1Dm6Gv"
      },
      "source": [
        "temp = round(pd.pivot_table(train, \n",
        "                            values='Fare', \n",
        "                            index=['Pclass'], \n",
        "                            columns=['Survived'], \n",
        "                            aggfunc=['count',lambda x: len(x)] ),2)\n",
        "temp.rename(columns={'count':'Excluding NAN','<lambda>': 'Including NAN'}, inplace=True)\n",
        "print(temp)\n",
        "print('-'*40)\n",
        "\n",
        "print(\"Histograms\")\n",
        "grid = sns.FacetGrid(train, row = 'Pclass', col = 'Survived', size=2.5, aspect=1.6,ylim= [0,50])\n",
        "grid.map(sns.barplot, x='Embarked',\n",
        "    y='Fare',\n",
        "    hue='Survived')\n",
        "grid.add_legend()\n",
        "plt.show()\n",
        "print('-'*40)\n",
        "print(\"Normalized distributions\")\n",
        "grid = sns.FacetGrid(train, row='Pclass', col = 'Survived', size=2.5, aspect=1.6)\n",
        "grid.map(sns.distplot, 'Fare',color = 'g',bins=20,rug=True)\n",
        "grid.add_legend()\n",
        "plt.show()"
      ],
      "execution_count": null,
      "outputs": []
    },
    {
      "cell_type": "markdown",
      "metadata": {
        "heading_collapsed": true,
        "hidden": true,
        "id": "AH8vmjyWm6Gz"
      },
      "source": [
        "### Age vs (Embarked and Survived)"
      ]
    },
    {
      "cell_type": "code",
      "metadata": {
        "ExecuteTime": {
          "end_time": "2019-06-16T15:02:28.809642Z",
          "start_time": "2019-06-16T15:02:26.783040Z"
        },
        "hidden": true,
        "id": "G4KXAAF5m6G0"
      },
      "source": [
        "temp = round(pd.pivot_table(train, \n",
        "                            values='Fare', \n",
        "                            index=['Embarked'], \n",
        "                            columns=['Survived'], \n",
        "                            aggfunc=['count',lambda x: len(x)] ),2)\n",
        "temp.rename(columns={'count':'Excluding NAN','<lambda>': 'Including NAN'}, inplace=True)\n",
        "print(temp)\n",
        "print('-'*40)\n",
        "print(\"Histograms\")\n",
        "grid = sns.FacetGrid(train, row='Embarked', col = 'Survived', height=2.5, aspect=1.6)\n",
        "grid.map(plt.hist, 'Fare')\n",
        "grid.add_legend()\n",
        "plt.show()\n",
        "print('-'*40)\n",
        "print(\"Normalized distributions\")\n",
        "grid = sns.FacetGrid(train, row='Embarked', col = 'Survived', height=2.5, aspect=1.6)\n",
        "grid.map(sns.distplot, 'Fare',color = 'g')\n",
        "grid.add_legend()\n",
        "plt.show()"
      ],
      "execution_count": null,
      "outputs": []
    },
    {
      "cell_type": "markdown",
      "metadata": {
        "heading_collapsed": true,
        "hidden": true,
        "id": "Rj1UhsDCm6G2"
      },
      "source": [
        "### Age vs (Pclass and Embarked)"
      ]
    },
    {
      "cell_type": "code",
      "metadata": {
        "ExecuteTime": {
          "end_time": "2019-06-16T15:02:30.335536Z",
          "start_time": "2019-06-16T15:02:28.811635Z"
        },
        "hidden": true,
        "id": "jPLwc45em6G3"
      },
      "source": [
        "print(\"Histograms\")\n",
        "grid = sns.FacetGrid(train, row='Pclass', col = 'Embarked', size=2.5, aspect=1.6)\n",
        "grid.map(plt.hist, 'Fare',bins =20)\n",
        "grid.add_legend()\n",
        "plt.show()"
      ],
      "execution_count": null,
      "outputs": []
    },
    {
      "cell_type": "markdown",
      "metadata": {
        "heading_collapsed": true,
        "hidden": true,
        "id": "pHPoX4Orm6G7"
      },
      "source": [
        "###  Age statistics"
      ]
    },
    {
      "cell_type": "code",
      "metadata": {
        "ExecuteTime": {
          "end_time": "2019-06-16T15:02:30.429287Z",
          "start_time": "2019-06-16T15:02:30.337531Z"
        },
        "hidden": true,
        "id": "NHrdF0xfm6G8"
      },
      "source": [
        "print(\"No of people travelled\")\n",
        "temp = round(pd.pivot_table(train, \n",
        "                            values='Age', \n",
        "                            index=['Pclass','Sex'], \n",
        "                            columns=['Embarked'], \n",
        "                            aggfunc=[(lambda x: len(x))] ),2)\n",
        "temp.rename(columns={'<lambda>': '#of obervations '}, inplace=True)\n",
        "temp.columns=['C','Q','S']\n",
        "temp_col = pd.Categorical(['S','C','Q'],ordered =True)\n",
        "temp.reindex(temp_col, axis = 'columns')\n",
        "print(temp)\n",
        "print('-'*40)\n",
        "print(\"Missing values in Age column\")\n",
        "temp = round(pd.pivot_table(train, \n",
        "                            values='Age', \n",
        "                            index=['Pclass','Sex'], \n",
        "                            columns=['Embarked'], \n",
        "                            aggfunc=[(lambda x: sum(x.isnull()))] ),2)\n",
        "temp.rename(columns={'<lambda>': '#NAN-in-Age '}, inplace=True)\n",
        "temp.columns=['C','Q','S']\n",
        "temp.reindex(['S','C','Q'],axis = 'columns')\n",
        "print(temp)\n",
        "print('-'*40)\n",
        "print(\"Median Age\")\n",
        "temp = round(pd.pivot_table(train, \n",
        "                            values='Age', \n",
        "                            index=['Pclass','Sex'], \n",
        "                            columns=['Embarked'], \n",
        "                            aggfunc=[(lambda x: x.quantile()),'mean'] ),2)\n",
        "temp.rename(columns={'<lambda>': 'Median'}, inplace=True)\n",
        "#temp.columns=['C','Q','S']\n",
        "#temp.reindex(['S','C','Q'],axis = 'columns')\n",
        "print(temp)\n",
        "print('-'*40)\n"
      ],
      "execution_count": null,
      "outputs": []
    },
    {
      "cell_type": "markdown",
      "metadata": {
        "heading_collapsed": true,
        "id": "N54aLHsym6G9"
      },
      "source": [
        "# Observations"
      ]
    },
    {
      "cell_type": "code",
      "metadata": {
        "ExecuteTime": {
          "end_time": "2019-06-16T15:02:30.436267Z",
          "start_time": "2019-06-16T15:02:30.431281Z"
        },
        "hidden": true,
        "id": "Nq10vyoEm6G-"
      },
      "source": [
        "for i, temp in enumerate(OBS_dir):\n",
        "    print('({}) '.format(i+1)+temp)"
      ],
      "execution_count": null,
      "outputs": []
    },
    {
      "cell_type": "markdown",
      "metadata": {
        "heading_collapsed": true,
        "id": "qOa_DxiYm6HB"
      },
      "source": [
        "# Feature Engineering"
      ]
    },
    {
      "cell_type": "markdown",
      "metadata": {
        "heading_collapsed": true,
        "hidden": true,
        "id": "T697njPym6HC"
      },
      "source": [
        "### Drop Survival from train"
      ]
    },
    {
      "cell_type": "code",
      "metadata": {
        "ExecuteTime": {
          "end_time": "2019-06-16T15:05:32.614916Z",
          "start_time": "2019-06-16T15:05:32.607935Z"
        },
        "hidden": true,
        "id": "9zvlwL36m6HD"
      },
      "source": [
        "y_train = train.Survived\n",
        "train.drop('Survived', axis = 1, inplace = True)"
      ],
      "execution_count": null,
      "outputs": []
    },
    {
      "cell_type": "code",
      "metadata": {
        "ExecuteTime": {
          "end_time": "2019-06-16T15:06:13.265249Z",
          "start_time": "2019-06-16T15:06:13.260238Z"
        },
        "hidden": true,
        "id": "v7Aifyp-m6HH"
      },
      "source": [
        "print(y_train.shape)\n",
        "print(train.shape)\n",
        "\n",
        "dataset = [train,test]"
      ],
      "execution_count": null,
      "outputs": []
    },
    {
      "cell_type": "markdown",
      "metadata": {
        "heading_collapsed": true,
        "hidden": true,
        "id": "dP8r5k7Gm6HM"
      },
      "source": [
        "### Dropping Passenger ID"
      ]
    },
    {
      "cell_type": "code",
      "metadata": {
        "ExecuteTime": {
          "end_time": "2019-06-16T15:06:20.642669Z",
          "start_time": "2019-06-16T15:06:20.628689Z"
        },
        "hidden": true,
        "id": "_tps_T6fm6HN"
      },
      "source": [
        "print('Before')\n",
        "print(train.head())\n",
        "train.drop('PassengerId', axis= 1, inplace = True)\n",
        "test.drop('PassengerId', axis= 1, inplace = True)\n",
        "print(\"After\")\n",
        "print(train.head())"
      ],
      "execution_count": null,
      "outputs": []
    },
    {
      "cell_type": "markdown",
      "metadata": {
        "heading_collapsed": true,
        "hidden": true,
        "id": "wIYhU1zym6HQ"
      },
      "source": [
        "### Name"
      ]
    },
    {
      "cell_type": "markdown",
      "metadata": {
        "hidden": true,
        "id": "_gpRhoQgm6HS"
      },
      "source": [
        "We do two things here \n",
        "- Firstly, we extract the titles of the names such as (Mr, Miss,..). We see that all the title start with a space (' ') and end with a period ('.'). In between the space and period we have alphabets between a-z and A-Z. Therefore we use the method .str.extraxt(' ([A-Za-z]+)\\\\.')\n",
        "- Secondly, add the length of the name as 'Name_len' feature."
      ]
    },
    {
      "cell_type": "code",
      "metadata": {
        "ExecuteTime": {
          "end_time": "2019-06-16T15:06:54.748956Z",
          "start_time": "2019-06-16T15:06:54.731984Z"
        },
        "hidden": true,
        "id": "9oP3NlJSm6HT"
      },
      "source": [
        "for temp in dataset:\n",
        "    temp[\"Title\"] = train.Name.str.extract(' ([A-Za-z]+)\\.',expand = False)\n",
        "    temp['Name_len'] = train.Name.map(lambda x: len(x))\n",
        "dataset[0].Title.value_counts()"
      ],
      "execution_count": null,
      "outputs": []
    },
    {
      "cell_type": "markdown",
      "metadata": {
        "hidden": true,
        "id": "voHnlLeLm6HV"
      },
      "source": [
        "There are toomany unique features. Let us reduce them. Feaures such as \n",
        "Dr            7\n",
        "Rev           6\n",
        "Major         2\n",
        "Col           2\n",
        "Lady          1\n",
        "Don           1\n",
        "Jonkheer      1\n",
        "Sir           1\n",
        "Capt          1\n",
        "Countess      1\n",
        "can be grouped in to a feature called 'rare'\n",
        "\n",
        "Moreover, Mlle, Ms are equivalent to Miss, and finall Mme is equivalent to Mrs. Let us implement this"
      ]
    },
    {
      "cell_type": "code",
      "metadata": {
        "ExecuteTime": {
          "end_time": "2019-06-16T15:07:12.311037Z",
          "start_time": "2019-06-16T15:07:12.287102Z"
        },
        "hidden": true,
        "id": "lFGZPl0dm6HW"
      },
      "source": [
        "for temp in dataset:\n",
        "    temp['Title'] = temp['Title'].replace(['Lady', 'Countess','Capt', 'Col',\n",
        "                                                 'Don', 'Dr', 'Major', 'Rev', 'Sir', 'Jonkheer', 'Dona'], 'Rare')\n",
        "    temp['Title'] = temp['Title'].replace(['Mlle', 'Ms'], 'Miss')\n",
        "    temp['Title'] = temp['Title'].replace('Mme', 'Mrs')\n",
        "    temp.drop('Name',axis=1,inplace=True)\n",
        "    print(temp.head())"
      ],
      "execution_count": null,
      "outputs": []
    },
    {
      "cell_type": "code",
      "metadata": {
        "ExecuteTime": {
          "end_time": "2019-06-16T15:07:18.713621Z",
          "start_time": "2019-06-16T15:07:18.705630Z"
        },
        "hidden": true,
        "id": "hWcurlfQm6Hb"
      },
      "source": [
        "    title_mapping = {\"Mr\": 1, \"Miss\": 2, \"Mrs\": 3, \"Master\": 4, \"Rare\": 5}\n",
        "    for temp in dataset:\n",
        "        temp['Title'] = temp['Title'].map(title_mapping)\n",
        "        temp['Title'] = temp['Title'].fillna(0)"
      ],
      "execution_count": null,
      "outputs": []
    },
    {
      "cell_type": "code",
      "metadata": {
        "ExecuteTime": {
          "end_time": "2019-06-16T15:07:23.197612Z",
          "start_time": "2019-06-16T15:07:23.191628Z"
        },
        "hidden": true,
        "id": "Obn-u9AGm6Hd"
      },
      "source": [
        "dataset[0].Title.unique()"
      ],
      "execution_count": null,
      "outputs": []
    },
    {
      "cell_type": "markdown",
      "metadata": {
        "ExecuteTime": {
          "end_time": "2019-06-16T07:18:32.395173Z",
          "start_time": "2019-06-16T07:18:32.382189Z"
        },
        "heading_collapsed": true,
        "hidden": true,
        "id": "FNFLVu1gm6Hg"
      },
      "source": [
        "### Cabin"
      ]
    },
    {
      "cell_type": "markdown",
      "metadata": {
        "hidden": true,
        "id": "UDAben3Nm6Hh"
      },
      "source": [
        "There are somany missing data in cabins feature. However, it is possible that these people donot have cabins. Let us change this in to a new feature called Has_cabin"
      ]
    },
    {
      "cell_type": "code",
      "metadata": {
        "ExecuteTime": {
          "end_time": "2019-06-16T15:07:33.688887Z",
          "start_time": "2019-06-16T15:07:33.669932Z"
        },
        "hidden": true,
        "id": "cUfcEWV5m6Hh"
      },
      "source": [
        "for temp in dataset:\n",
        "    temp['Has_cabin'] = temp['Cabin'].apply(lambda x: 0 if type(x)==float else 1)\n",
        "    temp.drop('Cabin',axis=1,inplace=True)\n",
        "    print(temp.head())"
      ],
      "execution_count": null,
      "outputs": []
    },
    {
      "cell_type": "code",
      "metadata": {
        "ExecuteTime": {
          "end_time": "2019-06-16T15:07:42.205745Z",
          "start_time": "2019-06-16T15:07:42.198765Z"
        },
        "hidden": true,
        "id": "ZgfZQ9TVm6Hk"
      },
      "source": [
        "dataset[0]['Has_cabin'].value_counts()"
      ],
      "execution_count": null,
      "outputs": []
    },
    {
      "cell_type": "markdown",
      "metadata": {
        "hidden": true,
        "id": "6szdzoC4m6Ho"
      },
      "source": [
        "However, this is highly unlikely that only 204 people had cabins! I will drop this feature."
      ]
    },
    {
      "cell_type": "code",
      "metadata": {
        "ExecuteTime": {
          "end_time": "2019-06-16T15:07:46.422465Z",
          "start_time": "2019-06-16T15:07:46.415486Z"
        },
        "hidden": true,
        "id": "K_-eETtMm6Hp"
      },
      "source": [
        "dataset[0].drop('Has_cabin',axis=1,inplace =True)\n",
        "dataset[1].drop('Has_cabin',axis=1,inplace =True)"
      ],
      "execution_count": null,
      "outputs": []
    },
    {
      "cell_type": "markdown",
      "metadata": {
        "heading_collapsed": true,
        "hidden": true,
        "id": "rneMy48-m6Hr"
      },
      "source": [
        "### Ticket"
      ]
    },
    {
      "cell_type": "markdown",
      "metadata": {
        "hidden": true,
        "id": "NwuAM2Rlm6Hs"
      },
      "source": [
        "I am droping this feature, as I dont see any particular pattern."
      ]
    },
    {
      "cell_type": "code",
      "metadata": {
        "ExecuteTime": {
          "end_time": "2019-06-16T15:07:54.218150Z",
          "start_time": "2019-06-16T15:07:54.212166Z"
        },
        "hidden": true,
        "id": "jsVyBApxm6Hs"
      },
      "source": [
        "dataset[0].drop('Ticket',axis=1,inplace =True)\n",
        "dataset[1].drop('Ticket',axis=1,inplace =True)"
      ],
      "execution_count": null,
      "outputs": []
    },
    {
      "cell_type": "code",
      "metadata": {
        "ExecuteTime": {
          "end_time": "2019-06-16T15:07:57.832506Z",
          "start_time": "2019-06-16T15:07:57.822510Z"
        },
        "hidden": true,
        "id": "UWKzQJeHm6Hv"
      },
      "source": [
        "print(dataset[0].head())\n",
        "print(dataset[1].head())"
      ],
      "execution_count": null,
      "outputs": []
    },
    {
      "cell_type": "markdown",
      "metadata": {
        "heading_collapsed": true,
        "hidden": true,
        "id": "gZCzXP6-m6Hy"
      },
      "source": [
        "### Age"
      ]
    },
    {
      "cell_type": "markdown",
      "metadata": {
        "hidden": true,
        "id": "I-Rycbzwm6H0"
      },
      "source": [
        "#### Filling missing values"
      ]
    },
    {
      "cell_type": "markdown",
      "metadata": {
        "hidden": true,
        "id": "dgcyCF_vm6H2"
      },
      "source": [
        "Let us first fill the missing values. To do this group the data by Pclass, Embarked, Sex and Title. We can either use mean or median or mode or a random number between mean+/- std."
      ]
    },
    {
      "cell_type": "code",
      "metadata": {
        "ExecuteTime": {
          "end_time": "2019-06-16T15:08:09.366044Z",
          "start_time": "2019-06-16T15:08:09.355050Z"
        },
        "hidden": true,
        "id": "N43Ggy_9m6H2"
      },
      "source": [
        "test_train = pd.concat([train,test],axis =0)\n",
        "test_train.index"
      ],
      "execution_count": null,
      "outputs": []
    },
    {
      "cell_type": "code",
      "metadata": {
        "ExecuteTime": {
          "end_time": "2019-06-16T15:08:19.891392Z",
          "start_time": "2019-06-16T15:08:19.785684Z"
        },
        "hidden": true,
        "id": "9LApmo78m6H5"
      },
      "source": [
        "\n",
        "print(\"No of people travelled\")\n",
        "temp = round(pd.pivot_table(test_train, \n",
        "                            values='Age', \n",
        "                            index=['Pclass','Sex'], \n",
        "                            columns=['Embarked'], \n",
        "                            aggfunc=[(lambda x: len(x))] ),2).astype(int)\n",
        "temp.rename(columns={'<lambda>': '#of obervations '}, inplace=True)\n",
        "temp.columns=['C','Q','S']\n",
        "temp_col = pd.Categorical(['S','C','Q'],ordered =True)\n",
        "temp.reindex(temp_col, axis = 'columns')\n",
        "print(temp)\n",
        "print('-'*40)\n",
        "print(\"Number of Missing values in Age column\")\n",
        "temp = round(pd.pivot_table(test_train, \n",
        "                            values='Age', \n",
        "                            index=['Pclass','Sex',], \n",
        "                            columns=['Embarked'], \n",
        "                            aggfunc=[(lambda x: sum(x.isnull()))] ),2).astype(int)\n",
        "temp.rename(columns={'<lambda>': '#NAN-in-Age '}, inplace=True)\n",
        "temp.columns=['C','Q','S']\n",
        "temp.reindex(['S','C','Q'],axis = 'columns')\n",
        "print(temp)\n",
        "print('-'*40)\n",
        "print(\"Median Age\")\n",
        "temp = round(pd.pivot_table(test_train, \n",
        "                            values='Age', \n",
        "                            index=['Pclass','Sex'], \n",
        "                            columns=['Embarked'], \n",
        "                            aggfunc=[(lambda x: x.quantile()),'mean', 'std'] ),2)\n",
        "temp.rename(columns={'<lambda>': 'Median'}, inplace=True)\n",
        "#temp.columns=['C','Q','S']\n",
        "#temp.reindex(['S','C','Q'],axis = 'columns')\n",
        "print(temp)\n",
        "print('-'*40)"
      ],
      "execution_count": null,
      "outputs": []
    },
    {
      "cell_type": "markdown",
      "metadata": {
        "hidden": true,
        "id": "9q2rI0WSm6H-"
      },
      "source": [
        "As we have seen earlier, for better results we can band the Age feature such as kids, teenagers"
      ]
    },
    {
      "cell_type": "code",
      "metadata": {
        "ExecuteTime": {
          "end_time": "2019-06-16T15:08:24.144002Z",
          "start_time": "2019-06-16T15:08:24.111090Z"
        },
        "hidden": true,
        "id": "RhDEmf5Cm6H-"
      },
      "source": [
        "test_train = pd.concat([train,test], axis =0, ignore_index=True)\n",
        "test_train.head()"
      ],
      "execution_count": null,
      "outputs": []
    },
    {
      "cell_type": "code",
      "metadata": {
        "ExecuteTime": {
          "end_time": "2019-06-16T15:08:31.280952Z",
          "start_time": "2019-06-16T15:08:30.970759Z"
        },
        "hidden": true,
        "id": "iUwYHBPEm6IB"
      },
      "source": [
        "for sex in ['male','female']:\n",
        "    for pclass in range(1,4):\n",
        "        for emb in ['S','C','Q']:\n",
        "            for title in range(1,6):\n",
        "                new_train = test_train[(test_train['Sex']==sex) & \n",
        "                                 (test_train['Pclass'] == pclass) & \n",
        "                                 (test_train['Embarked'] == emb) & \n",
        "                                 (test_train['Title'] == title)]\n",
        "                num_null = new_train['Age'].isnull().sum()\n",
        "                if num_null >1:\n",
        "                    new_train_dropped_na = new_train.dropna()\n",
        "                    mean, std = new_train_dropped_na.Age.mean(), new_train_dropped_na.Age.std()\n",
        "                    test_train.loc[list(new_train[new_train.Age.isna()].index),'Age'] = np.random.randint(mean-std, mean+std, size = num_null).astype(float)\n",
        "                elif num_null ==1:\n",
        "                    new_train = test_train[(test_train['Title'] == title)]\n",
        "                    num_null = new_train['Age'].isnull().sum()\n",
        "                    if num_null >1:\n",
        "                        new_train_dropped_na = new_train.dropna()\n",
        "                        mean, std = new_train_dropped_na.Age.mean(), new_train_dropped_na.Age.std()\n",
        "                        test_train.loc[list(new_train[new_train.Age.isna()].index),'Age'] = np.random.randint(mean-std, mean+std, size = num_null).astype(float)\n",
        "test_train.Age = test_train.Age.astype(int)"
      ],
      "execution_count": null,
      "outputs": []
    },
    {
      "cell_type": "code",
      "metadata": {
        "ExecuteTime": {
          "end_time": "2019-06-16T15:08:36.402253Z",
          "start_time": "2019-06-16T15:08:36.398240Z"
        },
        "hidden": true,
        "id": "xywIvALum6ID"
      },
      "source": [
        "assert test_train.Age.isnull().sum()==0\n"
      ],
      "execution_count": null,
      "outputs": []
    },
    {
      "cell_type": "code",
      "metadata": {
        "ExecuteTime": {
          "end_time": "2019-06-16T15:08:40.809440Z",
          "start_time": "2019-06-16T15:08:40.805451Z"
        },
        "hidden": true,
        "id": "OssVm3sVm6IG"
      },
      "source": [
        "train = test_train.iloc[:891]\n",
        "test = test_train.iloc[891:]\n",
        "dataset = [train,test]"
      ],
      "execution_count": null,
      "outputs": []
    },
    {
      "cell_type": "markdown",
      "metadata": {
        "hidden": true,
        "id": "2fCkN1i0m6II"
      },
      "source": [
        "#### Age Banding"
      ]
    },
    {
      "cell_type": "markdown",
      "metadata": {
        "hidden": true,
        "id": "r7Co7yPtm6IJ"
      },
      "source": [
        "As seen earlier Age<16 and Age>64 should be good bands. However, Age bands between 16 to 64 is not well defined. Therefore, we simplt use 32 48 as the other bands. If this doesnt give good results we will change them later."
      ]
    },
    {
      "cell_type": "code",
      "metadata": {
        "ExecuteTime": {
          "end_time": "2019-06-16T15:08:56.662468Z",
          "start_time": "2019-06-16T15:08:56.291433Z"
        },
        "hidden": true,
        "scrolled": true,
        "id": "K3G2vBVCm6IJ"
      },
      "source": [
        "for temp in dataset:\n",
        "    temp.loc[ temp['Age'] <= 16, 'Age'] = 0\n",
        "    temp.loc[(temp['Age'] > 16) & (temp['Age'] <= 32), 'Age'] = 1\n",
        "    temp.loc[(temp['Age'] > 32) & (temp['Age'] <= 48), 'Age'] = 2\n",
        "    temp.loc[(temp['Age'] > 48) & (temp['Age'] <= 64), 'Age'] = 3\n",
        "    temp.loc[ temp['Age'] > 64, 'Age'] = 4\n",
        "print(train.head())\n",
        "print(test.head())"
      ],
      "execution_count": null,
      "outputs": []
    },
    {
      "cell_type": "markdown",
      "metadata": {
        "ExecuteTime": {
          "end_time": "2019-06-16T11:33:56.067597Z",
          "start_time": "2019-06-16T11:33:56.056627Z"
        },
        "heading_collapsed": true,
        "hidden": true,
        "id": "AhYnb7DSm6IL"
      },
      "source": [
        "### Sex"
      ]
    },
    {
      "cell_type": "code",
      "metadata": {
        "ExecuteTime": {
          "end_time": "2019-06-16T15:09:58.465210Z",
          "start_time": "2019-06-16T15:09:58.387419Z"
        },
        "hidden": true,
        "id": "gSsMGAMQm6IM"
      },
      "source": [
        "for temp in dataset:\n",
        "    temp.loc[:,'Sex'] = temp.loc[:,'Sex'].map( {'female': 0, 'male': 1} ).astype(int)\n",
        "train.head()"
      ],
      "execution_count": null,
      "outputs": []
    },
    {
      "cell_type": "markdown",
      "metadata": {
        "heading_collapsed": true,
        "hidden": true,
        "id": "SS-E97FAm6IQ"
      },
      "source": [
        "### Embarked"
      ]
    },
    {
      "cell_type": "markdown",
      "metadata": {
        "heading_collapsed": true,
        "hidden": true,
        "id": "Z6xyzYNXm6IQ"
      },
      "source": [
        "#### Filling the Missing values"
      ]
    },
    {
      "cell_type": "code",
      "metadata": {
        "ExecuteTime": {
          "end_time": "2019-06-16T15:10:10.903971Z",
          "start_time": "2019-06-16T15:10:10.892004Z"
        },
        "hidden": true,
        "id": "fG_3J-_km6IR"
      },
      "source": [
        "print(train[train.Embarked.isna()])\n",
        "print(test[test.Embarked.isna()])"
      ],
      "execution_count": null,
      "outputs": []
    },
    {
      "cell_type": "markdown",
      "metadata": {
        "hidden": true,
        "id": "T1RZxywKm6IX"
      },
      "source": [
        "There are only two missing values in Embarked and most ppl embarked from 'S'. Let us fill them with 'S'."
      ]
    },
    {
      "cell_type": "code",
      "metadata": {
        "ExecuteTime": {
          "end_time": "2019-06-16T15:10:17.203140Z",
          "start_time": "2019-06-16T15:10:17.133308Z"
        },
        "hidden": true,
        "id": "WRCxa7KCm6Ia"
      },
      "source": [
        "for temp in dataset:\n",
        "    temp.loc[:,'Embarked'] = temp.loc[:,'Embarked'].fillna('S')"
      ],
      "execution_count": null,
      "outputs": []
    },
    {
      "cell_type": "code",
      "metadata": {
        "ExecuteTime": {
          "end_time": "2019-06-16T15:10:21.542513Z",
          "start_time": "2019-06-16T15:10:21.533551Z"
        },
        "hidden": true,
        "id": "7T1xkHXzm6Ie"
      },
      "source": [
        "print(train[train.Embarked.isna()])\n",
        "print(test[test.Embarked.isna()])"
      ],
      "execution_count": null,
      "outputs": []
    },
    {
      "cell_type": "markdown",
      "metadata": {
        "ExecuteTime": {
          "end_time": "2019-06-16T12:08:46.630491Z",
          "start_time": "2019-06-16T12:08:46.619522Z"
        },
        "heading_collapsed": true,
        "hidden": true,
        "id": "j2yg9LfEm6Ih"
      },
      "source": [
        "#### Replaing Catogorical Values to numerics"
      ]
    },
    {
      "cell_type": "code",
      "metadata": {
        "ExecuteTime": {
          "end_time": "2019-06-16T15:11:11.511559Z",
          "start_time": "2019-06-16T15:11:11.435784Z"
        },
        "hidden": true,
        "id": "DpkS-1pam6Ii"
      },
      "source": [
        "for temp in dataset:\n",
        "    temp['Embarked'] = temp['Embarked'].map( {'S': 0, 'C': 1, 'Q': 2} ).astype(int)\n",
        "train.head()"
      ],
      "execution_count": null,
      "outputs": []
    },
    {
      "cell_type": "markdown",
      "metadata": {
        "hidden": true,
        "id": "OdNqbR9hm6Il"
      },
      "source": [
        "### Fare"
      ]
    },
    {
      "cell_type": "markdown",
      "metadata": {
        "heading_collapsed": true,
        "hidden": true,
        "id": "o9ZAAX39m6Il"
      },
      "source": [
        "#### Removing the outliers"
      ]
    },
    {
      "cell_type": "code",
      "metadata": {
        "ExecuteTime": {
          "end_time": "2019-06-16T15:11:36.169026Z",
          "start_time": "2019-06-16T15:11:36.121166Z"
        },
        "hidden": true,
        "id": "aB1l66Tcm6Im"
      },
      "source": [
        "rem_list =  list(train[train.Fare > 380].index)\n",
        "print(train.loc[rem_list,:])\n",
        "train.drop(rem_list ,axis =0 ,inplace =True)\n",
        "y_train.drop(rem_list ,axis =0 ,inplace =True)"
      ],
      "execution_count": null,
      "outputs": []
    },
    {
      "cell_type": "code",
      "metadata": {
        "ExecuteTime": {
          "end_time": "2019-06-16T15:12:13.584777Z",
          "start_time": "2019-06-16T15:12:13.579796Z"
        },
        "hidden": true,
        "id": "JnjrU60Jm6Io"
      },
      "source": [
        "print(train.shape)\n",
        "print(y_train.shape)"
      ],
      "execution_count": null,
      "outputs": []
    },
    {
      "cell_type": "markdown",
      "metadata": {
        "heading_collapsed": true,
        "hidden": true,
        "id": "cLWBGrvym6Ip"
      },
      "source": [
        "#### Filling Missing values"
      ]
    },
    {
      "cell_type": "code",
      "metadata": {
        "hidden": true,
        "id": "h3mdArM-m6Ip"
      },
      "source": [
        ""
      ],
      "execution_count": null,
      "outputs": []
    },
    {
      "cell_type": "code",
      "metadata": {
        "ExecuteTime": {
          "end_time": "2019-06-16T15:12:22.853726Z",
          "start_time": "2019-06-16T15:12:22.848724Z"
        },
        "hidden": true,
        "id": "I3eE0bBkm6Ir"
      },
      "source": [
        "print(train.Fare.isnull().sum())\n",
        "print(test.Fare.isnull().sum())\n",
        "print(\"I will fill it with the median value\")"
      ],
      "execution_count": null,
      "outputs": []
    },
    {
      "cell_type": "code",
      "metadata": {
        "ExecuteTime": {
          "end_time": "2019-06-16T15:12:30.747190Z",
          "start_time": "2019-06-16T15:12:30.707277Z"
        },
        "hidden": true,
        "id": "E35EThDpm6Iu"
      },
      "source": [
        "test.loc[:,'Fare'] = test.loc[:,'Fare'].fillna(test.loc[:,'Fare'].median())\n",
        "print(test.Fare.isnull().sum())"
      ],
      "execution_count": null,
      "outputs": []
    },
    {
      "cell_type": "markdown",
      "metadata": {
        "heading_collapsed": true,
        "hidden": true,
        "id": "Oxi_siRSm6Iv"
      },
      "source": [
        "#### Fare Banding"
      ]
    },
    {
      "cell_type": "markdown",
      "metadata": {
        "hidden": true,
        "id": "SjWZfZKbm6Iv"
      },
      "source": [
        "Why these values:? See Age vs sex in Visualization"
      ]
    },
    {
      "cell_type": "code",
      "metadata": {
        "ExecuteTime": {
          "end_time": "2019-06-16T15:03:02.620171Z",
          "start_time": "2019-06-16T15:03:02.616180Z"
        },
        "hidden": true,
        "id": "fjendLeLm6Iw"
      },
      "source": [
        "#train['FareBand'] = pd.qcut(train.loc[:,'Fare'], 4)"
      ],
      "execution_count": null,
      "outputs": []
    },
    {
      "cell_type": "code",
      "metadata": {
        "ExecuteTime": {
          "end_time": "2019-06-16T15:12:37.703591Z",
          "start_time": "2019-06-16T15:12:37.408350Z"
        },
        "hidden": true,
        "id": "Mqlhqu7fm6Ix"
      },
      "source": [
        "for temp in dataset:\n",
        "    temp.loc[ temp['Fare'] <= 7.91, 'Fare'] = 0\n",
        "    temp.loc[(temp['Fare'] > 7.91) & (temp['Fare'] <= 14.454), 'Fare'] = 1\n",
        "    temp.loc[(temp['Fare'] > 14.454) & (temp['Fare'] <= 31), 'Fare'] = 2\n",
        "    temp.loc[(temp['Fare'] > 31), 'Fare'] = 3\n",
        "#train.drop('FareBand ', axis =1, inplace =True)\n",
        "print(train.head())\n",
        "print(test.head())"
      ],
      "execution_count": null,
      "outputs": []
    },
    {
      "cell_type": "markdown",
      "metadata": {
        "heading_collapsed": true,
        "hidden": true,
        "id": "Y_f8Mpr4m6Iy"
      },
      "source": [
        "### SibSp and Parch"
      ]
    },
    {
      "cell_type": "markdown",
      "metadata": {
        "hidden": true,
        "id": "R-cr0JdLm6Iy"
      },
      "source": [
        "SibSp and Parch can be combined into Family size. We can add another column if he/she is alone."
      ]
    },
    {
      "cell_type": "code",
      "metadata": {
        "ExecuteTime": {
          "end_time": "2019-06-16T15:12:50.107660Z",
          "start_time": "2019-06-16T15:12:49.688782Z"
        },
        "hidden": true,
        "id": "NeZJSigmm6Iz"
      },
      "source": [
        "for temp in dataset:\n",
        "    temp.loc[:,'Family_size'] = temp.loc[:,'SibSp'] + temp.loc[:,'Parch'] + 1\n",
        "    temp.loc[:,'isAlone'] = 0\n",
        "    temp.loc[temp.loc[:,'Family_size'] == 1,'isAlone'] = 1\n",
        "print(train.head())\n",
        "print(test.head())"
      ],
      "execution_count": null,
      "outputs": []
    },
    {
      "cell_type": "code",
      "metadata": {
        "ExecuteTime": {
          "end_time": "2019-06-16T15:12:58.849863Z",
          "start_time": "2019-06-16T15:12:58.781040Z"
        },
        "hidden": true,
        "id": "XegvWQ2Om6I0"
      },
      "source": [
        "for temp in dataset:\n",
        "    temp.drop(['SibSp','Parch'], axis =1 , inplace= True)"
      ],
      "execution_count": null,
      "outputs": []
    },
    {
      "cell_type": "code",
      "metadata": {
        "ExecuteTime": {
          "end_time": "2019-06-16T15:13:03.033669Z",
          "start_time": "2019-06-16T15:13:03.023692Z"
        },
        "hidden": true,
        "id": "M1rFqDGrm6I1"
      },
      "source": [
        "print(train.head())\n",
        "print(test.head())"
      ],
      "execution_count": null,
      "outputs": []
    },
    {
      "cell_type": "markdown",
      "metadata": {
        "hidden": true,
        "id": "BhQRKVgnm6I2"
      },
      "source": [
        "#### Saving Data"
      ]
    },
    {
      "cell_type": "code",
      "metadata": {
        "ExecuteTime": {
          "end_time": "2019-06-16T15:13:22.853233Z",
          "start_time": "2019-06-16T15:13:22.799401Z"
        },
        "hidden": true,
        "id": "AHFjCV-zm6I5"
      },
      "source": [
        "train.to_csv('train_pp.csv')\n",
        "test.to_csv('test_pp.csv')\n",
        "y_train.to_csv('y_pp.csv')"
      ],
      "execution_count": null,
      "outputs": []
    },
    {
      "cell_type": "markdown",
      "metadata": {
        "heading_collapsed": true,
        "id": "SY9NobzTm6I6"
      },
      "source": [
        "# Correlations between features"
      ]
    },
    {
      "cell_type": "code",
      "metadata": {
        "ExecuteTime": {
          "end_time": "2019-06-16T15:13:37.647055Z",
          "start_time": "2019-06-16T15:13:37.070576Z"
        },
        "hidden": true,
        "id": "Sm6Os3r5m6I7"
      },
      "source": [
        "colormap = plt.cm.RdBu\n",
        "plt.figure(figsize=(14,12))\n",
        "plt.title('Pearson Correlation of Features', y=1.05, size=15)\n",
        "sns.heatmap(train.astype(float).corr(),linewidths=0.1,vmax=1.0, \n",
        "            square=True, cmap=colormap, linecolor='white', annot=True)\n",
        "plt.show()"
      ],
      "execution_count": null,
      "outputs": []
    },
    {
      "cell_type": "markdown",
      "metadata": {
        "heading_collapsed": true,
        "id": "of9Sa9vfm6I9"
      },
      "source": [
        "# Pipelines"
      ]
    },
    {
      "cell_type": "markdown",
      "metadata": {
        "ExecuteTime": {
          "end_time": "2019-06-16T13:11:39.373478Z",
          "start_time": "2019-06-16T13:11:39.368500Z"
        },
        "hidden": true,
        "id": "4afI7eOcm6I9"
      },
      "source": [
        "As a test case we will run a simple KNN classifier"
      ]
    },
    {
      "cell_type": "code",
      "metadata": {
        "ExecuteTime": {
          "end_time": "2019-06-16T15:13:44.524636Z",
          "start_time": "2019-06-16T15:13:44.484767Z"
        },
        "hidden": true,
        "id": "B7LDG9w-m6I-"
      },
      "source": [
        "# Setup the pipeline steps: steps\n",
        "steps = [('scaler', StandardScaler()),\n",
        "        ('knn', KNeighborsClassifier())]\n",
        "        \n",
        "# Create the pipeline: pipeline\n",
        "pipeline = Pipeline(steps)\n",
        "\n",
        "# Create train and test sets\n",
        "X_train, X_test, y_train, y_test = train_test_split(train,y_train,test_size = 0.3,random_state=42)\n",
        "\n",
        "# Fit the pipeline to the training set: knn_scaled\n",
        "knn_scaled = pipeline.fit(X_train,y_train)\n",
        "\n",
        "# Instantiate and fit a k-NN classifier to the unscaled data\n",
        "knn_unscaled = KNeighborsClassifier().fit(X_train, y_train)\n",
        "\n",
        "# Compute and print metrics\n",
        "print('Accuracy with Scaling: {}'.format(knn_scaled.score(X_test,y_test)))\n",
        "print('Accuracy without Scaling: {}'.format(knn_unscaled.score(X_test,y_test)))\n",
        "print(\"Scaling helps!\")\n"
      ],
      "execution_count": null,
      "outputs": []
    },
    {
      "cell_type": "markdown",
      "metadata": {
        "ExecuteTime": {
          "end_time": "2019-06-16T13:23:17.144009Z",
          "start_time": "2019-06-16T13:23:17.137034Z"
        },
        "hidden": true,
        "id": "hLkc-Sv2m6I_"
      },
      "source": [
        "Work in progress"
      ]
    },
    {
      "cell_type": "markdown",
      "metadata": {
        "id": "dhPqZC4Fm6I_"
      },
      "source": [
        "# Submission files"
      ]
    },
    {
      "cell_type": "code",
      "metadata": {
        "ExecuteTime": {
          "end_time": "2019-06-16T15:14:49.330870Z",
          "start_time": "2019-06-16T15:14:49.300926Z"
        },
        "id": "mde1uro7m6I_"
      },
      "source": [
        "y_pred = pipeline.predict(test)\n",
        "submission = pd.DataFrame({\n",
        "        \"PassengerId\": pass_id,\n",
        "        \"Survived\": y_pred\n",
        "    })\n",
        "submission.to_csv('submission.csv')"
      ],
      "execution_count": null,
      "outputs": []
    },
    {
      "cell_type": "code",
      "metadata": {
        "id": "bQTffWSNm6JA"
      },
      "source": [
        "train.shape"
      ],
      "execution_count": null,
      "outputs": []
    },
    {
      "cell_type": "code",
      "metadata": {
        "id": "iCiasXIwm6JD"
      },
      "source": [
        "y_train.shape"
      ],
      "execution_count": null,
      "outputs": []
    },
    {
      "cell_type": "code",
      "metadata": {
        "id": "93_CzvoRm6JF"
      },
      "source": [
        ""
      ],
      "execution_count": null,
      "outputs": []
    }
  ]
}