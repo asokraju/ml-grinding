{
  "nbformat": 4,
  "nbformat_minor": 0,
  "metadata": {
    "colab": {
      "name": "Ch 3 exercises.ipynb",
      "provenance": [],
      "authorship_tag": "ABX9TyMFTBS2smurX3NjmBZxyonO",
      "include_colab_link": true
    },
    "kernelspec": {
      "name": "python3",
      "display_name": "Python 3"
    }
  },
  "cells": [
    {
      "cell_type": "markdown",
      "metadata": {
        "id": "view-in-github",
        "colab_type": "text"
      },
      "source": [
        "<a href=\"https://colab.research.google.com/github/asokraju/ml-grinding/blob/master/hands_on_ml/Ch_3_exercises.ipynb\" target=\"_parent\"><img src=\"https://colab.research.google.com/assets/colab-badge.svg\" alt=\"Open In Colab\"/></a>"
      ]
    },
    {
      "cell_type": "markdown",
      "metadata": {
        "id": "00fkGf6_dxTB"
      },
      "source": [
        "# imports"
      ]
    },
    {
      "cell_type": "code",
      "metadata": {
        "id": "LOrUy_G8dDCT"
      },
      "source": [
        "import numpy as np\n",
        "import random\n",
        "import pandas as pd\n",
        "import matplotlib.pyplot as plt\n",
        "%matplotlib inline\n",
        "import pprint as pp\n",
        "\n",
        "import os\n",
        "import urllib\n",
        "import tarfile\n",
        "import urllib.request\n",
        "from zipfile import ZipFile\n",
        "\n",
        "import scipy\n",
        "from scipy import stats\n",
        "\n",
        "import sklearn\n",
        "from sklearn.datasets import fetch_openml\n",
        "from sklearn.base import clone\n",
        "from sklearn.model_selection import train_test_split\n",
        "from sklearn.model_selection import StratifiedShuffleSplit\n",
        "\n",
        "from sklearn.impute import SimpleImputer\n",
        "from sklearn.base import BaseEstimator, TransformerMixin\n",
        "from sklearn.pipeline import Pipeline\n",
        "from sklearn.pipeline import FeatureUnion\n",
        "\n",
        "from sklearn.compose import ColumnTransformer\n",
        "\n",
        "from sklearn.preprocessing import LabelBinarizer\n",
        "from sklearn.preprocessing import StandardScaler\n",
        "from sklearn.preprocessing import OneHotEncoder\n",
        "from sklearn.preprocessing import FunctionTransformer\n",
        "\n",
        "from sklearn.linear_model import LinearRegression\n",
        "from sklearn.linear_model import SGDRegressor\n",
        "from sklearn.linear_model import SGDClassifier\n",
        "\n",
        "from sklearn.svm import SVR\n",
        "\n",
        "from sklearn.metrics import mean_squared_error, confusion_matrix\n",
        "from sklearn.metrics import precision_score, recall_score, f1_score\n",
        "from sklearn.metrics import precision_recall_curve, roc_curve, roc_auc_score\n",
        "\n",
        "from sklearn.tree import DecisionTreeRegressor\n",
        "from sklearn.model_selection import cross_val_score, cross_val_predict\n",
        "from sklearn.model_selection import GridSearchCV\n",
        "from sklearn.model_selection import RandomizedSearchCV\n",
        "from sklearn.model_selection import StratifiedKFold\n",
        "\n",
        "from sklearn.ensemble import RandomForestRegressor\n",
        "from sklearn.ensemble import RandomForestClassifier\n",
        "#from sklearn.externals import joblib\n",
        "\n",
        "from sklearn.multiclass import OneVsOneClassifier\n",
        "\n",
        "from sklearn.neighbors import KNeighborsClassifier\n",
        "\n",
        "from pandas.plotting import scatter_matrix\n",
        "\n",
        "np.random.seed(42)\n",
        "random.seed(42)"
      ],
      "execution_count": null,
      "outputs": []
    },
    {
      "cell_type": "code",
      "metadata": {
        "id": "7wTES4UMeCt-"
      },
      "source": [
        ""
      ],
      "execution_count": null,
      "outputs": []
    },
    {
      "cell_type": "markdown",
      "metadata": {
        "id": "aMc5TnI8eDX0"
      },
      "source": [
        "#EX-1"
      ]
    },
    {
      "cell_type": "markdown",
      "metadata": {
        "id": "3XzQYw-5d3za"
      },
      "source": [
        "##data"
      ]
    },
    {
      "cell_type": "code",
      "metadata": {
        "id": "mln4Jk-jdws1"
      },
      "source": [
        "#mnist = fetch_openml('mnist_784', data_home='mnist_dataset/')\n",
        "mnist = fetch_openml('mnist_784')\n",
        "X = mnist.data\n",
        "y = mnist.target\n",
        "#X, y = fetch_openml('mnist_784', version=1, return_X_y=True)"
      ],
      "execution_count": null,
      "outputs": []
    },
    {
      "cell_type": "code",
      "metadata": {
        "colab": {
          "base_uri": "https://localhost:8080/"
        },
        "id": "S1BC_6vseGIJ",
        "outputId": "9ea9cb5e-a0d2-4107-8d9c-826816f739ca"
      },
      "source": [
        "split = StratifiedShuffleSplit(n_splits=1, test_size=10000, random_state=42)\n",
        "for train_index, test_index in split.split(X, y):\n",
        "    X_train = X[train_index]\n",
        "    X_test = X[test_index]\n",
        "    y_train = y[train_index]\n",
        "    y_test = y[test_index]\n",
        "print(\"test : \",len(X_test),\"\\ntrain : \",len(X_train))"
      ],
      "execution_count": null,
      "outputs": [
        {
          "output_type": "stream",
          "text": [
            "test :  10000 \n",
            "train :  60000\n"
          ],
          "name": "stdout"
        }
      ]
    },
    {
      "cell_type": "code",
      "metadata": {
        "colab": {
          "base_uri": "https://localhost:8080/"
        },
        "id": "Hp6ua_AseMkZ",
        "outputId": "e36ca9a4-c2e6-4eb1-8d8e-853166f2df36"
      },
      "source": [
        "pipeline = Pipeline([\n",
        "                     ('std_scaler', StandardScaler()),\n",
        "                     ('knn_clf', KNeighborsClassifier())\n",
        "                     \n",
        "])\n",
        "pp.pprint(sorted(pipeline.get_params().keys()))"
      ],
      "execution_count": null,
      "outputs": [
        {
          "output_type": "stream",
          "text": [
            "['knn_clf',\n",
            " 'knn_clf__algorithm',\n",
            " 'knn_clf__leaf_size',\n",
            " 'knn_clf__metric',\n",
            " 'knn_clf__metric_params',\n",
            " 'knn_clf__n_jobs',\n",
            " 'knn_clf__n_neighbors',\n",
            " 'knn_clf__p',\n",
            " 'knn_clf__weights',\n",
            " 'memory',\n",
            " 'std_scaler',\n",
            " 'std_scaler__copy',\n",
            " 'std_scaler__with_mean',\n",
            " 'std_scaler__with_std',\n",
            " 'steps',\n",
            " 'verbose']\n"
          ],
          "name": "stdout"
        }
      ]
    },
    {
      "cell_type": "code",
      "metadata": {
        "id": "uHKtoXWkex_s"
      },
      "source": [
        "param_grid = [\n",
        "              {#'knn_clf__weights':['uniform', 'distance'],\n",
        "               'knn_clf__n_neighbors':[2,5,8],#,5\n",
        "              'knn_clf__p':[1,2]#1\n",
        "               }\n",
        "]\n",
        "#best params{'knn_clf__n_neighbors': 5, 'knn_clf__p': 1}\n"
      ],
      "execution_count": null,
      "outputs": []
    },
    {
      "cell_type": "code",
      "metadata": {
        "id": "QcAO2o4ggMcD",
        "colab": {
          "base_uri": "https://localhost:8080/"
        },
        "outputId": "f19cb06e-7a26-4dd1-eb1c-f8c9b36dd0bd"
      },
      "source": [
        "grid_search = GridSearchCV(pipeline, param_grid, cv=3, scoring='accuracy')\n",
        "grid_search.fit(X_train, y_train)"
      ],
      "execution_count": null,
      "outputs": [
        {
          "output_type": "execute_result",
          "data": {
            "text/plain": [
              "GridSearchCV(cv=3, error_score=nan,\n",
              "             estimator=Pipeline(memory=None,\n",
              "                                steps=[('std_scaler',\n",
              "                                        StandardScaler(copy=True,\n",
              "                                                       with_mean=True,\n",
              "                                                       with_std=True)),\n",
              "                                       ('knn_clf',\n",
              "                                        KNeighborsClassifier(algorithm='auto',\n",
              "                                                             leaf_size=30,\n",
              "                                                             metric='minkowski',\n",
              "                                                             metric_params=None,\n",
              "                                                             n_jobs=None,\n",
              "                                                             n_neighbors=5, p=2,\n",
              "                                                             weights='uniform'))],\n",
              "                                verbose=False),\n",
              "             iid='deprecated', n_jobs=None,\n",
              "             param_grid=[{'knn_clf__n_neighbors': [2, 5, 8],\n",
              "                          'knn_clf__p': [1, 2]}],\n",
              "             pre_dispatch='2*n_jobs', refit=True, return_train_score=False,\n",
              "             scoring='accuracy', verbose=0)"
            ]
          },
          "metadata": {
            "tags": []
          },
          "execution_count": 12
        }
      ]
    },
    {
      "cell_type": "code",
      "metadata": {
        "id": "oWPp8DcVgpjf",
        "colab": {
          "base_uri": "https://localhost:8080/"
        },
        "outputId": "a58337d0-4958-44f5-922b-74e6da171c4b"
      },
      "source": [
        "cvres = grid_search.cv_results_\n",
        "# for mean_score, params in zip(cvres[\"accuracy\"], cvres['params']):\n",
        "#     print(np.sqrt(-mean_score), params)\n",
        "grid_search.best_params_"
      ],
      "execution_count": null,
      "outputs": [
        {
          "output_type": "execute_result",
          "data": {
            "text/plain": [
              "{'knn_clf__n_neighbors': 5, 'knn_clf__p': 1}"
            ]
          },
          "metadata": {
            "tags": []
          },
          "execution_count": 14
        }
      ]
    },
    {
      "cell_type": "code",
      "metadata": {
        "id": "E-f529bVhTUC",
        "colab": {
          "base_uri": "https://localhost:8080/"
        },
        "outputId": "99377fa0-1b10-4410-de97-ebabf3de5ec3"
      },
      "source": [
        "grid_search.best_estimator_"
      ],
      "execution_count": null,
      "outputs": [
        {
          "output_type": "execute_result",
          "data": {
            "text/plain": [
              "Pipeline(memory=None,\n",
              "         steps=[('std_scaler',\n",
              "                 StandardScaler(copy=True, with_mean=True, with_std=True)),\n",
              "                ('knn_clf',\n",
              "                 KNeighborsClassifier(algorithm='auto', leaf_size=30,\n",
              "                                      metric='minkowski', metric_params=None,\n",
              "                                      n_jobs=None, n_neighbors=5, p=1,\n",
              "                                      weights='uniform'))],\n",
              "         verbose=False)"
            ]
          },
          "metadata": {
            "tags": []
          },
          "execution_count": 15
        }
      ]
    },
    {
      "cell_type": "code",
      "metadata": {
        "id": "2upN8UbChaXw"
      },
      "source": [
        "final_model = grid_search.best_estimator_\n",
        "final_predictions = grid_search.best_estimator_.predict(X_test)"
      ],
      "execution_count": null,
      "outputs": []
    },
    {
      "cell_type": "code",
      "metadata": {
        "id": "r9K9EAOYhqf1",
        "colab": {
          "base_uri": "https://localhost:8080/",
          "height": 456
        },
        "outputId": "801a0392-925b-45bc-bcb6-06b6938fa457"
      },
      "source": [
        "conf_mat = confusion_matrix(y_test, final_predictions)\n",
        "print(conf_mat)\n",
        "row_sums = conf_mat.sum(axis=1, keepdims=True)\n",
        "norm_conf_mat = conf_mat / row_sums\n",
        "np.fill_diagonal(norm_conf_mat, 0)\n",
        "plt.matshow(norm_conf_mat, cmap=plt.cm.gray)\n",
        "plt.show()"
      ],
      "execution_count": null,
      "outputs": [
        {
          "output_type": "stream",
          "text": [
            "[[ 980    2    0    0    0    0    3    0    0    1]\n",
            " [   0 1123    0    0    1    0    1    0    0    0]\n",
            " [  11   21  939    7    2    0    2   16    1    0]\n",
            " [   0    5    7  982    0   11    2    6    5    2]\n",
            " [   0    9    1    0  935    0    2    3    0   25]\n",
            " [   6    3    0   13    2  857   11    2    2    6]\n",
            " [   6    2    0    0    1    6  966    0    1    0]\n",
            " [   2   16    3    0    8    0    0  997    0   16]\n",
            " [   8   16    1   26    8   22    4    3  875   12]\n",
            " [   2   11    0    9   12    2    0   16    2  940]]\n"
          ],
          "name": "stdout"
        },
        {
          "output_type": "display_data",
          "data": {
            "image/png": "[encoded data removed]",
            "text/plain": [
              "<Figure size 288x288 with 1 Axes>"
            ]
          },
          "metadata": {
            "tags": [],
            "needs_background": "light"
          }
        }
      ]
    },
    {
      "cell_type": "markdown",
      "metadata": {
        "id": "uQJq44iWh8l6"
      },
      "source": [
        "#EX-2"
      ]
    },
    {
      "cell_type": "code",
      "metadata": {
        "id": "sT5q8g72huf6"
      },
      "source": [
        "def data_augmentation(X_train, y_train):\n",
        "    shifted_images = []\n",
        "    shifted_img_labels = []\n",
        "    for img, lab in zip(X_train, y_train):\n",
        "        for r_shift in [-1,1]:\n",
        "            for rc_shift in [-1,1]:\n",
        "                shifted_image = scipy.ndimage.shift(input = img, shift = [r_shift, rc_shift])\n",
        "                shifted_images.append(shifted_image)\n",
        "                shifted_img_labels.append(lab)\n",
        "    return np.array(shifted_images), np.array(shifted_img_labels)\n"
      ],
      "execution_count": null,
      "outputs": []
    },
    {
      "cell_type": "code",
      "metadata": {
        "id": "_iRvPHhOinhi"
      },
      "source": [
        ""
      ],
      "execution_count": null,
      "outputs": []
    }
  ]
}